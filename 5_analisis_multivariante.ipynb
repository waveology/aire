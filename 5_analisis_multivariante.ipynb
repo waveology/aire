{
  "nbformat": 4,
  "nbformat_minor": 0,
  "metadata": {
    "colab": {
      "provenance": [],
      "toc_visible": true,
      "authorship_tag": "ABX9TyOTnxUwLfFauHaBCcDzm38j",
      "include_colab_link": true
    },
    "kernelspec": {
      "name": "python3",
      "display_name": "Python 3"
    },
    "language_info": {
      "name": "python"
    }
  },
  "cells": [
    {
      "cell_type": "markdown",
      "metadata": {
        "id": "view-in-github",
        "colab_type": "text"
      },
      "source": [
        "<a href=\"https://colab.research.google.com/github/waveology/aire/blob/main/5_analisis_multivariante.ipynb\" target=\"_parent\"><img src=\"https://colab.research.google.com/assets/colab-badge.svg\" alt=\"Open In Colab\"/></a>"
      ]
    },
    {
      "cell_type": "markdown",
      "source": [
        "# Regresión de datos"
      ],
      "metadata": {
        "id": "crfGnGpVlF9C"
      }
    },
    {
      "cell_type": "markdown",
      "source": [
        "Vamos a explorar algunas posibilidades de análisis de datos de calidad del aire que ofrece Python. Usaremos como hasta ahora datos meteorológicos de AEMET y de contaminación de la Comunidad de Madrid."
      ],
      "metadata": {
        "id": "y3nJxRpslS5R"
      }
    },
    {
      "cell_type": "markdown",
      "source": [
        "###1. Copia del repositorio de datos\n",
        "---"
      ],
      "metadata": {
        "id": "YQsi3b0Lq4-H"
      }
    },
    {
      "cell_type": "markdown",
      "source": [
        "Descargamos el repositorio de código y datos para trabajar más cómodamente:"
      ],
      "metadata": {
        "id": "-o3G-_7Wyerw"
      }
    },
    {
      "cell_type": "code",
      "source": [
        "# Directorio de trabajo en Colab \n",
        "# ------------------------------------------------------------\n",
        "%cd /content\n",
        "\n",
        "# Si existe una copia previa del repositorio, la borramos:\n",
        "# ----------------------------------------------------------------------------\n",
        "!  rm -rf aire\n",
        "\n",
        "# Creamos una copia del repositorio SOLO si no existe previamente\n",
        "# ----------------------------------------------------------------------------\n",
        "! [ ! -d aire ] && git clone https://github.com/waveology/aire.git\n",
        "\n",
        "# Entramos en el repositorio que acabamos de copiar\n",
        "# --------------------------------------------------\n",
        "%cd aire"
      ],
      "metadata": {
        "id": "cyNmTWPgCFMY"
      },
      "execution_count": null,
      "outputs": []
    },
    {
      "cell_type": "markdown",
      "source": [
        "Importamos las extensiones que vamos a necesitar. \n",
        "\n",
        "Para simplificar la tarea hemos empaquetado las funciones de lectura de datos en un fichero independiente (lectura_de_datos.py) "
      ],
      "metadata": {
        "id": "jnTZ1fEu_Y5-"
      }
    },
    {
      "cell_type": "code",
      "source": [
        "import lectura_de_datos                                   # lee ficheros de datos meteorológicos y de contaminación de Madrid\n",
        "import matplotlib.pyplot as plt                           # dibujo de gráficos\n",
        "from matplotlib.dates import MonthLocator, DateFormatter  # formato de fechas \n",
        "from scipy import stats                                   # cálculo estadístico\n",
        "import numpy as np                                        # matrices\n",
        "import pandas as pd                                       # dataframes\n",
        "from sklearn.linear_model import LinearRegression         # regresión\n",
        "from sklearn.preprocessing import PolynomialFeatures      # regresión"
      ],
      "metadata": {
        "id": "DnsOSQsG9RX9"
      },
      "execution_count": null,
      "outputs": []
    },
    {
      "cell_type": "markdown",
      "source": [
        "###2. Inventario de magnitudes\n",
        "---"
      ],
      "metadata": {
        "id": "TdfNMqrBzzrP"
      }
    },
    {
      "cell_type": "markdown",
      "source": [
        "####Estaciones de medida\n",
        "**Código | Municipio | Nombre**\n",
        "\n",
        "---\n",
        "*       28005002   :    (  5,  'ALCALÁ DE HENARES'), \n",
        "*       28006004   :    (  6,  'ALCOBENDAS'), \n",
        "*       28007004   :    (  7,  'ALCORCÓN'), \n",
        "*       28009001   :\t(  9,  'ALGETE'), \n",
        "*       28013002   :\t( 13,  'ARANJUEZ'), \n",
        "*       28014002   :\t( 14,  'ARGANDA DEL REY'),\n",
        "*       28016001   :\t( 16,  'EL ATAZAR'),\n",
        "*       28045002   :\t( 45,  'COLMENAR VIEJO'), \n",
        "*       28047002   :\t( 47,  'COLLADO VILLALBA'), \n",
        "*       28049003   :\t( 49,  'COSLADA'), \n",
        "*       28058004   :\t( 58,  'FUENLABRADA'), \n",
        "*       28065014   :\t( 65,  'GETAFE'), \n",
        "*       28067001   :\t( 67,  'GUADALIX DE LA SIERRA'), \n",
        "*       28074007   :\t( 74,  'LEGANÉS'), \n",
        "*       28080003   :\t( 80,  'MAJADAHONDA'), \n",
        "*       28092005   :\t( 92,  'MÓSTOLES'), \n",
        "*       28102001   :\t(102,  'ORUSCO DE TAJUÑA'), \n",
        "*       28120001   : \t(120,  'PUERTO DE COTOS'), \n",
        "*       28123002   :\t(123,  'RIVAS-VACIAMADRID'), \n",
        "*       28133002   :\t(133,  'SAN MARTÍN DE VALDEIGLESIAS'), \n",
        "*       28148004   :\t(148,  'TORREJÓN DE ARDOZ'), \n",
        "*       28161001   :\t(161,  'VALDEMORO'), \n",
        "*       28171001   :\t(171,  'VILLA DEL PRADO'), \n",
        "*       28180001   :\t(180,  'VILLAREJO DE SALVANÉS')\n"
      ],
      "metadata": {
        "id": "-EgX5hzMEg63"
      }
    },
    {
      "cell_type": "markdown",
      "source": [
        "####Contaminantes\n",
        "**Código  |  Magnitud  | Unidades**\n",
        "\n",
        "  \n",
        "---\n",
        "*      1 \t:  ('Dióxido de azufre', 'μg/m³'),\n",
        "*      6 \t:  ('Monóxido de carbono', 'mg/m³'),\n",
        "*      7 \t:  ('Monóxido de nitrógeno', 'μg/m³'),\n",
        "*      8 \t:  ('Dióxido de nitrógeno', 'μg/m³'),\n",
        "*      9 \t:  ('Partículas en suspensión < PM2.5', 'μg/m³'),\n",
        "*     10 \t:  ('Partículas en suspensión < PM10',  'μg/m³'),\n",
        "*     12 \t:  ('Óxidos de nitrógeno', 'μg/m³'),\n",
        "*     14 \t:  ('Ozono', 'μg/m³'),\n",
        "*     20 \t:  ('Tolueno', 'μg/m³'),\n",
        "*     22 \t:  ('Black Carbon', 'μg/m³'),\n",
        "*     30 \t:  ('Benceno', 'μg/m³'),\n",
        "*     42 \t:  ('Hidrocarburos totales', 'mg/m³'),\n",
        "*     44 \t:  ('Hidrocarburos no metánicos', 'mg/m³'),\n",
        "*    431  :  ('MetaParaXileno', 'μg/m³')\n",
        "    }"
      ],
      "metadata": {
        "id": "oCkRdKRMoCuG"
      }
    },
    {
      "cell_type": "markdown",
      "source": [
        "####Meteorología\n",
        "**Código | Magnitud | Unidades**\n",
        "\n",
        "---\n",
        "*   81 :\t('Velocidad del viento',     'm/s'), \n",
        "*   82 :\t('Dirección del viento',     'º'), \n",
        "*   83 :\t('Temperatura',              'ºC'), \n",
        "*   86 :\t('Humedad relativa',         '%'), \n",
        "*   87 :\t('Presión atmosférica',      'hPa'), \n",
        "*   88 :\t('Radiación solar',          'W/m2'), \n",
        "*   89 :\t('Precipitación',            'mm')"
      ],
      "metadata": {
        "id": "TCfvaJr8F0BF"
      }
    },
    {
      "cell_type": "markdown",
      "source": [
        "###3. Carga de datos\n",
        "---"
      ],
      "metadata": {
        "id": "lB9I3Y-e0gd7"
      }
    },
    {
      "cell_type": "markdown",
      "source": [
        "Vamos a cargar datos de dos magnitudes para estudiar posibles relaciones:\n"
      ],
      "metadata": {
        "id": "DUpWHT5G0stW"
      }
    },
    {
      "cell_type": "code",
      "source": [
        "\n",
        "# # Ejemplo con datos meteorológicos\n",
        "# # --------------------------------\n",
        "# anio = 2022\n",
        "# col1 = 'temperatura'\n",
        "# col2 = 'humedad'\n",
        "# df1, magnitud1, unidades1,estacion1 = lectura_de_datos.meteo(\n",
        "#                                     'datos/meteo/%s.csv' % anio,\n",
        "#                                      codigo_magnitud = 83,        # Temperatura\n",
        "#                                      codigo_estacion = 28092005   # Guadalix de la Sierra  \n",
        "#                                      ) \n",
        "# df2, magnitud2, unidades2,estacion2 = lectura_de_datos.meteo(\n",
        "#                                     'datos/meteo/%s.csv' % anio,\n",
        "#                                      codigo_magnitud = 86 ,        # Humedad relativa\n",
        "#                                      codigo_estacion = 28092005    # Guadalix de la Sierra  \n",
        "#                                      ) \n",
        "\n",
        "\n",
        "# Ejemplo con datos de contaminación\n",
        "# ----------------------------------\n",
        "anio = 2021\n",
        "col1 = 'pm2.5'\n",
        "col2 = 'pm10'\n",
        "df1, magnitud1, unidades1,estacion1 = lectura_de_datos.comunidad(\n",
        "                                    'datos/comunidad/%s.csv' % anio,\n",
        "                                     codigo_magnitud = 9,          # PM2.5\n",
        "                                     codigo_estacion = 28065014    # Getafe\n",
        "                                     ) \n",
        "df2, magnitud2, unidades2,estacion2 = lectura_de_datos.comunidad(\n",
        "                                    'datos/comunidad/%s.csv' % anio,\n",
        "                                     codigo_magnitud = 10 ,        # PM10\n",
        "                                     codigo_estacion = 28065014    # Getafe\n",
        "                                     ) \n",
        "\n",
        "# Asignamos un nombre significativo a la columna 'valor'\n",
        "# -------------------------------------------------------\n",
        "df1.rename(columns={'valor':col1}, inplace=True)\n",
        "df2.rename(columns={'valor':col2}, inplace=True)\n",
        "\n",
        "# Fusionamos ambas series de datos en un mismo dataframe\n",
        "# --------------------------------------------------------\n",
        "df = pd.merge(df1, df2, left_index=True, right_index=True)\n",
        "\n",
        "print(df.describe())"
      ],
      "metadata": {
        "id": "325Q-Kqw1pIf"
      },
      "execution_count": null,
      "outputs": []
    },
    {
      "cell_type": "markdown",
      "source": [
        "###4. Visualización de series temporales\n",
        "---"
      ],
      "metadata": {
        "id": "8fhJiZOzrOhA"
      }
    },
    {
      "cell_type": "markdown",
      "source": [
        "Echamos un vistazo a ambas series temporales:"
      ],
      "metadata": {
        "id": "sfhHXsgvH0u2"
      }
    },
    {
      "cell_type": "code",
      "source": [
        "# Ambas series en el mismo gráfico\n",
        "# ---------------------------------\n",
        "df.plot(\n",
        "        marker='o',                                           # Símbolo\n",
        "        ms=1,                                                 # Tamaño del símbolo\n",
        "        lw=0,                                                 # Grosor de líneas de conexión\n",
        "        grid=True,                                            # Rejilla\n",
        "        figsize=(12,8),                                       # Tamaño del gráfico\n",
        "        legend=True,                                          # Leyenda\n",
        "        title='%s VS %s   -    %s  -  %s' % (magnitud2,magnitud1,estacion1,anio),                 # Titulo        \n",
        "        xlabel= '%s %s' % (magnitud1,unidades1),              # Etiqueta X   \n",
        "        ylabel= '%s %s' % (magnitud2,unidades2)               # Etiqueta Y   \n",
        "        )\n",
        "plt.show()\n",
        "\n",
        "# # Cada serie en un gráfico independiente\n",
        "# # ---------------------------------------\n",
        "# fig, ax = plt.subplots(nrows=2,ncols=1,figsize=(12,8))\n",
        "# ax[0].plot(df[col1])\n",
        "# ax[1].plot(df[col2])\n",
        "# for a in ax :\n",
        "#    a.grid(True)\n",
        "#    a.set_ylim(0,200)\n",
        "# plt.show()"
      ],
      "metadata": {
        "id": "P9nMegxcHtrX"
      },
      "execution_count": null,
      "outputs": []
    },
    {
      "cell_type": "markdown",
      "source": [
        "###5. Comparación de series\n",
        "---"
      ],
      "metadata": {
        "id": "6i2huBytrdBm"
      }
    },
    {
      "cell_type": "markdown",
      "source": [
        "Representamos una serie de datos respecto a la otra:"
      ],
      "metadata": {
        "id": "WK9TM-oDtYET"
      }
    },
    {
      "cell_type": "code",
      "source": [
        "ax = df.plot(x=col1, y=col2,\n",
        "    marker='o',                                           # Símbolo\n",
        "    ms=3,                                                 # Tamaño del símbolo\n",
        "    lw=0,                                                 # Grosor de líneas de conexión\n",
        "    color='blue',                                         # Color\n",
        "    grid=True,                                            # Rejilla\n",
        "    figsize=(12,8),                                       # Tamaño del gráfico\n",
        "    legend=False,                                         # Leyenda\n",
        "    title='%s vs %s   -    %s  -  %s' % (magnitud2,magnitud1,estacion1,anio),                 # Titulo        \n",
        "    xlabel= '%s %s' % (magnitud1,unidades1),              # Etiqueta X   \n",
        "    ylabel= '%s %s' % (magnitud2,unidades2),              # Etiqueta Y   \n",
        "    xlim=(0,200),\n",
        "    ylim=(0,200)\n",
        ")\n",
        "ax.set_aspect('equal')\n",
        "plt.show()"
      ],
      "metadata": {
        "id": "y55I_Rt7teGU"
      },
      "execution_count": null,
      "outputs": []
    },
    {
      "cell_type": "markdown",
      "source": [
        "###6. Regresión a una recta\n",
        "---"
      ],
      "metadata": {
        "id": "bCBVropTrrEX"
      }
    },
    {
      "cell_type": "markdown",
      "source": [
        "Creamos un modelo lineal para ajustar los datos"
      ],
      "metadata": {
        "id": "ngvmmTB68F7-"
      }
    },
    {
      "cell_type": "code",
      "source": [
        "x = np.array(df[col1]).reshape(-1,1)  # Convierte una fila en una columna\n",
        "y = np.array(df[col2])"
      ],
      "metadata": {
        "id": "2z4NCuI_EQhp"
      },
      "execution_count": null,
      "outputs": []
    },
    {
      "cell_type": "code",
      "source": [
        " model     = LinearRegression().fit(x,y)\n",
        " ajuste    = model.predict(x)"
      ],
      "metadata": {
        "id": "BvBnQvAc8Nxx"
      },
      "execution_count": null,
      "outputs": []
    },
    {
      "cell_type": "code",
      "source": [
        "fig, ax = plt.subplots(figsize=(12,8))\n",
        "ax.plot(x,y,\n",
        "        marker = 'o',\n",
        "        ms     =  3,\n",
        "        lw     =  0,\n",
        "        color  = 'blue'\n",
        "        )\n",
        "ax.plot(x,ajuste, ls='-', lw=3, color='red')\n",
        "ax.grid(True)\n",
        "ax.set_title('%s VS %s   -    %s  -  %s' % (magnitud2,magnitud1,estacion1,anio)) # Titulo        \n",
        "ax.set_xlabel('%s %s' % (magnitud1,unidades1))                                   # Etiqueta X   \n",
        "ax.set_ylabel('%s %s' % (magnitud2,unidades2))                                   # Etiqueta Y \n",
        "plt.show()  "
      ],
      "metadata": {
        "id": "MvsL7iw9JaOj"
      },
      "execution_count": null,
      "outputs": []
    },
    {
      "cell_type": "markdown",
      "source": [
        "El coeficiente de determinación $R^{2}$ toma valores entre cero y uno y mide la calidad del ajuste:"
      ],
      "metadata": {
        "id": "ZdkuoQucQflp"
      }
    },
    {
      "cell_type": "code",
      "source": [
        "r2 = model.score(x,y)\n",
        "print('R\\u00b2 = %f' % r2)"
      ],
      "metadata": {
        "id": "jGC2MD0VRsg4"
      },
      "execution_count": null,
      "outputs": []
    },
    {
      "cell_type": "markdown",
      "source": [
        "Podemos obtener el valor en el que la recta de ajuste intersecta el eje y:"
      ],
      "metadata": {
        "id": "SInZK2bBSRvX"
      }
    },
    {
      "cell_type": "code",
      "source": [
        "b = model.intercept_\n",
        "print('b = %f' % b)"
      ],
      "metadata": {
        "id": "aZoWCXowSL88"
      },
      "execution_count": null,
      "outputs": []
    },
    {
      "cell_type": "markdown",
      "source": [
        "Y también la pendiente de la recta:"
      ],
      "metadata": {
        "id": "FXXg8IqxShT_"
      }
    },
    {
      "cell_type": "code",
      "source": [
        "a = model.coef_\n",
        "print('a = %f' % a[0])"
      ],
      "metadata": {
        "id": "0Vnq6LcQSsgn"
      },
      "execution_count": null,
      "outputs": []
    },
    {
      "cell_type": "markdown",
      "source": [
        "De manera que nuestra recta de ajuste viene dada por:\n",
        "\n",
        "### <center>$Y  = a * X + b$</center>\n",
        "\n",
        "Podemos incorporar esta información al gráfico:"
      ],
      "metadata": {
        "id": "uMhjHCFxTbx5"
      }
    },
    {
      "cell_type": "code",
      "source": [
        "info_ajuste  = 'Y = %.3f * X + %.3f\\nR$^{2}=%.3f$' % (a,b,r2)\n",
        "titulo       = '\\n%s VS %s   -    %s  -  %s\\n%s' % (magnitud2,magnitud1,estacion1,anio,info_ajuste)\n",
        "\n",
        "fig, ax = plt.subplots(figsize=(12,8))\n",
        "ax.plot(x,y,\n",
        "        marker = 'o',\n",
        "        ms     =  3,\n",
        "        lw     =  0,\n",
        "        color  = 'blue'\n",
        "        )\n",
        "ax.plot(x,ajuste, ls='-', lw=3, color='red')\n",
        "ax.grid(True)\n",
        "ax.set_title(titulo, loc='center')                             # Titulo        \n",
        "ax.set_xlabel('%s %s' % (magnitud1,unidades1))   # Etiqueta X   \n",
        "ax.set_ylabel('%s %s' % (magnitud2,unidades2))   # Etiqueta Y \n",
        "plt.show()  "
      ],
      "metadata": {
        "id": "HHjXaEpATn-0"
      },
      "execution_count": null,
      "outputs": []
    },
    {
      "cell_type": "markdown",
      "source": [
        "###7. Regresión a un polinomio\n",
        "---"
      ],
      "metadata": {
        "id": "BIqLTmkMr5PI"
      }
    },
    {
      "cell_type": "markdown",
      "source": [
        "Vamos a aumentar los grados de libertar del ajuste usando un polinomio de grado arbitrario:\n",
        "\n",
        "### <center>$Y = a\\ X^{3} + b\\ X^{2} + c\\ X + d$</center>"
      ],
      "metadata": {
        "id": "G8sfW6ZFSQD2"
      }
    },
    {
      "cell_type": "code",
      "source": [
        "\n",
        "# Volvemos a extraer las columnas de datos del dataframe\n",
        "# -------------------------------------------------------\n",
        "x = np.array(df[col1])\n",
        "y = np.array(df[col2])\n",
        "\n",
        "# Regresión polinomial de grado n\n",
        "# -------------------------------\n",
        "poly = PolynomialFeatures(degree=3, include_bias=False)\n",
        "\n",
        "# Preparación de datos\n",
        "# ---------------------\n",
        "poly_features = poly.fit_transform(x.reshape(-1, 1))\n",
        "\n",
        "# Ajuste\n",
        "# -------\n",
        "model = LinearRegression()\n",
        "model.fit(poly_features,y)\n",
        "\n",
        "ajuste = model.predict(poly_features)\n",
        "print(model.intercept_, model.coef_)"
      ],
      "metadata": {
        "id": "1xdfIZPEmI-O"
      },
      "execution_count": null,
      "outputs": []
    },
    {
      "cell_type": "code",
      "source": [
        "# Estos son los coeficientes del polinomio\n",
        "c, b, a   = model.coef_\n",
        "d         = model.intercept_\n",
        "\n",
        "xn = np.arange(x.min(),x.max(),step=1)\n",
        "polinomio = a * xn**3 + b * xn**2 + c * xn + d"
      ],
      "metadata": {
        "id": "ap2kY1lpAM1X"
      },
      "execution_count": null,
      "outputs": []
    },
    {
      "cell_type": "code",
      "source": [
        "fig, ax = plt.subplots(figsize=(12,8))\n",
        "ax.plot(x,y,\n",
        "        marker = 'o',\n",
        "        ms     = 3,\n",
        "        lw     = 0,\n",
        "        color  = 'blue'\n",
        "        )\n",
        "ax.plot(xn,polinomio, marker=None, ms=0, lw=3,color='red')\n",
        "ax.grid(True)\n",
        "poli = 'Y = (%.4f) * x$^{3}$ + (%.4f) * x$^{2}$ + (%.4f) * X + (%.4f)' % (a,b,c,d)\n",
        "ax.set_title('%s VS %s   -    %s  -  %s\\n%s' % (magnitud2,magnitud1,estacion1,anio,poli)) # Titulo        \n",
        "ax.set_xlabel('%s %s' % (magnitud1,unidades1))                                   # Etiqueta X   \n",
        "ax.set_ylabel('%s %s' % (magnitud2,unidades2))                                   # Etiqueta Y  \n",
        "plt.show()"
      ],
      "metadata": {
        "id": "S9-YspBunnuO"
      },
      "execution_count": null,
      "outputs": []
    },
    {
      "cell_type": "markdown",
      "source": [
        "###8. Eliminación de datos atípicos\n",
        "---"
      ],
      "metadata": {
        "id": "xKZdowwksA90"
      }
    },
    {
      "cell_type": "markdown",
      "source": [
        "¿Cómo cambian estos resultados si eliminamos los datos **atípicos**?"
      ],
      "metadata": {
        "id": "M2uszYTKKqLn"
      }
    },
    {
      "cell_type": "code",
      "source": [
        "# Calculamos los percentiles 25 y 75 de la primera columna\n",
        "# ---------------------------------------------------------\n",
        "p25_x, p75_x = df['pm2.5'].quantile((0.25,0.75))\n",
        "\n",
        "# Calculamos el rango intercuartílico de la primera columna\n",
        "# --------------------------------------------------------\n",
        "riq_x = p75_x - p25_x\n",
        "\n",
        "# Calculamos los percentiles 25 y 75 de la segunda  columna\n",
        "# ---------------------------------------------------------\n",
        "p25_y, p75_y = df['pm10'].quantile((0.25,0.75))\n",
        "\n",
        "# Calculamos el rango intercuartílico de la primera columna\n",
        "# --------------------------------------------------------\n",
        "riq_y = p75_y - p25_y\n",
        "\n",
        "# Eliminamos los valores que se encuentran más allá\n",
        "# de 1.5 veces el rango intercuartílico\n",
        "# ---------------------------------------------------\n",
        "df = df[\n",
        "        (df['pm2.5'] < 1.5 * (p75_x + riq_x)) & \n",
        "        (df['pm2.5'] > 1.5 * (p25_x - riq_x)) & \n",
        "        (df['pm10']  < 1.5 * (p75_y + riq_y)) & \n",
        "        (df['pm10']  > 1.5 * (p25_y - riq_y))\n",
        "   ]"
      ],
      "metadata": {
        "id": "0tWQUaewKhmh"
      },
      "execution_count": null,
      "outputs": []
    }
  ]
}