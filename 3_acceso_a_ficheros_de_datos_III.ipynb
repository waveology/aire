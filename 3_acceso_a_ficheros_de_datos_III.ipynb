{
  "nbformat": 4,
  "nbformat_minor": 0,
  "metadata": {
    "colab": {
      "provenance": [],
      "toc_visible": true,
      "authorship_tag": "ABX9TyOSR6gNYjc26xMd3ndSactB",
      "include_colab_link": true
    },
    "kernelspec": {
      "name": "python3",
      "display_name": "Python 3"
    },
    "language_info": {
      "name": "python"
    }
  },
  "cells": [
    {
      "cell_type": "markdown",
      "metadata": {
        "id": "view-in-github",
        "colab_type": "text"
      },
      "source": [
        "<a href=\"https://colab.research.google.com/github/waveology/aire/blob/main/3_acceso_a_ficheros_de_datos_III.ipynb\" target=\"_parent\"><img src=\"https://colab.research.google.com/assets/colab-badge.svg\" alt=\"Open In Colab\"/></a>"
      ]
    },
    {
      "cell_type": "markdown",
      "source": [
        "# El acceso a datos almacenados en ficheros III"
      ],
      "metadata": {
        "id": "Ne1ehplL3XWb"
      }
    },
    {
      "cell_type": "markdown",
      "source": [
        "* En este notebook repetimos las operaciones vistas en el anterior pero en este caso, para el acceso a los [datos meteorológicos AEMET](https://datos.comunidad.madrid/catalogo/dataset/calidad_aire_datos_meteo_historico). \n",
        "\n",
        "* El inventario de contenidos se encuentra [aquí](https://datos.comunidad.madrid/catalogo/dataset/129bbaae-7fa3-4043-8fa8-14c2fbee2502/resource/e79693a5-97b9-4b38-9c1a-a8cf621d7f43/download/descripcion-fichero-open-data-meteorologico.pdf)"
      ],
      "metadata": {
        "id": "-GGtsV8bWb3a"
      }
    },
    {
      "cell_type": "markdown",
      "source": [
        "###1. Definición de la función \n",
        "---"
      ],
      "metadata": {
        "id": "CEE2M99S3oO-"
      }
    },
    {
      "cell_type": "markdown",
      "source": [
        "* La estructura de los datos es similar a la de los datos de contaminación que vimos en el Notebook anterior:"
      ],
      "metadata": {
        "id": "LAbrj9Rh6Wuv"
      }
    },
    {
      "cell_type": "code",
      "execution_count": null,
      "metadata": {
        "id": "yUHr0xjHWP0B"
      },
      "outputs": [],
      "source": [
        "def obtener_datos(anio=2023, magnitud=8, estacion=14, municipio=65) :\n",
        "   \"\"\"\n",
        "   Lee el contenido de un fichero anual de datos de contaminación, selecciona\n",
        "   los que corresponden a una estación y a una magnitud deseada.\n",
        "   Devuelve los datos en una tabla \n",
        "   \"\"\"\n",
        "\n",
        "   # Importamos la extensión Pandas para trabajar con tablas\n",
        "   # --------------------------------------------------------\n",
        "   import pandas as pd\n",
        "\n",
        "   # Datos meteorológicos de AEMET\n",
        "   # -----------------------------------------------------------------------\n",
        "   url = \"https://raw.githubusercontent.com/waveology/aire/main/datos/meteo\"\n",
        "\n",
        "   # Descarga los datos si no se han descargado previamente\n",
        "   # ------------------------------------------------------------\n",
        "   ![ ! -f {anio}.csv ] && wget {url}/{anio}.csv -O {anio}.csv\n",
        "\n",
        "   # Lee el fichero de datos\n",
        "   # -----------------------\n",
        "   fichero = '%s.csv' % anio\n",
        "   df = pd.read_csv(fichero,  \n",
        "                 sep=';', \n",
        "                 decimal='.')\n",
        "   # Filtramos por magnitud, estación y municipio\n",
        "   # --------------------------------------------      \n",
        "   df = df[ (df['magnitud']  ==  magnitud) \n",
        "       &    (df['estacion']  == estacion) \n",
        "       &    (df['municipio'] == municipio)]\n",
        "\n",
        "   # Eliminamos columnas no necesarias\n",
        "   # -----------------------------------\n",
        "   df = df.drop(columns=['provincia','municipio','estacion','punto_muestreo','magnitud'])\n",
        "\n",
        "   # Pasamos la hora que está en columnas a datos en filas\n",
        "   # ---------------------------------------------------------\n",
        "   df1 = df.melt(id_vars=['ano','mes','dia'],\n",
        "                 value_vars = [ 'h%02d' % i for i in range(1,25)],\n",
        "                 var_name='hora',\n",
        "                 value_name='valor'\n",
        "                 )\n",
        "\n",
        "   # Convertimos la cadena de texto con el dato horario a valor numérico\n",
        "   # --------------------------------------------------------------------\n",
        "   df1['hora'] = df1['hora'].apply(lambda x : int(x[1:]))\n",
        "\n",
        "   # Pasamos la validez que está en columnas a datos en filas\n",
        "   # ---------------------------------------------------------\n",
        "   df2 = df.melt(id_vars=['ano','mes','dia'],\n",
        "                 value_vars = [ 'v%02d' % i for i in range(1,25)],\n",
        "                 var_name='hora',\n",
        "                 value_name='flag'\n",
        "                 )\n",
        "\n",
        "   # Convertimos la cadena de texto con la validez del dato a valor numérico\n",
        "   # ------------------------------------------------------------------------   \n",
        "   df2['hora'] = df2['hora'].apply(lambda x : int(x[1:]))\n",
        "\n",
        "   # Fusionamos ambos dataframes\n",
        "   # ----------------------------\n",
        "   df = df1.merge(df2)\n",
        "\n",
        "   # Eliminamos los datos no válidos y eliminamos la columna de validez\n",
        "   # -------------------------------------------------------------------\n",
        "   df = df[df['flag'] == 'V'].drop(columns='flag')\n",
        "\n",
        "   # Creamos una columna para el tiempo\n",
        "   # -----------------------------------\n",
        "   df['fecha'] = pd.to_datetime({'year':df.ano,'month':df.mes,'day':df.dia,'hour':df.hora})\n",
        "\n",
        "   # Elimninamos columnas no necesarias\n",
        "   # -------------------------------------\n",
        "   df = df.drop(columns=['ano','mes','dia','hora'])\n",
        "\n",
        "   # Reordenamos las columnas (no es necesario)\n",
        "   df = df[['fecha','valor']]\n",
        "\n",
        "   # Establecemos el tiempo como índice\n",
        "   # ------------------------------------\n",
        "   df.set_index(['fecha'],inplace=True)\n",
        "\n",
        "   # Ordenamos los datos por tiempo creciente\n",
        "   df.sort_index(inplace=True)\n",
        "   \n",
        "   #Info\n",
        "   print('Leídos %d datos' % len(df))\n",
        "   \n",
        "   return df"
      ]
    },
    {
      "cell_type": "markdown",
      "source": [
        "###2. Invocando la función\n",
        "---"
      ],
      "metadata": {
        "id": "NbR-kPj36AXy"
      }
    },
    {
      "cell_type": "markdown",
      "source": [
        "* Seleccionamos un año, una estación y una variable meteorológica:"
      ],
      "metadata": {
        "id": "0JMQONjz6zxr"
      }
    },
    {
      "cell_type": "code",
      "source": [
        "# Elegimos el año 2022\n",
        "# --------------------\n",
        "anio = 2022\n",
        "\n",
        "# Leemos la temperatura en dos estaciones, Getafe y Guadalix\n",
        "# --------------------------------------------------------------\n",
        "temperatura_getafe   = obtener_datos(anio=anio, magnitud=83, estacion=14, municipio=65)\n",
        "temperatura_guadalix = obtener_datos(anio=anio, magnitud=83, estacion=1,  municipio=67)\n",
        "\n",
        "# Leemos el viento en dos estaciones, Getafe y Guadalix\n",
        "# --------------------------------------------------------------\n",
        "viento_getafe        = obtener_datos(anio=anio, magnitud=81, estacion=14, municipio=65)\n",
        "viento_guadalix      = obtener_datos(anio=anio, magnitud=81, estacion=1,  municipio=67)\n",
        "\n",
        "# Leemos la radiación solar en dos estaciones, Getafe y Guadalix\n",
        "# --------------------------------------------------------------\n",
        "radiacion_getafe     = obtener_datos(anio=anio, magnitud=88, estacion=14, municipio=65)\n",
        "radiacion_guadalix   = obtener_datos(anio=anio, magnitud=88, estacion=1,  municipio=67)"
      ],
      "metadata": {
        "id": "LEhXebNSE5_K"
      },
      "execution_count": null,
      "outputs": []
    },
    {
      "cell_type": "markdown",
      "source": [
        "* Representamos la evolución de las temperaturas en ambas estaciones a lo largo de 2022:"
      ],
      "metadata": {
        "id": "G38yuFgHsWL7"
      }
    },
    {
      "cell_type": "code",
      "source": [
        "# Importamos la extensión de gráficos Matplotlib\n",
        "# ------------------------------------------------\n",
        "import matplotlib.pyplot as plt\n",
        "\n",
        "# Definimos el gráfico en el que dibujaremos las dos series\n",
        "# -----------------------------------------------------------\n",
        "fig,ax = plt.subplots(figsize=(15,10))\n",
        "\n",
        "# Dibujamos la serie de temperaturas de Getafe\n",
        "# ----------------------------------------------\n",
        "ax.plot(temperatura_getafe.index, temperatura_getafe.valor,     marker='o', ms=1, lw=0, color='black',label='Getafe')\n",
        "\n",
        "# Dibujamos la serie de temperaturas de Guadalix\n",
        "# ----------------------------------------------\n",
        "ax.plot(temperatura_guadalix.index, temperatura_guadalix.valor, marker='o', ms=1, lw=0, color='red',label='Guadalix')\n",
        "\n",
        "# Ponemos un título\n",
        "# ------------------\n",
        "ax.set_title('Evolución de la temperatura a 2 metros a lo largo del año 2022', size=20)\n",
        "\n",
        "# Añadimos una rejilla de fondo\n",
        "# ------------------------------\n",
        "ax.grid()\n",
        "\n",
        "# Añadimos una leyenda para distinguir las series\n",
        "# ------------------------------------------------\n",
        "ax.legend()\n",
        "\n",
        "# Dibujo\n",
        "# ----------\n",
        "plt.show()"
      ],
      "metadata": {
        "id": "YbAc3gEVIMaY"
      },
      "execution_count": null,
      "outputs": []
    },
    {
      "cell_type": "markdown",
      "source": [
        "###3. Ajustes en la presentación de series múltiples\n",
        "---"
      ],
      "metadata": {
        "id": "gmqxjFszAwgp"
      }
    },
    {
      "cell_type": "markdown",
      "source": [
        "* Para comparar visualmente varias series de datos puede ser más adecuado presentarlas en una rejilla.\n",
        "* En este ejemplo presentamos los datos de ambas estaciones en dos columnas."
      ],
      "metadata": {
        "id": "SFVESeJr9o_V"
      }
    },
    {
      "cell_type": "code",
      "source": [
        "# Dimensionamos el gráfico como 3 filas y 2 columnas\n",
        "# ---------------------------------------------------\n",
        "fig,ax = plt.subplots(nrows = 3, \n",
        "                      ncols = 2,\n",
        "                      figsize=(16,7)\n",
        "                      )\n",
        "\n",
        "# Ahora ax es una matriz tal que:\n",
        "# --------------------------------\n",
        "#       ax[0,0] ----> temperatura en Getafe\n",
        "#       ax[0,1] ----> temperatura en Guadalix\n",
        "#       ax[1,0] ----> viento en Getafe\n",
        "#       ax[1,1] ----> viento en Guadalix\n",
        "#       ax[2,0] ----> radiación en Getafe\n",
        "#       ax[2,1] ----> radiación en Guadalix\n",
        "\n",
        "# Temperatura de Getafe\n",
        "# -----------------------\n",
        "ax[0,0].plot(temperatura_getafe.index, temperatura_getafe.valor,        marker='o', ms=1, lw=0, color='blue')\n",
        "ax[0,0].set_title('Getafe     -     Temperatura ($\\degree$C)')\n",
        "ax[0,0].set_ylim(-7,42)\n",
        "\n",
        "# Temperatura en Guadalix\n",
        "# ------------------------\n",
        "ax[0,1].plot(temperatura_guadalix.index, temperatura_guadalix.valor,    marker='o', ms=1, lw=0, color='blue')\n",
        "ax[0,1].set_title('Guadalix     -     Temperatura ($\\degree$C)')\n",
        "ax[0,1].set_ylim(-7,42)\n",
        "\n",
        "# Viento en Getafe\n",
        "# ----------------\n",
        "ax[1,0].plot(viento_getafe.index,      viento_getafe.valor,             marker='o', ms=1, lw=0, color='green')\n",
        "ax[1,0].set_title('Getafe     -     Viento (m/s)')\n",
        "ax[1,0].set_ylim(0,10)\n",
        "\n",
        "# Viento en Guadalix\n",
        "# -------------------\n",
        "ax[1,1].plot(viento_guadalix.index,      viento_guadalix.valor,         marker='o', ms=1, lw=0, color='green')\n",
        "ax[1,1].set_title('Guadalix     -     Viento (m/s)')\n",
        "ax[1,1].set_ylim(0,10)\n",
        "\n",
        "# Radiación en Getafe\n",
        "# -------------------\n",
        "ax[2,0].plot(radiacion_getafe.index,      radiacion_getafe.valor,       marker='o', ms=1, lw=0, color='red')\n",
        "ax[2,0].set_title('Getafe     -     Radiación (W/m$^{2}$)')\n",
        "ax[2,0].set_ylim(0,1300)\n",
        "\n",
        "# Radiación en Guadalix\n",
        "# ---------------------\n",
        "ax[2,1].plot(radiacion_guadalix.index,      radiacion_guadalix.valor,   marker='o', ms=1, lw=0, color='red')\n",
        "ax[2,1].set_title('Guadalix     -     Radiación (W/m$^{2}$)')\n",
        "ax[2,1].set_ylim(0,1300)\n",
        "\n",
        "# Para recorrer la matriz como si fuera un vector\n",
        "# ------------------------------------------------\n",
        "for a in np.ravel(ax):\n",
        "  # Asignamos una rejilla a cada gráfico\n",
        "  # -------------------------------------\n",
        "  a.grid(True)\n",
        "\n",
        "# Ponemos un título general\n",
        "# ---------------------------\n",
        "plt.suptitle('Año 2022', size=20)\n",
        "\n",
        "# Realiza ajustes automáticos para mejorar la visibilidad\n",
        "# ---------------------------------------------------------\n",
        "plt.tight_layout()\n",
        "\n",
        "# Dibujo\n",
        "# -----\n",
        "plt.show()"
      ],
      "metadata": {
        "id": "n_GGjPbGPwwt"
      },
      "execution_count": null,
      "outputs": []
    },
    {
      "cell_type": "markdown",
      "source": [
        "###4. Resumen\n",
        "---"
      ],
      "metadata": {
        "id": "O_L8WrbPBKBw"
      }
    },
    {
      "cell_type": "markdown",
      "source": [
        "En este notebook hemos visto:\n",
        "\n",
        "* Cómo aplicamos a los datos meteorológicos un tratamiento similar al de los datos de contaminación\n",
        "* Cómo presentar series múltiples de datos en matrices de gráficos\n",
        "* Cómo realizar el ajuste automático de posicionamiento y dimensiones"
      ],
      "metadata": {
        "id": "jCjPMVX4BOw0"
      }
    }
  ]
}