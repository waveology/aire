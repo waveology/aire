{
  "nbformat": 4,
  "nbformat_minor": 0,
  "metadata": {
    "colab": {
      "provenance": [],
      "authorship_tag": "ABX9TyP4QazSHX6eeJaxQeo4JDy8",
      "include_colab_link": true
    },
    "kernelspec": {
      "name": "python3",
      "display_name": "Python 3"
    },
    "language_info": {
      "name": "python"
    }
  },
  "cells": [
    {
      "cell_type": "markdown",
      "metadata": {
        "id": "view-in-github",
        "colab_type": "text"
      },
      "source": [
        "<a href=\"https://colab.research.google.com/github/waveology/aire/blob/main/3_acceso_a_ficheros_de_datos_III.ipynb\" target=\"_parent\"><img src=\"https://colab.research.google.com/assets/colab-badge.svg\" alt=\"Open In Colab\"/></a>"
      ]
    },
    {
      "cell_type": "markdown",
      "source": [
        "# El acceso a datos almacenados en ficheros III"
      ],
      "metadata": {
        "id": "Ne1ehplL3XWb"
      }
    },
    {
      "cell_type": "markdown",
      "source": [
        "En este notebook repetimos las operaciones vistas en el anterior pero en este caso, para el acceso a los [datos meteorológicos AEMET](https://datos.comunidad.madrid/catalogo/dataset/calidad_aire_datos_meteo_historico). \n",
        "\n",
        "El inventario de contenidos se encuentra [aquí](https://datos.comunidad.madrid/catalogo/dataset/129bbaae-7fa3-4043-8fa8-14c2fbee2502/resource/e79693a5-97b9-4b38-9c1a-a8cf621d7f43/download/descripcion-fichero-open-data-meteorologico.pdf)"
      ],
      "metadata": {
        "id": "-GGtsV8bWb3a"
      }
    },
    {
      "cell_type": "markdown",
      "source": [
        "###1. Definición de la función \n",
        "---"
      ],
      "metadata": {
        "id": "CEE2M99S3oO-"
      }
    },
    {
      "cell_type": "code",
      "execution_count": null,
      "metadata": {
        "id": "yUHr0xjHWP0B"
      },
      "outputs": [],
      "source": [
        "def obtener_datos(anio=2023, magnitud=8, estacion=14, municipio=65) :\n",
        "\n",
        "   import pandas as pd\n",
        "\n",
        "   # Datos meteorológicos de AEMET\n",
        "   # -----------------------------------------------------------------------\n",
        "   url = \"https://raw.githubusercontent.com/waveology/aire/main/datos/meteo\"\n",
        "\n",
        "   # Descarga los datos si no se han descargado previamente\n",
        "   # ------------------------------------------------------------\n",
        "   ![ ! -f {anio}.csv ] && wget {url}/{anio}.csv -O {anio}.csv\n",
        "\n",
        "   # Lee el fichero de datos\n",
        "   # -----------------------\n",
        "   fichero = '%s.csv' % anio\n",
        "   df = pd.read_csv(fichero,  \n",
        "                 sep=';', \n",
        "                 decimal='.')\n",
        "   # Filtramos por magnitud, estación y municipio\n",
        "   # --------------------------------------------      \n",
        "   df = df[ (df['magnitud']  ==  magnitud) \n",
        "       &    (df['estacion']  == estacion) \n",
        "       &    (df['municipio'] == municipio)]\n",
        "\n",
        "   # Eliminamos columnas no necesarias\n",
        "   # -----------------------------------\n",
        "   df = df.drop(columns=['provincia','municipio','estacion','punto_muestreo','magnitud'])\n",
        "\n",
        "   # Pasamos la hora que está en columnas a datos en filas\n",
        "   # ---------------------------------------------------------\n",
        "   df1 = df.melt(id_vars=['ano','mes','dia'],\n",
        "                 value_vars = [ 'h%02d' % i for i in range(1,25)],\n",
        "                 var_name='hora',\n",
        "                 value_name='valor'\n",
        "                 )\n",
        "\n",
        "   # Convertimos la cadena de texto con el dato horario a valor numérico\n",
        "   # --------------------------------------------------------------------\n",
        "   df1['hora'] = df1['hora'].apply(lambda x : int(x[1:]))\n",
        "\n",
        "   # Pasamos la validez que está en columnas a datos en filas\n",
        "   # ---------------------------------------------------------\n",
        "   df2 = df.melt(id_vars=['ano','mes','dia'],\n",
        "                 value_vars = [ 'v%02d' % i for i in range(1,25)],\n",
        "                 var_name='hora',\n",
        "                 value_name='flag'\n",
        "                 )\n",
        "\n",
        "   # Convertimos la cadena de texto con la validez del dato a valor numérico\n",
        "   # ------------------------------------------------------------------------   \n",
        "   df2['hora'] = df2['hora'].apply(lambda x : int(x[1:]))\n",
        "\n",
        "   # Fusionamos ambos dataframes\n",
        "   # ----------------------------\n",
        "   df = df1.merge(df2)\n",
        "\n",
        "   # Eliminamos los datos no válidos y eliminamos la columna de validez\n",
        "   # -------------------------------------------------------------------\n",
        "   df = df[df['flag'] == 'V'].drop(columns='flag')\n",
        "\n",
        "   # Creamos una columna para el tiempo\n",
        "   # -----------------------------------\n",
        "   df['fecha'] = pd.to_datetime({'year':df.ano,'month':df.mes,'day':df.dia,'hour':df.hora})\n",
        "\n",
        "   # Elimninamos columnas no necesarias\n",
        "   # -------------------------------------\n",
        "   df = df.drop(columns=['ano','mes','dia','hora'])\n",
        "\n",
        "   # Reordenamos las columnas (no es necesario)\n",
        "   df = df[['fecha','valor']]\n",
        "\n",
        "   # Establecemos el tiempo como índice\n",
        "   # ------------------------------------\n",
        "   df.set_index(['fecha'],inplace=True)\n",
        "\n",
        "   # Ordenamos los datos por tiempo creciente\n",
        "   df.sort_index(inplace=True)\n",
        "   \n",
        "   #Info\n",
        "   print('Leídos %d datos' % len(df))\n",
        "   \n",
        "   return df"
      ]
    },
    {
      "cell_type": "markdown",
      "source": [
        "###2. Invocando la función\n",
        "---"
      ],
      "metadata": {
        "id": "NbR-kPj36AXy"
      }
    },
    {
      "cell_type": "code",
      "source": [
        "anio = 2022\n",
        "temperatura_getafe   = obtener_datos(anio=anio, magnitud=83, estacion=14, municipio=65)\n",
        "temperatura_guadalix = obtener_datos(anio=anio, magnitud=83, estacion=1,  municipio=67)\n",
        "\n",
        "viento_getafe        = obtener_datos(anio=anio, magnitud=81, estacion=14, municipio=65)\n",
        "viento_guadalix      = obtener_datos(anio=anio, magnitud=81, estacion=1,  municipio=67)\n",
        "\n",
        "radiacion_getafe     = obtener_datos(anio=anio, magnitud=88, estacion=14, municipio=65)\n",
        "radiacion_guadalix   = obtener_datos(anio=anio, magnitud=88, estacion=1,  municipio=67)"
      ],
      "metadata": {
        "id": "LEhXebNSE5_K"
      },
      "execution_count": null,
      "outputs": []
    },
    {
      "cell_type": "markdown",
      "source": [
        "Generamos graficos para los registros"
      ],
      "metadata": {
        "id": "G38yuFgHsWL7"
      }
    },
    {
      "cell_type": "code",
      "source": [
        "import matplotlib.pyplot as plt\n",
        "import numpy as np\n",
        "\n",
        "fig,ax = plt.subplots(figsize=(15,10))\n",
        "\n",
        "ax.plot(temperatura_getafe.index, temperatura_getafe.valor,     marker='o', ms=1, lw=0, color='blue',label='Getafe')\n",
        "ax.plot(temperatura_guadalix.index, temperatura_guadalix.valor, marker='o', ms=1, lw=0, color='red',label='Guadalix')\n",
        "ax.grid()\n",
        "ax.legend()\n"
      ],
      "metadata": {
        "id": "YbAc3gEVIMaY"
      },
      "execution_count": null,
      "outputs": []
    },
    {
      "cell_type": "code",
      "source": [
        "fig,ax = plt.subplots(3,2,figsize=(16,7))\n",
        "\n",
        "ax[0,0].plot(temperatura_getafe.index, temperatura_getafe.valor,        marker='o', ms=1, lw=0, color='blue')\n",
        "ax[0,0].set_title('Getafe     -     Temperatura ($\\degree$C)')\n",
        "ax[0,0].set_ylim(-7,42)\n",
        "\n",
        "ax[0,1].plot(temperatura_guadalix.index, temperatura_guadalix.valor,    marker='o', ms=1, lw=0, color='blue')\n",
        "ax[0,1].set_title('Guadalix     -     Temperatura ($\\degree$C)')\n",
        "ax[0,1].set_ylim(-7,42)\n",
        "\n",
        "ax[1,0].plot(viento_getafe.index,      viento_getafe.valor,             marker='o', ms=1, lw=0, color='green')\n",
        "ax[1,0].set_title('Getafe     -     Viento (m/s)')\n",
        "ax[1,0].set_ylim(0,10)\n",
        "\n",
        "ax[1,1].plot(viento_guadalix.index,      viento_guadalix.valor,         marker='o', ms=1, lw=0, color='green')\n",
        "ax[1,1].set_title('Guadalix     -     Viento (m/s)')\n",
        "ax[1,1].set_ylim(0,10)\n",
        "\n",
        "ax[2,0].plot(radiacion_getafe.index,      radiacion_getafe.valor,       marker='o', ms=1, lw=0, color='red')\n",
        "ax[2,0].set_title('Getafe     -     Radiación (W/m$^{2}$)')\n",
        "ax[2,0].set_ylim(0,1300)\n",
        "\n",
        "ax[2,1].plot(radiacion_guadalix.index,      radiacion_guadalix.valor,   marker='o', ms=1, lw=0, color='red')\n",
        "ax[2,1].set_title('Guadalix     -     Radiación (W/m$^{2}$)')\n",
        "ax[2,1].set_ylim(0,1300)\n",
        "\n",
        "for a in np.ravel(ax):\n",
        "  a.grid(True)\n",
        "\n",
        "plt.suptitle('Año 2022', size=20)\n",
        "plt.tight_layout()\n",
        "\n",
        "\n",
        "#ax[0].set_title('Getafe',size=18)\n",
        "#ax[1].plot(temperatura_guadalix.index, temperatura_guadalix.valor, marker='o', ms=1, lw=0, color='red')\n",
        "#ax[1].set_title('Guadalix',size=18)\n",
        "#plt.suptitle('Temperatura ($\\degree$C)   -   Año %s' % (anio),size=20)\n"
      ],
      "metadata": {
        "id": "n_GGjPbGPwwt"
      },
      "execution_count": null,
      "outputs": []
    }
  ]
}