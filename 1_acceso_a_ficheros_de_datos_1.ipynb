{
  "nbformat": 4,
  "nbformat_minor": 0,
  "metadata": {
    "colab": {
      "provenance": [],
      "authorship_tag": "ABX9TyOVTVgr1qh6OHrNRXYphTNV",
      "include_colab_link": true
    },
    "kernelspec": {
      "name": "python3",
      "display_name": "Python 3"
    },
    "language_info": {
      "name": "python"
    }
  },
  "cells": [
    {
      "cell_type": "markdown",
      "metadata": {
        "id": "view-in-github",
        "colab_type": "text"
      },
      "source": [
        "<a href=\"https://colab.research.google.com/github/waveology/aire/blob/main/1_acceso_a_ficheros_de_datos_1.ipynb\" target=\"_parent\"><img src=\"https://colab.research.google.com/assets/colab-badge.svg\" alt=\"Open In Colab\"/></a>"
      ]
    },
    {
      "cell_type": "markdown",
      "source": [
        "# El acceso a datos almacenados en ficheros I"
      ],
      "metadata": {
        "id": "Ne1ehplL3XWb"
      }
    },
    {
      "cell_type": "markdown",
      "source": [
        "A veces, el acceso a los datos almacenados en ficheros puede resultar tedioso. Con frecuencia, los datos no se encuentran en el formato que desearíamos y hay invertir algo de tiempo en incorporarlos a nuestros métodos de análisis."
      ],
      "metadata": {
        "id": "-GGtsV8bWb3a"
      }
    },
    {
      "cell_type": "markdown",
      "source": [
        "###1. El origen de los datos\n",
        "---"
      ],
      "metadata": {
        "id": "CEE2M99S3oO-"
      }
    },
    {
      "cell_type": "markdown",
      "source": [
        "Vamos a ver un ejemplo de este preproceso basado en los datos de calidad del aire que publica la Comunidad de Madrid (España) y que están libremente disponibles en [la web](https://datos.comunidad.madrid/catalogo/dataset/calidad_aire_datos_historico)"
      ],
      "metadata": {
        "id": "yysfX5xJXswI"
      }
    },
    {
      "cell_type": "markdown",
      "source": [
        "Descargamos los datos de algún año del histórico:"
      ],
      "metadata": {
        "id": "bIyYxjLxYkmR"
      }
    },
    {
      "cell_type": "code",
      "execution_count": null,
      "metadata": {
        "id": "yUHr0xjHWP0B"
      },
      "outputs": [],
      "source": [
        "anio = 2023\n",
        "\n",
        "# Repositorio Github del curso donde se encuentra una copia de los datos \n",
        "# -----------------------------------------------------------------------\n",
        "url = \"https://raw.githubusercontent.com/waveology/aire/main/datos/comunidad\"\n",
        "\n",
        "# Descarga los datos a Colab si no se han descargado previamente\n",
        "# --------------------------------------------------------------\n",
        "![ ! -f {anio}.csv ] && wget {url}/{anio}.csv -O {anio}.csv\n"
      ]
    },
    {
      "cell_type": "markdown",
      "source": [
        "El inventario del contenido puede consultarse [aquí](https://datos.comunidad.madrid/catalogo/dataset/a770d92c-c513-4974-b1a7-2b15be1dd91f/resource/f743eacc-5e89-4591-a0fc-4caebfe22557/download/descripcion-fichero-datos-de-contaminantes.pdf)"
      ],
      "metadata": {
        "id": "vldBSoZqbvU3"
      }
    },
    {
      "cell_type": "markdown",
      "source": [
        "###2. Lectura de los datos\n",
        "---"
      ],
      "metadata": {
        "id": "Psq0ADs4353q"
      }
    },
    {
      "cell_type": "markdown",
      "source": [
        "Empezamos por importar las extensiones que vamos a usar:"
      ],
      "metadata": {
        "id": "2ZUweNcdu7Xa"
      }
    },
    {
      "cell_type": "code",
      "source": [
        "# Permite manipulación eficiente de tablas de datos\n",
        "# --------------------------------------------------\n",
        "import pandas as pd"
      ],
      "metadata": {
        "id": "BGWxkq7cZfK0"
      },
      "execution_count": null,
      "outputs": []
    },
    {
      "cell_type": "markdown",
      "source": [
        "A continuación, leemos los datos que están en formato CSV para generar un ***dataframe*** de Pandas. \n",
        "\n",
        "Especificamos que:\n",
        "\n",
        "*   el separador de columnas es el punto y coma (;) \n",
        "*   el símbolo usado para designar decimales es la coma (,). \n",
        "\n",
        "NOTA: El Ayuntamiento de Madrid usa el punto (.) como separador decimal."
      ],
      "metadata": {
        "id": "1B-AXw2EZNss"
      }
    },
    {
      "cell_type": "code",
      "source": [
        "df0 = pd.read_csv('%s.csv' % anio,  \n",
        "                 sep=';', \n",
        "                 decimal=',')"
      ],
      "metadata": {
        "id": "r-CfYc2pu3sB"
      },
      "execution_count": null,
      "outputs": []
    },
    {
      "cell_type": "markdown",
      "source": [
        "Inspeccionamos la estructura del fichero:"
      ],
      "metadata": {
        "id": "RhFHizwVaFl2"
      }
    },
    {
      "cell_type": "code",
      "source": [
        "print(len(df0))        # número de filas de datos\n",
        "print(df0.head(5))     # muestra las 5 primeras filas"
      ],
      "metadata": {
        "id": "kJrnlAlkZjMA"
      },
      "execution_count": null,
      "outputs": []
    },
    {
      "cell_type": "markdown",
      "source": [
        "###3. El filtrado de columnas\n",
        "---"
      ],
      "metadata": {
        "id": "aJBRe7ja4NeL"
      }
    },
    {
      "cell_type": "markdown",
      "source": [
        "Para ahorrar memoria filtramos los datos para eliminar la información que no necesitamos.\n",
        "\n",
        "Elegimos una estación de medida. Por ejemplo, **Guadalix de la Sierra**, a la que según el inventario le corresponde:\n",
        "\n",
        " *   **código**    : 28067001 (el campo **estación** solo usa los 3 últimos dígitos) \n",
        " *   **municipio** : 67\n",
        "\n",
        "\n",
        "Elegimos una estación de medida. Por ejemplo, el dióxido de nitrógeno (NO$_{2}$), a la que corresponde:\n",
        "\n",
        " *   **magnitud** : 8"
      ],
      "metadata": {
        "id": "8G4wTuxgcjGK"
      }
    },
    {
      "cell_type": "code",
      "source": [
        "# df0 será una versión filtrada de df que solo contiene los datos seleccionados\n",
        "# ------------------------------------------------------------------------------\n",
        "df = df0[ (df0['magnitud']  == 8) \n",
        "       &  (df0['estacion']  == 14) \n",
        "       &  (df0['municipio'] == 65)]\n",
        "       \n",
        "print(len(df))\n",
        "print(df.head(5))          "
      ],
      "metadata": {
        "id": "CKS_a8kFinEB"
      },
      "execution_count": null,
      "outputs": []
    },
    {
      "cell_type": "markdown",
      "source": [
        "###4. Eliminación de columnas no necesarias\n",
        "---"
      ],
      "metadata": {
        "id": "h-61PqGC4iCP"
      }
    },
    {
      "cell_type": "markdown",
      "source": [
        "Una vez que hemos filtrado los datos, podemos eliminar la información que ya no necesitamos (las columnas **provincia**, **municipio**, **estación**, **punto de muestreo** y **magnitud**)"
      ],
      "metadata": {
        "id": "EpKazF98jebC"
      }
    },
    {
      "cell_type": "code",
      "source": [
        "df = df.drop(columns=['provincia','municipio','estacion','punto_muestreo','magnitud'])\n",
        "\n",
        "print(df.head(5))     "
      ],
      "metadata": {
        "id": "jYj4bFF9jk8A"
      },
      "execution_count": null,
      "outputs": []
    },
    {
      "cell_type": "markdown",
      "source": [
        "###5. Pivotaje de filas y columnas\n",
        "---"
      ],
      "metadata": {
        "id": "VM1Q1gRI4te2"
      }
    },
    {
      "cell_type": "markdown",
      "source": [
        "Nos gustaría tener en cada fila los datos correspondientes a cada tiempo. Sin embargo, la información de cada hora aparece en una columna. \n",
        "\n",
        "Con la función ***melt*** podemos crear un nuevo ***dataframe*** en el que las horas aparezcan en una columna y la magnitud en otra: "
      ],
      "metadata": {
        "id": "PkwoHiC5kA_j"
      }
    },
    {
      "cell_type": "code",
      "source": [
        "# df1 será una versión de df en la que las horas aparecerán en filas en lugar de columnas\n",
        "# ----------------------------------------------------------------------------------------\n",
        "df1 = df.melt(id_vars=['ano','mes','dia'],\n",
        "                 value_vars = [ 'h%02d' % i for i in range(1,25)],\n",
        "                 var_name='hora',\n",
        "                 value_name='valor'\n",
        "                 )\n",
        "print(df1)"
      ],
      "metadata": {
        "id": "0Ml5HsgBk6sn"
      },
      "execution_count": null,
      "outputs": []
    },
    {
      "cell_type": "markdown",
      "source": [
        "###6. Modificación y adaptación de valores\n",
        "---"
      ],
      "metadata": {
        "id": "91yP6hTo44VX"
      }
    },
    {
      "cell_type": "markdown",
      "source": [
        "Observamos que la hora aparece en formato de texto con la letra 'h' seguida de dos dígitos. Usamos la función apply para corregirla: "
      ],
      "metadata": {
        "id": "nvElz5eel7T9"
      }
    },
    {
      "cell_type": "code",
      "source": [
        "# En la columna 'hora', elimina el primer carácter y convierte el resultado en numérico\n",
        "# --------------------------------------------------------------------------------------\n",
        "df1['hora'] = df1['hora'].apply(lambda x : int(x[1:]))\n",
        "\n",
        "print(df1)"
      ],
      "metadata": {
        "id": "lQPlYbYcmEpc"
      },
      "execution_count": null,
      "outputs": []
    },
    {
      "cell_type": "markdown",
      "source": [
        "Repetimos la misma operación con las columnas en las que se cifra la validez de los datos:"
      ],
      "metadata": {
        "id": "KD4_jDESw-dm"
      }
    },
    {
      "cell_type": "code",
      "source": [
        "# df2 será una versión de df en la que la validez del dato aparecerán en filas en lugar de columnas\n",
        "# -------------------------------------------------------------------------------------------------\n",
        "df2 = df.melt(id_vars=['ano','mes','dia'],\n",
        "                 value_vars = [ 'v%02d' % i for i in range(1,25)],\n",
        "                 var_name='hora',\n",
        "                 value_name='flag'\n",
        "                 )\n",
        "df2['hora'] = df2['hora'].apply(lambda x : int(x[1:]))\n",
        "print(df2)"
      ],
      "metadata": {
        "id": "uQ9AwUZsn40R"
      },
      "execution_count": null,
      "outputs": []
    },
    {
      "cell_type": "markdown",
      "source": [
        "###7. Fusión de tablas\n",
        "---"
      ],
      "metadata": {
        "id": "9mrfoobv5FsH"
      }
    },
    {
      "cell_type": "markdown",
      "source": [
        "Hemos creado dos ***dataframes*** (df1 y df2) que contienen los registros de contaminante y la validez de los datos respectivamente. \n",
        "\n",
        "A continuación los fusionamos con la función ***merge***:"
      ],
      "metadata": {
        "id": "9ngN3Pa9oViZ"
      }
    },
    {
      "cell_type": "code",
      "source": [
        "print(df1)\n",
        "print(df2)\n",
        "df = df1.merge(df2)\n",
        "print(df)"
      ],
      "metadata": {
        "id": "G9Cs7wBCoTgf"
      },
      "execution_count": null,
      "outputs": []
    },
    {
      "cell_type": "markdown",
      "source": [
        "###8. Eliminación de datos no válidos\n",
        "---"
      ],
      "metadata": {
        "id": "e9TfoxTH5eh8"
      }
    },
    {
      "cell_type": "markdown",
      "source": [
        "Seleccionamos solo los datos válidos. Después eliminamos la columna 'flag', que ya no será necesaria. "
      ],
      "metadata": {
        "id": "Ki8so8GHosox"
      }
    },
    {
      "cell_type": "code",
      "source": [
        "n_antes = len(df)\n",
        "\n",
        "df = df[df['flag'] == 'V'].drop(columns='flag')\n",
        "print(df)\n",
        "\n",
        "n_despues = len(df)\n",
        "print('Eliminados %d datos malos' % (n_antes - n_despues))"
      ],
      "metadata": {
        "id": "7C_XdDKlowXi"
      },
      "execution_count": null,
      "outputs": []
    },
    {
      "cell_type": "markdown",
      "source": [
        "###9. El tiempo\n",
        "---"
      ],
      "metadata": {
        "id": "tk0bcmCD5mrr"
      }
    },
    {
      "cell_type": "markdown",
      "source": [
        "Ahora nos vendría muy bien que el tiempo estuviera en una única columna que incluya la fecha y la hora (***datetime***):"
      ],
      "metadata": {
        "id": "N_9gAPlCqir_"
      }
    },
    {
      "cell_type": "code",
      "source": [
        "# Creamos una columna de tiempo indicando qué columnas tienen el año, el mes, el día y la hora\n",
        "# ---------------------------------------------------------------------------------------------\n",
        "df['fecha'] = pd.to_datetime({'year':df.ano,'month':df.mes,'day':df.dia,'hour':df.hora})\n",
        "print(df)"
      ],
      "metadata": {
        "id": "LAlNdCrvqv82"
      },
      "execution_count": null,
      "outputs": []
    },
    {
      "cell_type": "markdown",
      "source": [
        "Ya no necesitamos las columnas de año, mes, día y hora:"
      ],
      "metadata": {
        "id": "ZlY_hf-Jq8EH"
      }
    },
    {
      "cell_type": "code",
      "source": [
        "df = df.drop(columns=['ano','mes','dia','hora'])\n",
        "print(df)"
      ],
      "metadata": {
        "id": "0-ntB3ygrEFq"
      },
      "execution_count": null,
      "outputs": []
    },
    {
      "cell_type": "markdown",
      "source": [
        "###10. Reordenación de columnas si es necesario\n",
        "---"
      ],
      "metadata": {
        "id": "TaLktJwM525m"
      }
    },
    {
      "cell_type": "markdown",
      "source": [
        "Por lo general no es preciso reordenar las columnas pero podemos hacerlo así:"
      ],
      "metadata": {
        "id": "Tso2_X42sFJD"
      }
    },
    {
      "cell_type": "code",
      "source": [
        "\n",
        "df = df[['fecha','valor']]\n",
        "print(df)"
      ],
      "metadata": {
        "id": "TC0isiVsrLhG"
      },
      "execution_count": null,
      "outputs": []
    },
    {
      "cell_type": "markdown",
      "source": [
        "###11. Resultado final\n",
        "---"
      ],
      "metadata": {
        "id": "NbR-kPj36AXy"
      }
    },
    {
      "cell_type": "markdown",
      "source": [
        "Ahora nuestros datos están dispuestos en un formato que simplifica muchas tareas de análisis:"
      ],
      "metadata": {
        "id": "G38yuFgHsWL7"
      }
    },
    {
      "cell_type": "code",
      "source": [
        "df.plot(x='fecha',y='valor')"
      ],
      "metadata": {
        "id": "6qXTsK_ywdmS"
      },
      "execution_count": null,
      "outputs": []
    },
    {
      "cell_type": "markdown",
      "source": [
        "Podemos crear una versión más detallada especificando parámetros en la función plot:"
      ],
      "metadata": {
        "id": "IW5Ztf3vvRaf"
      }
    },
    {
      "cell_type": "code",
      "source": [
        "df.plot(x='fecha',y='valor',\n",
        "        fontsize=12,\n",
        "        figsize=(15,10),\n",
        "        marker='o',\n",
        "        ms=5,\n",
        "        lw=1,\n",
        "        grid=True,\n",
        "        legend=False,\n",
        "        title = 'Concentración de NO$_{2}$ ($\\mu$g/m$^{3}$) medida en la estación de Guadalix de la Sierra'\n",
        "        )"
      ],
      "metadata": {
        "id": "aMRxAlGwvMDW"
      },
      "execution_count": null,
      "outputs": []
    }
  ]
}