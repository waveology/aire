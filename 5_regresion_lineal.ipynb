{
  "nbformat": 4,
  "nbformat_minor": 0,
  "metadata": {
    "colab": {
      "provenance": [],
      "toc_visible": true,
      "authorship_tag": "ABX9TyNfc8CZHUR55De+GMsfXTAV",
      "include_colab_link": true
    },
    "kernelspec": {
      "name": "python3",
      "display_name": "Python 3"
    },
    "language_info": {
      "name": "python"
    }
  },
  "cells": [
    {
      "cell_type": "markdown",
      "metadata": {
        "id": "view-in-github",
        "colab_type": "text"
      },
      "source": [
        "<a href=\"https://colab.research.google.com/github/waveology/aire/blob/main/5_regresion_lineal.ipynb\" target=\"_parent\"><img src=\"https://colab.research.google.com/assets/colab-badge.svg\" alt=\"Open In Colab\"/></a>"
      ]
    },
    {
      "cell_type": "markdown",
      "source": [
        "# Regresión lineal"
      ],
      "metadata": {
        "id": "crfGnGpVlF9C"
      }
    },
    {
      "cell_type": "markdown",
      "source": [
        "Vamos a explorar algunas posibilidades de análisis de datos de calidad del aire que ofrece Python. Usaremos como hasta ahora datos meteorológicos de AEMET y de contaminación de la Comunidad de Madrid."
      ],
      "metadata": {
        "id": "y3nJxRpslS5R"
      }
    },
    {
      "cell_type": "markdown",
      "source": [
        "###1. Preparación de datos y código\n",
        "---"
      ],
      "metadata": {
        "id": "XVjh0NBgzXNM"
      }
    },
    {
      "cell_type": "markdown",
      "source": [
        "Descargamos el repositorio de código y datos para trabajar más cómodamente:"
      ],
      "metadata": {
        "id": "-o3G-_7Wyerw"
      }
    },
    {
      "cell_type": "code",
      "source": [
        "# Directorio de trabajo en Colab \n",
        "# ------------------------------------------------------------\n",
        "%cd /content\n",
        "\n",
        "# Si existe una copia previa del repositorio, la borramos:\n",
        "# ----------------------------------------------------------------------------\n",
        "!  rm -rf aire\n",
        "\n",
        "# Creamos una copia del repositorio SOLO si no existe previamente\n",
        "# ----------------------------------------------------------------------------\n",
        "! [ ! -d aire ] && git clone https://github.com/waveology/aire.git\n",
        "\n",
        "# Entramos en el repositorio que acabamos de copiar\n",
        "# --------------------------------------------------\n",
        "%cd aire"
      ],
      "metadata": {
        "id": "cyNmTWPgCFMY"
      },
      "execution_count": null,
      "outputs": []
    },
    {
      "cell_type": "markdown",
      "source": [
        "Importamos las extensiones que vamos a necesitar. \n",
        "\n",
        "Para simplificar la tarea hemos empaquetado las funciones de lectura de datos en un fichero independiente (lectura_de_datos.py) "
      ],
      "metadata": {
        "id": "jnTZ1fEu_Y5-"
      }
    },
    {
      "cell_type": "code",
      "source": [
        "import lectura_de_datos                                   # lee ficheros de datos meteorológicos y de contaminación de Madrid\n",
        "import matplotlib.pyplot as plt                           # dibujo de gráficos\n",
        "from matplotlib.dates import MonthLocator, DateFormatter  # formato de fechas \n",
        "from scipy import stats                                   # cálculo estadístico\n",
        "import numpy as np                                        # matrices"
      ],
      "metadata": {
        "id": "DnsOSQsG9RX9"
      },
      "execution_count": null,
      "outputs": []
    },
    {
      "cell_type": "markdown",
      "source": [
        "###2. Inventario de datos\n",
        "---"
      ],
      "metadata": {
        "id": "TdfNMqrBzzrP"
      }
    },
    {
      "cell_type": "markdown",
      "source": [
        "####Estaciones de medida\n",
        "**Código | Municipio | Nombre**\n",
        "\n",
        "---\n",
        "*       28005002   :    (  5,  'ALCALÁ DE HENARES'), \n",
        "*       28006004   :    (  6,  'ALCOBENDAS'), \n",
        "*       28007004   :    (  7,  'ALCORCÓN'), \n",
        "*       28009001   :\t(  9,  'ALGETE'), \n",
        "*       28013002   :\t( 13,  'ARANJUEZ'), \n",
        "*       28014002   :\t( 14,  'ARGANDA DEL REY'),\n",
        "*       28016001   :\t( 16,  'EL ATAZAR'),\n",
        "*       28045002   :\t( 45,  'COLMENAR VIEJO'), \n",
        "*       28047002   :\t( 47,  'COLLADO VILLALBA'), \n",
        "*       28049003   :\t( 49,  'COSLADA'), \n",
        "*       28058004   :\t( 58,  'FUENLABRADA'), \n",
        "*       28065014   :\t( 65,  'GETAFE'), \n",
        "*       28067001   :\t( 67,  'GUADALIX DE LA SIERRA'), \n",
        "*       28074007   :\t( 74,  'LEGANÉS'), \n",
        "*       28080003   :\t( 80,  'MAJADAHONDA'), \n",
        "*       28092005   :\t( 92,  'MÓSTOLES'), \n",
        "*       28102001   :\t(102,  'ORUSCO DE TAJUÑA'), \n",
        "*       28120001   : \t(120,  'PUERTO DE COTOS'), \n",
        "*       28123002   :\t(123,  'RIVAS-VACIAMADRID'), \n",
        "*       28133002   :\t(133,  'SAN MARTÍN DE VALDEIGLESIAS'), \n",
        "*       28148004   :\t(148,  'TORREJÓN DE ARDOZ'), \n",
        "*       28161001   :\t(161,  'VALDEMORO'), \n",
        "*       28171001   :\t(171,  'VILLA DEL PRADO'), \n",
        "*       28180001   :\t(180,  'VILLAREJO DE SALVANÉS')\n"
      ],
      "metadata": {
        "id": "-EgX5hzMEg63"
      }
    },
    {
      "cell_type": "markdown",
      "source": [
        "####Contaminantes\n",
        "**Código  |  Magnitud  | Unidades**\n",
        "\n",
        "  \n",
        "---\n",
        "*      1 \t:  ('Dióxido de azufre', 'μg/m³'),\n",
        "*      6 \t:  ('Monóxido de carbono', 'mg/m³'),\n",
        "*      7 \t:  ('Monóxido de nitrógeno', 'μg/m³'),\n",
        "*      8 \t:  ('Dióxido de nitrógeno', 'μg/m³'),\n",
        "*      9 \t:  ('Partículas en suspensión < PM2.5', 'μg/m³'),\n",
        "*     10 \t:  ('Partículas en suspensión < PM10',  'μg/m³'),\n",
        "*     12 \t:  ('Óxidos de nitrógeno', 'μg/m³'),\n",
        "*     14 \t:  ('Ozono', 'μg/m³'),\n",
        "*     20 \t:  ('Tolueno', 'μg/m³'),\n",
        "*     22 \t:  ('Black Carbon', 'μg/m³'),\n",
        "*     30 \t:  ('Benceno', 'μg/m³'),\n",
        "*     42 \t:  ('Hidrocarburos totales', 'mg/m³'),\n",
        "*     44 \t:  ('Hidrocarburos no metánicos', 'mg/m³'),\n",
        "*    431  :  ('MetaParaXileno', 'μg/m³')\n",
        "    }"
      ],
      "metadata": {
        "id": "oCkRdKRMoCuG"
      }
    },
    {
      "cell_type": "markdown",
      "source": [
        "####Meteorología\n",
        "**Código | Magnitud | Unidades**\n",
        "\n",
        "---\n",
        "*   81 :\t('Velocidad del viento',     'm/s'), \n",
        "*   82 :\t('Dirección del viento',     'º'), \n",
        "*   83 :\t('Temperatura',              'ºC'), \n",
        "*   86 :\t('Humedad relativa',         '%'), \n",
        "*   87 :\t('Presión atmosférica',      'hPa'), \n",
        "*   88 :\t('Radiación solar',          'W/m2'), \n",
        "*   89 :\t('Precipitación',            'mm')"
      ],
      "metadata": {
        "id": "TCfvaJr8F0BF"
      }
    },
    {
      "cell_type": "markdown",
      "source": [
        "###3. Carga de datos\n",
        "---"
      ],
      "metadata": {
        "id": "lB9I3Y-e0gd7"
      }
    },
    {
      "cell_type": "markdown",
      "source": [
        "Vamos a cargar datos de concentración de NO2 en la ciudad de Móstoles en el año 2019: "
      ],
      "metadata": {
        "id": "DUpWHT5G0stW"
      }
    },
    {
      "cell_type": "markdown",
      "source": [
        "Esta versión de la funcion lectura_de_datos devuelve, además del dataframe con los datos, el nombre de la estación, la magnitud medida y sus unidades. Eso facilita la automatización de los gráficos:"
      ],
      "metadata": {
        "id": "Dt1xSZrR9CjW"
      }
    },
    {
      "cell_type": "code",
      "source": [
        "anio = 2022\n",
        "df, magnitud, unidades,estacion = lectura_de_datos.comunidad(\n",
        "                                      'datos/comunidad/%s.csv' % anio,\n",
        "                                      codigo_magnitud = 10,         # Dióxido de azufre\n",
        "                                      codigo_estacion = 28092005    # Móstoles  \n",
        "                                      ) \n",
        "\n",
        "#df, magnitud, unidades,estacion = lectura_de_datos.meteo(\n",
        "#                                    'datos/meteo/%s.csv' % anio,\n",
        "#                                     codigo_magnitud = 83,         # Temperatura\n",
        "#                                     codigo_estacion = 28067001    # Guadalix de la Sierra  \n",
        "#                                     ) \n",
        "\n",
        "print(df)"
      ],
      "metadata": {
        "id": "325Q-Kqw1pIf"
      },
      "execution_count": null,
      "outputs": []
    },
    {
      "cell_type": "markdown",
      "source": [
        "###4. Representación gráfica\n",
        "---"
      ],
      "metadata": {
        "id": "lQLhnBoK-Oed"
      }
    },
    {
      "cell_type": "markdown",
      "source": [
        "Representamos los resultados en un gráfico simple X-Y"
      ],
      "metadata": {
        "id": "dAiDSk5S9Ylo"
      }
    },
    {
      "cell_type": "code",
      "source": [
        "ax = df.plot(marker='o',                                      # Símbolo\n",
        "        ms=1,                                                 # Tamaño del símbolo\n",
        "        lw=0,                                                 # Grosor de líneas de conexión\n",
        "        color='black',                                        # Color\n",
        "        grid=True,                                            # Rejilla\n",
        "        figsize=(10,8),                                       # Tamaño del gráfico\n",
        "        legend=False,                                         # Leyenda\n",
        "        title='%s  -  %s     %s %s' % (estacion,anio,magnitud,unidades),  # Título\n",
        "        #xlim=('2022-03-10','2022-04-01'),\n",
        "        #ylim=(0,700)\n",
        "        )\n",
        "\n",
        "# Control de las etiquetas de tiempo\n",
        "# ------------------------------------\n",
        "#ax.xaxis.set_major_locator(MonthLocator())                             # Poner tics mayores al inicio de cada mes\n",
        "#ax.xaxis.set_minor_locator(MonthLocator(bymonthday=15))                # poner tics menores el día 15 de cada mes\n",
        "#ax.xaxis.set_major_formatter(DateFormatter(\"%d %B %y\"))                # formato de la fecha para los tics mayores\n",
        "#ax.xaxis.set_minor_formatter(DateFormatter('%d'))                      # formato de la fecha para los tics menores\n",
        "#ax.tick_params(axis=\"x\", labelrotation= 45)                            # inclinación de las etiquetas"
      ],
      "metadata": {
        "id": "szhTtbNm24SM"
      },
      "execution_count": null,
      "outputs": []
    },
    {
      "cell_type": "markdown",
      "source": [
        "###5. El histograma\n",
        "---"
      ],
      "metadata": {
        "id": "A_qlIWYQ_Fgp"
      }
    },
    {
      "cell_type": "code",
      "source": [
        "fig, ax = plt.subplots(figsize=(12,7))\n",
        "df.hist(  \n",
        "         bins     =  range(0,175,5),\n",
        "         stacked  =  False,\n",
        "         density  =  False,    # ¿Número de casos o frecuencia estadística?\n",
        "         log      =  False,    # Logarítimico\n",
        "         rwidth   =  0.9,\n",
        "         ax       =  ax\n",
        ")\n",
        "ax.set_title('Histograma    -    %s    -    %s    -     %s (%s)' % (anio,estacion,magnitud,unidades),size=14)\n",
        "#ax.set_ylim(0,20)\n",
        "ax.set_ylabel('Número de registros',size=15)\n",
        "#ax.set_ylabel('Frecuencia estadística',size=15)\n",
        "ax.set_xlabel(unidades,size=15)"
      ],
      "metadata": {
        "id": "Oy6NV3Jr_Lip"
      },
      "execution_count": null,
      "outputs": []
    },
    {
      "cell_type": "markdown",
      "source": [
        "###6. El valor medio\n",
        "---"
      ],
      "metadata": {
        "id": "T5cAu5NDoEyE"
      }
    },
    {
      "cell_type": "markdown",
      "source": [
        "El valor medio de la serie temporal puede calcularse fácilmente con la función mean()"
      ],
      "metadata": {
        "id": "xcRK44OBoOaJ"
      }
    },
    {
      "cell_type": "code",
      "source": [
        "media = df.mean()[0] "
      ],
      "metadata": {
        "id": "OuFyvatvoY7N"
      },
      "execution_count": null,
      "outputs": []
    },
    {
      "cell_type": "markdown",
      "source": [
        "Representamos graficamente:"
      ],
      "metadata": {
        "id": "rj9OkC9a9adR"
      }
    },
    {
      "cell_type": "code",
      "source": [
        "def dibuja(df, estadisticos) :\n",
        "  \n",
        "  fig, ax = plt.subplots(2,1,figsize=(12,7))\n",
        "\n",
        "  min = df.min()\n",
        "  max = df.max()\n",
        "\n",
        "  # Serie temporal\n",
        "  # --------------\n",
        "  df.plot(grid=True,             ax = ax[0], color='#444444')\n",
        "  txt = '%s    -    %s    -     %s (%s)     [min=%.1f,  max=%.1f]'\n",
        "  ax[0].set_title(txt % (anio,estacion,magnitud,unidades,min,max),size=14)\n",
        "  ax[0].set_ylabel(unidades,size=12)\n",
        "\n",
        "\n",
        "  # Formato de fechas\n",
        "  # -----------------\n",
        "  ax[0].xaxis.set_major_locator(MonthLocator())                             # Poner tics mayores al inicio de cada mes\n",
        "  ax[0].xaxis.set_minor_locator(MonthLocator(bymonthday=15))                # poner tics menores el día 15 de cada mes\n",
        "  ax[0].xaxis.set_major_formatter(DateFormatter(\"%d %B %y\"))                # formato de la fecha para los tics mayores\n",
        "  ax[0].xaxis.set_minor_formatter(DateFormatter(''))                      # formato de la fecha para los tics menores\n",
        "  ax[0].tick_params(axis=\"x\", labelrotation= 45)                            # inclinación de las etiquetas\n",
        "\n",
        "  # Histograma\n",
        "  # -----------\n",
        "  df.hist(bins = range(0,175,5), ax = ax[1], color='#444444')\n",
        "  ax[1].set_title(None)\n",
        "  ax[1].set_xlabel(unidades,size=12)\n",
        "\n",
        "  # Añadimos líneas de valores estadísticos\n",
        "  # -----------------------------------------\n",
        "  color = ('b','r','g','c','orange','m','y','k')\n",
        "\n",
        "  n = 0\n",
        "  for nombre,valor in estadisticos.items() :\n",
        "     ax[0].axhline(y=valor, ls='--', lw=3, label='%s=%.1f' % (nombre,valor), color=color[n])\n",
        "     ax[1].axvline(x=valor, ls='--', lw=3,label='%s=%.1f' % (nombre,valor), color=color[n])\n",
        "     n += 1\n",
        "\n",
        "\n",
        "  # Activamos la leyenda\n",
        "  # --------------------\n",
        "  ax[0].legend()\n",
        "\n",
        "  # Ajusta visualmente los gráficos\n",
        "  # --------------------------------\n",
        "  plt.tight_layout()\n",
        "\n",
        "  return\n"
      ],
      "metadata": {
        "id": "84rFZrlNoLhy"
      },
      "execution_count": null,
      "outputs": []
    },
    {
      "cell_type": "code",
      "source": [
        "esta = {'media': media}\n",
        "dibuja(df,esta)"
      ],
      "metadata": {
        "id": "SRQ68vl50-uQ"
      },
      "execution_count": null,
      "outputs": []
    },
    {
      "cell_type": "markdown",
      "source": [
        "###7. **La dispersión**\n",
        "---\n",
        "\n"
      ],
      "metadata": {
        "id": "h33oiTQEyPwB"
      }
    },
    {
      "cell_type": "code",
      "source": [
        "varianza          = df.var()[0]\n",
        "desviacion_tipica = df.std()[0]\n",
        "\n",
        "esta['s1'] = media - desviacion_tipica\n",
        "esta['s2'] = media + desviacion_tipica\n",
        "dibuja(df,esta)\n",
        "\n",
        "del esta['s1']\n",
        "del esta['s2']"
      ],
      "metadata": {
        "id": "PHW1lPNRyeEn"
      },
      "execution_count": null,
      "outputs": []
    },
    {
      "cell_type": "markdown",
      "source": [
        "###8. **La mediana**\n",
        "---"
      ],
      "metadata": {
        "id": "GuHbQBsIx_Ru"
      }
    },
    {
      "cell_type": "code",
      "source": [
        "mediana = df.median()[0] \n",
        "\n",
        "esta['mediana'] = mediana\n",
        "dibuja(df,esta)"
      ],
      "metadata": {
        "id": "kQL_B7QUyYJM"
      },
      "execution_count": null,
      "outputs": []
    },
    {
      "cell_type": "markdown",
      "source": [
        "###9. **Percentiles**\n",
        "---"
      ],
      "metadata": {
        "id": "d2TnZ4FyJ9_I"
      }
    },
    {
      "cell_type": "code",
      "source": [
        "nivel = (1, 5, 25, 75, 95, 99)\n",
        "for x in nivel :\n",
        "   label = 'P%d' % x\n",
        "   esta[label] = np.percentile(df,x)\n",
        "dibuja(df,esta)"
      ],
      "metadata": {
        "id": "Hi5FbWhIKQds"
      },
      "execution_count": null,
      "outputs": []
    },
    {
      "cell_type": "markdown",
      "source": [
        "###10. **Valores atípicos (outliers)**\n",
        "---"
      ],
      "metadata": {
        "id": "KhfPxxZFR27b"
      }
    },
    {
      "cell_type": "markdown",
      "source": [
        "Un método popular para determinar qué puntos son atípicos y eliminarlos de la muestra se basa en el ***rango intercuartílico*** (***RIQ***).\n",
        "\n",
        "El ***RIQ***  es la diferencia entre los percentiles 75 y 25.\n",
        "\n",
        "Si un registro se encuentra a una distancia de P25 o P75 que supera 1.5 veces el riq, se considera un **valor atípico leve**.\n",
        "\n",
        "Si un registro se a una distancia de P25 o P75 que supera 3 veces el riq, se considera un **valor atípico extremo**."
      ],
      "metadata": {
        "id": "aN7bFq19UIXn"
      }
    },
    {
      "cell_type": "code",
      "source": [
        "P25, P75 = np.percentile(df, (25 ,75))\n",
        "RIQ = P75 - P25\n",
        "\n",
        "print('P25=%.1f  P75=%.1f   RIQ=%.1f' % (P25, P75, RIQ))"
      ],
      "metadata": {
        "id": "CA4J0hmcR9wU"
      },
      "execution_count": null,
      "outputs": []
    },
    {
      "cell_type": "code",
      "source": [
        "# Valores atípicos leves\n",
        "# ----------------------\n",
        "L1 = P25 - 1.5 * RIQ\n",
        "L2 = P75 + 1.5 * RIQ\n",
        "print('Los valores inferiones a %.1f son ATÍPICOS LEVES' % L1)\n",
        "print('Los valores superiores a %.1f son ATÍPICOS LEVES' % L2)"
      ],
      "metadata": {
        "id": "0wRsC_0YXXq9"
      },
      "execution_count": null,
      "outputs": []
    },
    {
      "cell_type": "code",
      "source": [
        "# Valores atípicos extremos\n",
        "# -------------------------\n",
        "E1 = P25 - 3 * RIQ\n",
        "E2 = P75 + 3 * RIQ\n",
        "print('Los valores inferiones a %.1f son ATÍPICOS LEVES' % L1)\n",
        "print('Los valores superiores a %.1f son ATÍPICOS LEVES' % L2)"
      ],
      "metadata": {
        "id": "aT8AX6aTYjb8"
      },
      "execution_count": null,
      "outputs": []
    },
    {
      "cell_type": "code",
      "source": [
        "esta = {'L1':L1,'L2':L2,'E1':E1,'E2':E2}\n",
        "dibuja(df,esta)"
      ],
      "metadata": {
        "id": "FSDDa3QMZD0C"
      },
      "execution_count": null,
      "outputs": []
    },
    {
      "cell_type": "markdown",
      "source": [
        "Veamos qué ocurre si eliminamos los valores atípicos extremos:"
      ],
      "metadata": {
        "id": "BuwhqoiHaTjT"
      }
    },
    {
      "cell_type": "code",
      "source": [
        "df1 = df[ (df.valor >= E1) & (df.valor <= E2) ]\n",
        "n = len(df) - len(df1)\n",
        "print('Se eliminaron %d valores atípicos extremos de una muestra de %d datos (%.2f%%)' % (n,len(df),100*n/len(df)))"
      ],
      "metadata": {
        "id": "zltcWPMZaczz"
      },
      "execution_count": null,
      "outputs": []
    },
    {
      "cell_type": "code",
      "source": [
        "esta = {'media': df1.mean()[0],'mediana': df1.median()[0]}\n",
        "dibuja(df1,esta)\n",
        "\n",
        "esta = {'media': df.mean()[0],'mediana': df.median()[0]}\n",
        "dibuja(df,esta)"
      ],
      "metadata": {
        "id": "LwZEUd0CiO5R"
      },
      "execution_count": null,
      "outputs": []
    },
    {
      "cell_type": "markdown",
      "source": [
        "Si hubiéramos eliminado todos los valores atípicos:"
      ],
      "metadata": {
        "id": "yuun8gkvjhSp"
      }
    },
    {
      "cell_type": "code",
      "source": [
        "df1 = df[ (df.valor >= L1) & (df.valor <= L2) ]\n",
        "n = len(df) - len(df1)\n",
        "print('Se eliminaron %d valores atípicos leves de una muestra de %d datos (%.2f%%)' % (n,len(df),100*n/len(df)))"
      ],
      "metadata": {
        "id": "m2kSggJAjeNA"
      },
      "execution_count": null,
      "outputs": []
    },
    {
      "cell_type": "code",
      "source": [
        "esta = {'media': df1.mean()[0],'mediana': df1.median()[0]}\n",
        "dibuja(df1,esta)"
      ],
      "metadata": {
        "id": "ugE4RpZsklyO"
      },
      "execution_count": null,
      "outputs": []
    }
  ]
}