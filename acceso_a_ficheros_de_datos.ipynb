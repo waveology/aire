{
  "nbformat": 4,
  "nbformat_minor": 0,
  "metadata": {
    "colab": {
      "provenance": [],
      "toc_visible": true,
      "authorship_tag": "ABX9TyOYMmhBRfXT8HpT14bswc3n",
      "include_colab_link": true
    },
    "kernelspec": {
      "name": "python3",
      "display_name": "Python 3"
    },
    "language_info": {
      "name": "python"
    }
  },
  "cells": [
    {
      "cell_type": "markdown",
      "metadata": {
        "id": "view-in-github",
        "colab_type": "text"
      },
      "source": [
        "<a href=\"https://colab.research.google.com/github/waveology/aire/blob/main/acceso_a_ficheros_de_datos.ipynb\" target=\"_parent\"><img src=\"https://colab.research.google.com/assets/colab-badge.svg\" alt=\"Open In Colab\"/></a>"
      ]
    },
    {
      "cell_type": "markdown",
      "source": [
        "# El acceso a datos almacenados en ficheros"
      ],
      "metadata": {
        "id": "Ne1ehplL3XWb"
      }
    },
    {
      "cell_type": "markdown",
      "source": [
        "A veces, el acceso a los datos almacenados en ficheros puede resultar tedioso. Con frecuencia, los datos no se encuentran en el formato que desearíamos y hay invertir algo de tiempo en incorporarlos a nuestros métodos de análisis."
      ],
      "metadata": {
        "id": "-GGtsV8bWb3a"
      }
    },
    {
      "cell_type": "markdown",
      "source": [
        "###1. El origen de los datos\n",
        "---"
      ],
      "metadata": {
        "id": "CEE2M99S3oO-"
      }
    },
    {
      "cell_type": "markdown",
      "source": [
        "Vamos a ver un ejemplo basado en los datos de calidad del aire que publica la Comunidad de Madrid (España) y que están libremente disponibles en [su web](https://datos.comunidad.madrid/catalogo/dataset/calidad_aire_datos_historico)"
      ],
      "metadata": {
        "id": "yysfX5xJXswI"
      }
    },
    {
      "cell_type": "markdown",
      "source": [
        "Descargamos los datos de algún año del histórico:"
      ],
      "metadata": {
        "id": "bIyYxjLxYkmR"
      }
    },
    {
      "cell_type": "code",
      "source": [
        "anio = 2023"
      ],
      "metadata": {
        "id": "WBKXliUz0rVX"
      },
      "execution_count": null,
      "outputs": []
    },
    {
      "cell_type": "code",
      "execution_count": null,
      "metadata": {
        "id": "yUHr0xjHWP0B"
      },
      "outputs": [],
      "source": [
        "!rm -f {anio}.csv\n",
        "!wget \"https://datos.comunidad.madrid/catalogo/dataset/a770d92c-c513-4974-b1a7-2b15be1dd91f/resource/4aab1384-5abf-414e-9f42-af5fc334f436/download/{anio}.csv\""
      ]
    },
    {
      "cell_type": "code",
      "source": [
        "a = \"holas\"\n",
        "!echo \"esto es $a asi\""
      ],
      "metadata": {
        "id": "QBBMkgq_0SX5"
      },
      "execution_count": null,
      "outputs": []
    },
    {
      "cell_type": "markdown",
      "source": [
        "El inventario del contenido puede consultarse [aquí](https://datos.comunidad.madrid/catalogo/dataset/a770d92c-c513-4974-b1a7-2b15be1dd91f/resource/f743eacc-5e89-4591-a0fc-4caebfe22557/download/descripcion-fichero-datos-de-contaminantes.pdf)"
      ],
      "metadata": {
        "id": "vldBSoZqbvU3"
      }
    },
    {
      "cell_type": "markdown",
      "source": [
        "###2. Lectura de los datos\n",
        "---"
      ],
      "metadata": {
        "id": "Psq0ADs4353q"
      }
    },
    {
      "cell_type": "markdown",
      "source": [
        "Empezamos por importar las extensiones que vamos a usar:"
      ],
      "metadata": {
        "id": "2ZUweNcdu7Xa"
      }
    },
    {
      "cell_type": "code",
      "source": [
        "import pandas as pd"
      ],
      "metadata": {
        "id": "BGWxkq7cZfK0"
      },
      "execution_count": null,
      "outputs": []
    },
    {
      "cell_type": "markdown",
      "source": [
        "A continuación, leemos los datos que están en formato CSV para generar un dataframe de Pandas. Especificamos que el separador de columnas es el punto y coma (;) y que el símbolo usado para designar decimales es la coma (,). El Ayuntamiento de Madrid usa el punto (.)."
      ],
      "metadata": {
        "id": "1B-AXw2EZNss"
      }
    },
    {
      "cell_type": "code",
      "source": [
        "df = pd.read_csv('%s.csv' % anio,  \n",
        "                 sep=';', \n",
        "                 decimal=',')"
      ],
      "metadata": {
        "id": "r-CfYc2pu3sB"
      },
      "execution_count": null,
      "outputs": []
    },
    {
      "cell_type": "markdown",
      "source": [
        "Inspeccionamos la estructura del fichero:"
      ],
      "metadata": {
        "id": "RhFHizwVaFl2"
      }
    },
    {
      "cell_type": "code",
      "source": [
        "print(len(df))\n",
        "print(df.head(5))"
      ],
      "metadata": {
        "id": "kJrnlAlkZjMA"
      },
      "execution_count": null,
      "outputs": []
    },
    {
      "cell_type": "markdown",
      "source": [
        "###3. El filtrado de columnas\n",
        "---"
      ],
      "metadata": {
        "id": "aJBRe7ja4NeL"
      }
    },
    {
      "cell_type": "markdown",
      "source": [
        "Para empezar a filtrar, elegimos una estación de medida. Por ejemplo **Guadalix de la Sierra**, que según el inventario tiene:\n",
        "\n",
        " *   código : 28067**001** (el campo estación solo usa los 3 últimos dígitos) \n",
        " *   municipio : 67\n",
        "\n",
        " \n",
        " Como magnitud elegimos el dióxido de nitrógeno (NO$_{2}$):\n",
        "\n",
        " *   magnitud : 8"
      ],
      "metadata": {
        "id": "8G4wTuxgcjGK"
      }
    },
    {
      "cell_type": "code",
      "source": [
        "df = df[ (df['estacion']  == 1) \n",
        "       & (df['magnitud']  == 8) \n",
        "       & (df['municipio'] == 67)]\n",
        "       \n",
        "print(len(df))\n",
        "print(df.head(5))          \n"
      ],
      "metadata": {
        "id": "CKS_a8kFinEB"
      },
      "execution_count": null,
      "outputs": []
    },
    {
      "cell_type": "markdown",
      "source": [
        "###4. Eliminación de columnas no necesarias\n",
        "---"
      ],
      "metadata": {
        "id": "h-61PqGC4iCP"
      }
    },
    {
      "cell_type": "markdown",
      "source": [
        "Eliminamos la información que ya no necesitamos (provincia, municipio, estación, punto de muestreo y magnitud)"
      ],
      "metadata": {
        "id": "EpKazF98jebC"
      }
    },
    {
      "cell_type": "code",
      "source": [
        "df = df.drop(columns=['provincia','municipio','estacion','punto_muestreo','magnitud'])\n",
        "\n",
        "print(df.head(5))     "
      ],
      "metadata": {
        "id": "jYj4bFF9jk8A"
      },
      "execution_count": null,
      "outputs": []
    },
    {
      "cell_type": "markdown",
      "source": [
        "###5. Pivotaje de filas y columnas\n",
        "---"
      ],
      "metadata": {
        "id": "VM1Q1gRI4te2"
      }
    },
    {
      "cell_type": "markdown",
      "source": [
        "Nos gustaría tener en cada fila los datos correspondientes a cada instante. Sin embargo, la información de cada hora aparece en una columna. Podemos crear un nuevo dataframe en el que las horas aparezcan en una columna y la magnitud en otra: "
      ],
      "metadata": {
        "id": "PkwoHiC5kA_j"
      }
    },
    {
      "cell_type": "code",
      "source": [
        "df1 = df.melt(id_vars=['ano','mes','dia'],\n",
        "                 value_vars = [ 'h%02d' % i for i in range(1,25)],\n",
        "                 var_name='hora',\n",
        "                 value_name='valor'\n",
        "                 )\n",
        "print(df1)"
      ],
      "metadata": {
        "id": "0Ml5HsgBk6sn"
      },
      "execution_count": null,
      "outputs": []
    },
    {
      "cell_type": "markdown",
      "source": [
        "###6. Modificación y adaptación de valores\n",
        "---"
      ],
      "metadata": {
        "id": "91yP6hTo44VX"
      }
    },
    {
      "cell_type": "markdown",
      "source": [
        "Pero la hora aparece en formato de texto con la letra 'h' delante.\n",
        "\n",
        "Basta con eliminar la letra y convertir el resultado a valor numérico: "
      ],
      "metadata": {
        "id": "nvElz5eel7T9"
      }
    },
    {
      "cell_type": "code",
      "source": [
        "df1['hora'] = df1['hora'].apply(lambda x : int(x[1:]))\n",
        "\n",
        "print(df1)"
      ],
      "metadata": {
        "id": "lQPlYbYcmEpc"
      },
      "execution_count": null,
      "outputs": []
    },
    {
      "cell_type": "markdown",
      "source": [
        "Repetimos la misma operación con los valores de validez de los datos:"
      ],
      "metadata": {
        "id": "KD4_jDESw-dm"
      }
    },
    {
      "cell_type": "code",
      "source": [
        "df2 = df.melt(id_vars=['ano','mes','dia'],\n",
        "                 value_vars = [ 'v%02d' % i for i in range(1,25)],\n",
        "                 var_name='hora',\n",
        "                 value_name='flag'\n",
        "                 )\n",
        "df2['hora'] = df2['hora'].apply(lambda x : int(x[1:]))\n",
        "print(df2)"
      ],
      "metadata": {
        "id": "uQ9AwUZsn40R"
      },
      "execution_count": null,
      "outputs": []
    },
    {
      "cell_type": "markdown",
      "source": [
        "###7. Fusión de tablas\n",
        "---"
      ],
      "metadata": {
        "id": "9mrfoobv5FsH"
      }
    },
    {
      "cell_type": "markdown",
      "source": [
        "A continuación fusionamos ambos dataframes, el que contiene las magnitudes y el que tiene los flags de calidad del dato:"
      ],
      "metadata": {
        "id": "9ngN3Pa9oViZ"
      }
    },
    {
      "cell_type": "code",
      "source": [
        "df = df1.merge(df2)\n",
        "print(df)"
      ],
      "metadata": {
        "id": "G9Cs7wBCoTgf"
      },
      "execution_count": null,
      "outputs": []
    },
    {
      "cell_type": "markdown",
      "source": [
        "###8. Filtrado por filas\n",
        "---"
      ],
      "metadata": {
        "id": "e9TfoxTH5eh8"
      }
    },
    {
      "cell_type": "markdown",
      "source": [
        "Seleccionamos solo los datos válidos. Después eliminamos la columna 'flag', que yo no es necesaria. "
      ],
      "metadata": {
        "id": "Ki8so8GHosox"
      }
    },
    {
      "cell_type": "code",
      "source": [
        "n_antes = len(df)\n",
        "\n",
        "df = df[df['flag'] == 'V'].drop(columns='flag')\n",
        "print(df)\n",
        "\n",
        "n_despues = len(df)\n",
        "print('Eliminados %d datos malos' % (n_antes - n_despues))"
      ],
      "metadata": {
        "id": "7C_XdDKlowXi"
      },
      "execution_count": null,
      "outputs": []
    },
    {
      "cell_type": "markdown",
      "source": [
        "###9. El tiempo\n",
        "---"
      ],
      "metadata": {
        "id": "tk0bcmCD5mrr"
      }
    },
    {
      "cell_type": "markdown",
      "source": [
        "Ahora nos vendría muy bien que el tiempo estuviera en una única columna que incluya la fecha y la hora (datetime):"
      ],
      "metadata": {
        "id": "N_9gAPlCqir_"
      }
    },
    {
      "cell_type": "code",
      "source": [
        "df['fecha'] = pd.to_datetime({'year':df.ano,'month':df.mes,'day':df.dia,'hour':df.hora})\n",
        "print(df)"
      ],
      "metadata": {
        "id": "LAlNdCrvqv82"
      },
      "execution_count": null,
      "outputs": []
    },
    {
      "cell_type": "markdown",
      "source": [
        "Ya no necesitamos las columnas de año, mes, día y hora:"
      ],
      "metadata": {
        "id": "ZlY_hf-Jq8EH"
      }
    },
    {
      "cell_type": "code",
      "source": [
        "df = df.drop(columns=['ano','mes','dia','hora'])\n",
        "print(df)"
      ],
      "metadata": {
        "id": "0-ntB3ygrEFq"
      },
      "execution_count": null,
      "outputs": []
    },
    {
      "cell_type": "markdown",
      "source": [
        "###10. Reordenar columnas si es necesario\n",
        "---"
      ],
      "metadata": {
        "id": "TaLktJwM525m"
      }
    },
    {
      "cell_type": "markdown",
      "source": [
        "Por lo general no es necesario reordenar las columnas pero podemos hacerlo así:"
      ],
      "metadata": {
        "id": "Tso2_X42sFJD"
      }
    },
    {
      "cell_type": "code",
      "source": [
        "\n",
        "df = df[['fecha','valor']]\n",
        "print(df)"
      ],
      "metadata": {
        "id": "TC0isiVsrLhG"
      },
      "execution_count": null,
      "outputs": []
    },
    {
      "cell_type": "markdown",
      "source": [
        "###11. Resultado final\n",
        "---"
      ],
      "metadata": {
        "id": "NbR-kPj36AXy"
      }
    },
    {
      "cell_type": "markdown",
      "source": [
        "Ahora nuestros datos están dispuestos en un formato que simplifica muchas tareas de análisis:"
      ],
      "metadata": {
        "id": "G38yuFgHsWL7"
      }
    },
    {
      "cell_type": "code",
      "source": [
        "df.plot(x='fecha',y='valor')"
      ],
      "metadata": {
        "id": "6qXTsK_ywdmS"
      },
      "execution_count": null,
      "outputs": []
    },
    {
      "cell_type": "markdown",
      "source": [
        "Podemos embellecer el gráfico añadiendo parámetros a la función plot:"
      ],
      "metadata": {
        "id": "IW5Ztf3vvRaf"
      }
    },
    {
      "cell_type": "code",
      "source": [
        "df.plot(x='fecha',y='valor',\n",
        "        fontsize=12,\n",
        "        figsize=(15,10),\n",
        "        marker='o',\n",
        "        ms=5,\n",
        "        lw=1,\n",
        "        grid=True,\n",
        "        legend=False\n",
        "        )"
      ],
      "metadata": {
        "id": "aMRxAlGwvMDW"
      },
      "execution_count": null,
      "outputs": []
    }
  ]
}