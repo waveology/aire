{
  "nbformat": 4,
  "nbformat_minor": 0,
  "metadata": {
    "colab": {
      "provenance": [],
      "toc_visible": true,
      "authorship_tag": "ABX9TyOJAM3NlL3ErYeTl+AWz+vc",
      "include_colab_link": true
    },
    "kernelspec": {
      "name": "python3",
      "display_name": "Python 3"
    },
    "language_info": {
      "name": "python"
    }
  },
  "cells": [
    {
      "cell_type": "markdown",
      "metadata": {
        "id": "view-in-github",
        "colab_type": "text"
      },
      "source": [
        "<a href=\"https://colab.research.google.com/github/waveology/aire/blob/main/tema7_contraste_de_hipotesis.ipynb\" target=\"_parent\"><img src=\"https://colab.research.google.com/assets/colab-badge.svg\" alt=\"Open In Colab\"/></a>"
      ]
    },
    {
      "cell_type": "markdown",
      "source": [
        "# Contraste de hipótesis_I"
      ],
      "metadata": {
        "id": "b8peeGhlXnOU"
      }
    },
    {
      "cell_type": "markdown",
      "source": [
        "### **1. Probabilidad de obtener determinados resultados en una moneda normal**\n",
        "---\n",
        "\n"
      ],
      "metadata": {
        "id": "XwaO9UUQgI8k"
      }
    },
    {
      "cell_type": "markdown",
      "source": [
        "* Todos sabemos que la probabilidad de obtener cara en el lanzamiento de una moneda *correcta* es del 50%\n",
        "<div><center><img src=\"https://github.com/waveology/aire/raw/main/img/quetzal.jpg\" width=\"150\"/></center></div>\n",
        "\n",
        "* ¿Cuál será la probabilidad de obtener dos caras en dos lanzamientos?\n",
        "\n",
        "* Al tratarse de un solo caso favorable entre cuatro posibles, la probabilidad será de 1/4 o del 25%\n",
        "\n",
        "* La probabilidad de obtener, como mínimo, $k$ caras en una secuencia de $n$ lanzamientos viene dada por la distribución binomial:\n",
        "\n",
        "$$\\sum‎_{i=k}^{n} \\binom{n}{i} \\cdot p^i \\space (1-p)^{n-i}$$\n",
        "\n",
        "* Veamos algunos ejemplos con Python.\n",
        "\n",
        "\n",
        "\n",
        "\n",
        "\n",
        "\n",
        "\n"
      ],
      "metadata": {
        "id": "SNQJJDOKYVnQ"
      }
    },
    {
      "cell_type": "code",
      "execution_count": null,
      "metadata": {
        "id": "3TEU5EAizy_l"
      },
      "outputs": [],
      "source": [
        "# Importamos la función binomial de la extensión de estadística scipy\n",
        "# ---------------------------------------------------------------------\n",
        "from scipy.stats import binom"
      ]
    },
    {
      "cell_type": "markdown",
      "source": [
        "* Creamos una función que calcula la probabilidad de obtener **al menos** un número de caras en una secuencia de lanzamientos de una moneda\n",
        "\n",
        "* El método cdf calcula la probabilidad de que el número de caras sea menor que un determinado umbral. Para obtener la probabilidad de que sea mayor o igual que ese umbral basta con restar ese valor a 1:"
      ],
      "metadata": {
        "id": "S80KuoqsnspY"
      }
    },
    {
      "cell_type": "code",
      "source": [
        "def probabilidad_caras(lanzamientos=1, numero_de_caras=1) :\n",
        "    \"\"\"\n",
        "    Probabilidad de obtener caras al menos un número de veces\n",
        "    al realizar varios lanzamientos de una moneda equilibrada\n",
        "    \"\"\"\n",
        "\n",
        "    # Calcula\n",
        "    # -------\n",
        "    prob = 1-binom.cdf(k=numero_de_caras-1, n=lanzamientos, p=0.5)\n",
        "\n",
        "    # Devuelve el valor resultante\n",
        "    # ----------------------------\n",
        "    return prob"
      ],
      "metadata": {
        "id": "AAm8VlQk0FDm"
      },
      "execution_count": null,
      "outputs": []
    },
    {
      "cell_type": "markdown",
      "source": [
        "* Determinamos cuántos lanzamientos de moneda se realizan y cuántas caras esperamos obtener al menos:"
      ],
      "metadata": {
        "id": "mPJFUAFkpRvS"
      }
    },
    {
      "cell_type": "code",
      "source": [
        "\n",
        "# Número de lanzamientos\n",
        "# ------------------------\n",
        "lanzamientos     = 100\n",
        "\n",
        "# Número mínimo de caras esperado\n",
        "# -------------------------------\n",
        "numero_de_caras  =  60\n",
        "\n",
        "# Llamamos a la función\n",
        "# -------------------------\n",
        "probabilidad = 100 * probabilidad_caras(lanzamientos=lanzamientos, numero_de_caras=numero_de_caras)\n",
        "\n",
        "# Muestra resultados\n",
        "# -------------------\n",
        "print('La probablidad de obtener al menos %d caras en %d lanzamientos es del %.3f %%' % (numero_de_caras,lanzamientos,probabilidad))"
      ],
      "metadata": {
        "id": "luBmzQRfWols"
      },
      "execution_count": null,
      "outputs": []
    },
    {
      "cell_type": "markdown",
      "source": [
        "###**2. ¿Qué es un resultado aceptable?**\n",
        "---"
      ],
      "metadata": {
        "id": "q2Emv_5RhJ2c"
      }
    },
    {
      "cell_type": "markdown",
      "source": [
        "* Nos preguntamos qué número de caras debería hacernos sospechar de que la moneda pudiera haber sido manipulada. \n",
        "* La probabilidad de obtener al menos 60 caras en 100 lanzamientos es baja (2.8%) pero el caso puede darse. \n",
        "* ¿Cómo podemos tomar una decisión sobre la  calidad de la moneda?"
      ],
      "metadata": {
        "id": "U6iUvFLbh_3I"
      }
    },
    {
      "cell_type": "markdown",
      "source": [
        "### **3. El contraste de hipótesis**\n",
        "---"
      ],
      "metadata": {
        "id": "dV5YGroQjm5R"
      }
    },
    {
      "cell_type": "markdown",
      "source": [
        "* Se trata de un procedimiento para inferir si lo que observamos es compatible con lo que asumimos como cierto. \n",
        "\n",
        "* Proporciona un criterio para la toma de decisiones basado en la inferencia estadística.\n",
        "\n",
        "* Se organiza típicamente en los siguientes pasos:\n",
        "\n",
        " * Se establece una hipótesis de partida (*hipótesis nula*)\n",
        " * Se busca un test que determine la probabilidad del resultado observado de acuerdo a la hipótesis (p-valor)\n",
        " * Atribuimos un nivel de significación al test ($\\alpha$) \n",
        " * Si p-valor $\\lt$ $\\alpha$ rechazamos la hipótesis de partida\n",
        " * Si el p-valor $\\ge$ $\\alpha$ conservamos la hipótesis de partida\n",
        "\n",
        "\n",
        "\n",
        "\n"
      ],
      "metadata": {
        "id": "T7Pb04aWkDCZ"
      }
    },
    {
      "cell_type": "markdown",
      "source": [
        "### **4. Ejemplo con la moneda**\n",
        "---"
      ],
      "metadata": {
        "id": "HMqUrGY6pvn4"
      }
    },
    {
      "cell_type": "markdown",
      "source": [
        "*   Hipótesis nula: la moneda está equilibrada.\n",
        "*   Hipótesis alternativa: la moneda no está equilibrada.\n",
        "*   Test: probabilidad de obtener al menos un determinado número de caras\n",
        "*   Nivel de significación:  $\\alpha = 0.05$ (5%)"
      ],
      "metadata": {
        "id": "AMKE62IPqRLb"
      }
    },
    {
      "cell_type": "code",
      "source": [
        "# Elegimos un nivel de significación del 5%\n",
        "# Se trata de una opción de uso extendido\n",
        "# --------------------------------------------\n",
        "alfa   = 0.05\n",
        "\n",
        "# Calculamos la probabilidad de obtener el resultado observado (p-valor)\n",
        "# -----------------------------------------------------------------------\n",
        "p_valor = probabilidad_caras(lanzamientos=100, numero_de_caras=59)\n",
        "\n",
        "# Comparamos el p-valor con el nivel de significación del test\n",
        "# --------------------------------------------------------------\n",
        "if p_valor < alfa :\n",
        "\n",
        "  # El p-valor es menor que alfa : rechazamos la hipótesis de partida\n",
        "  # -----------------------------------------------------------------\n",
        "  \n",
        "  print('p_valor=%.3f < alfa=%.3f' % (p_valor,alfa))\n",
        "  print('Hay suficiente evidencia para rechazar la hipótesis nula: la moneda NO está equilibrada')\n",
        "\n",
        "else :\n",
        "\n",
        "  # El p-valor es mayor que alfa : no rechazamos la hipótesis de partida\n",
        "  # -----------------------------------------------------------------\n",
        "\n",
        "  print('p_valor=%.3f >= alfa=%.3f' % (p_valor,alfa))\n",
        "  print('NO hay suficiente evidencia para rechazar la hipótesis nula')  "
      ],
      "metadata": {
        "id": "F6i6uUEjvpDT"
      },
      "execution_count": null,
      "outputs": []
    },
    {
      "cell_type": "markdown",
      "source": [
        "* Repetimos el experimento relajando el nivel de significación del test.\n",
        "* Es decir que estaremos dispuestos a aceptar resultados aún más improbables.\n",
        "\n",
        "  * Hipótesis nula: la moneda está equilibrada, no está manipulada.\n",
        "  * Test: probabilidad de obtener al menos un determinado número de caras\n",
        "  * Nivel de significación:  \\alpha$ = 0.01$ (1%)"
      ],
      "metadata": {
        "id": "SFH0S8kb2-GW"
      }
    },
    {
      "cell_type": "code",
      "source": [
        "# Elegimos un nivel de significación del 5%\n",
        "# Se trata de una opción de uso extendido\n",
        "# --------------------------------------------\n",
        "alfa   = 0.01\n",
        "\n",
        "# Calculamos la probabilidad de obtener el resultado observado (p-valor)\n",
        "# -----------------------------------------------------------------------\n",
        "p_valor = probabilidad_caras(lanzamientos=100, numero_de_caras=63)\n",
        "\n",
        "# Comparamos el p-valor con el nivel de significación del test\n",
        "# --------------------------------------------------------------\n",
        "if p_valor < alfa :\n",
        "\n",
        "  # El p-valor es menor que alfa : rechazamos la hipótesis de partida\n",
        "  # -----------------------------------------------------------------  \n",
        "\n",
        "  print('p_valor=%.3f < alfa=%.3f' % (p_valor,alfa))\n",
        "  print('Hay suficiente evidencia para rechazar la hipótesis nula: la moneda NO está equilibrada')\n",
        "\n",
        "else :\n",
        "\n",
        "  # El p-valor es mayor que alfa : no rechazamos la hipótesis de partida\n",
        "  # -----------------------------------------------------------------\n",
        "\n",
        "  print('p_valor=%.3f >= alfa=%.3f' % (p_valor,alfa))\n",
        "  print('NO hay suficiente evidencia para rechazar la hipótesis nula')  "
      ],
      "metadata": {
        "id": "nMD9g24V4Roa"
      },
      "execution_count": null,
      "outputs": []
    },
    {
      "cell_type": "markdown",
      "source": [
        "### **5. Interpretación**\n",
        "---"
      ],
      "metadata": {
        "id": "boWgQYsAy_y_"
      }
    },
    {
      "cell_type": "markdown",
      "source": [
        "*    Obtener al menos 58 caras en 100 lanzamientos es compatible con una moneda equilbrada, a un nivel de significación del **5%**\n",
        "\n",
        "*    Obtener al menos 59 caras en 100 lanzamientos **acumula suficiente evidencia** contra la idea de moneda esté equilibrada, a un nivel de significación del **5%**\n",
        "\n",
        "*    Obtener al menos 62 caras en 100 lanzamientos es compatible con una moneda equilbrada, a un nivel de significación del **1%**\n",
        "\n",
        "*    Obtener al menos 63 caras en 100 lanzamientos **acumula suficiente evidencia** contra la idea de moneda esté equilibrada, a un nivel de significación del **1%**\n"
      ],
      "metadata": {
        "id": "tTtUgLt8zTCL"
      }
    }
  ]
}
