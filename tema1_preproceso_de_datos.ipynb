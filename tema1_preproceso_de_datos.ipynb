{
  "nbformat": 4,
  "nbformat_minor": 0,
  "metadata": {
    "colab": {
      "provenance": [],
      "toc_visible": true,
      "authorship_tag": "ABX9TyM5ZooC21h5wn2LxrrPmXUD",
      "include_colab_link": true
    },
    "kernelspec": {
      "name": "python3",
      "display_name": "Python 3"
    },
    "language_info": {
      "name": "python"
    }
  },
  "cells": [
    {
      "cell_type": "markdown",
      "metadata": {
        "id": "view-in-github",
        "colab_type": "text"
      },
      "source": [
        "<a href=\"https://colab.research.google.com/github/waveology/aire/blob/main/tema1_preproceso_de_datos.ipynb\" target=\"_parent\"><img src=\"https://colab.research.google.com/assets/colab-badge.svg\" alt=\"Open In Colab\"/></a>"
      ]
    },
    {
      "cell_type": "markdown",
      "source": [
        "# El preproceso de los datos"
      ],
      "metadata": {
        "id": "Ne1ehplL3XWb"
      }
    },
    {
      "cell_type": "markdown",
      "source": [
        "* A veces, el acceso a los datos almacenados en ficheros puede resultar tedioso. \n",
        "* Con frecuencia, los datos no se encuentran en el formato que necesitamos.\n",
        "* Hay invertir algo de tiempo en adaptarlos a nuestros métodos de análisis."
      ],
      "metadata": {
        "id": "-GGtsV8bWb3a"
      }
    },
    {
      "cell_type": "markdown",
      "source": [
        "###1. El origen de los datos\n",
        "---"
      ],
      "metadata": {
        "id": "CEE2M99S3oO-"
      }
    },
    {
      "cell_type": "markdown",
      "source": [
        "Vamos a ver un ejemplo de este preproceso en Python, basado en los datos de calidad del aire que publica la Comunidad de Madrid (España) y que están libremente disponibles en [la web](https://datos.comunidad.madrid/catalogo/dataset/calidad_aire_datos_historico)"
      ],
      "metadata": {
        "id": "yysfX5xJXswI"
      }
    },
    {
      "cell_type": "markdown",
      "source": [
        "Descargamos los datos de algún año del histórico:"
      ],
      "metadata": {
        "id": "bIyYxjLxYkmR"
      }
    },
    {
      "cell_type": "code",
      "execution_count": null,
      "metadata": {
        "id": "yUHr0xjHWP0B"
      },
      "outputs": [],
      "source": [
        "# Seleccionamos un año cualquiera (hay datos disponibles desde 2005)\n",
        "# -------------------------------------------------------------------\n",
        "anio = 2023\n",
        "\n",
        "# Repositorio Github del curso donde se encuentra una copia de los datos \n",
        "# -----------------------------------------------------------------------\n",
        "url = \"https://raw.githubusercontent.com/waveology/aire/main/datos/contaminacion\"\n",
        "#url = \"https://datos.comunidad.madrid/catalogo/dataset/a770d92c-c513-4974-b1a7-2b15be1dd91f/resource/4aab1384-5abf-414e-9f42-af5fc334f436/download\"\n",
        "\n",
        "# Descarga los datos a Colab si no se han descargado previamente\n",
        "# --------------------------------------------------------------\n",
        "! [ ! -f {anio}.csv ]  &&  wget {url}/{anio}.csv -O {anio}.csv || echo \"¡El fichero ya se ha descargado anteriormente!\""
      ]
    },
    {
      "cell_type": "markdown",
      "source": [
        "El inventario del contenido puede consultarse [aquí](https://datos.comunidad.madrid/catalogo/dataset/a770d92c-c513-4974-b1a7-2b15be1dd91f/resource/f743eacc-5e89-4591-a0fc-4caebfe22557/download/descripcion-fichero-datos-de-contaminantes.pdf)"
      ],
      "metadata": {
        "id": "vldBSoZqbvU3"
      }
    },
    {
      "cell_type": "markdown",
      "source": [
        "###2. Lectura de los datos\n",
        "---"
      ],
      "metadata": {
        "id": "Psq0ADs4353q"
      }
    },
    {
      "cell_type": "markdown",
      "source": [
        "* Empezamos por importar las extensiones que vamos a usar.\n",
        "* Por ahora solo necesitaremos Pandas, una librería que permite procesar eficientemente estructuras de datos similares a las tablas de Excel."
      ],
      "metadata": {
        "id": "2ZUweNcdu7Xa"
      }
    },
    {
      "cell_type": "code",
      "source": [
        "# Permite manipulación eficiente de tablas de datos\n",
        "# --------------------------------------------------\n",
        "import pandas as pd"
      ],
      "metadata": {
        "id": "BGWxkq7cZfK0"
      },
      "execution_count": null,
      "outputs": []
    },
    {
      "cell_type": "markdown",
      "source": [
        "A continuación, leemos el fichero de datos que hemos descargado antes, y que está en formato CSV, para generar un ***dataframe*** de Pandas. \n",
        "\n",
        "Para una correcta lectura especificamos que:\n",
        "\n",
        "*   el separador de columnas es el punto y coma (;) \n",
        "*   el símbolo usado para designar decimales es la coma (,). \n",
        "\n",
        "NOTA: Otros organismos como el Ayuntamiento de Madrid usan el punto (.) como separador decimal en sus datos de contaminación."
      ],
      "metadata": {
        "id": "1B-AXw2EZNss"
      }
    },
    {
      "cell_type": "code",
      "source": [
        "# Leemos el fichero de datos\n",
        "# --------------------------\n",
        "df0 = pd.read_csv('%s.csv' % anio,  \n",
        "                 sep=';', \n",
        "                 decimal=',')"
      ],
      "metadata": {
        "id": "r-CfYc2pu3sB"
      },
      "execution_count": null,
      "outputs": []
    },
    {
      "cell_type": "markdown",
      "source": [
        "* Los datos están ahora en un ***dataframe*** llamado \"df0\"\n",
        "* Inspeccionamos la estructura del fichero.\n",
        "* Atención a la forma en la que se indica el tiempo."
      ],
      "metadata": {
        "id": "RhFHizwVaFl2"
      }
    },
    {
      "cell_type": "code",
      "source": [
        "print(len(df0))        # ¿Cuántas filas de datos tenemos?\n",
        "print(df0.head(5))     #  Muestra las 5 primeras para hacernos una idea"
      ],
      "metadata": {
        "id": "kJrnlAlkZjMA"
      },
      "execution_count": null,
      "outputs": []
    },
    {
      "cell_type": "markdown",
      "source": [
        "###3. El filtrado de columnas\n",
        "---"
      ],
      "metadata": {
        "id": "aJBRe7ja4NeL"
      }
    },
    {
      "cell_type": "markdown",
      "source": [
        "* Para ahorrar memoria filtramos los datos eliminando la información de las filas que no necesitamos.\n",
        "\n",
        "* Elegimos una estación de medida. Por ejemplo, **Guadalix de la Sierra**, a la que según el inventario le corresponde:\n",
        "\n",
        " *   **código**    : 28067001 (el campo **estación** solo usa los 3 últimos dígitos) \n",
        " *   **municipio** : 67\n",
        "\n",
        "\n",
        "* Elegimos una magnitud de medida. Por ejemplo, el dióxido de nitrógeno (NO$_{2}$), a la que corresponde:\n",
        "\n",
        " *   **magnitud** : 8"
      ],
      "metadata": {
        "id": "8G4wTuxgcjGK"
      }
    },
    {
      "cell_type": "code",
      "source": [
        "# df0 será una versión filtrada de df que solo contiene los datos seleccionados\n",
        "# ------------------------------------------------------------------------------\n",
        "df = df0[ (df0['magnitud']  == 8) \n",
        "\n",
        "       &  (df0['estacion']  == 1) \n",
        "\n",
        "       &  (df0['municipio'] == 67)]\n",
        "       \n",
        "# ¿Qué tamaño tiene?\n",
        "# -------------------\n",
        "print(len(df))\n",
        "\n",
        "# Muestra las primeras cinco filas\n",
        "# ----------------------------------\n",
        "print(df.head(5))          "
      ],
      "metadata": {
        "id": "CKS_a8kFinEB"
      },
      "execution_count": null,
      "outputs": []
    },
    {
      "cell_type": "markdown",
      "source": [
        "###4. Eliminación de columnas no necesarias\n",
        "---"
      ],
      "metadata": {
        "id": "h-61PqGC4iCP"
      }
    },
    {
      "cell_type": "markdown",
      "source": [
        "Una vez que hemos filtrado los datos, podemos eliminar las columnas que ya no necesitamos:\n",
        "\n",
        "* **provincia**\n",
        "* **municipio**\n",
        "* **estación**\n",
        "* **punto de muestreo**\n",
        "* **magnitud**"
      ],
      "metadata": {
        "id": "EpKazF98jebC"
      }
    },
    {
      "cell_type": "code",
      "source": [
        "# Elimina de df las columnas indicadas\n",
        "# --------------------------------------\n",
        "df = df.drop(columns=['provincia','municipio','estacion','punto_muestreo','magnitud'])\n",
        "\n",
        "# Muestra las primeras cinco filas\n",
        "# ---------------------------------\n",
        "print(df.head(5))     "
      ],
      "metadata": {
        "id": "jYj4bFF9jk8A"
      },
      "execution_count": null,
      "outputs": []
    },
    {
      "cell_type": "markdown",
      "source": [
        "###5. Pivotaje de filas y columnas\n",
        "---"
      ],
      "metadata": {
        "id": "VM1Q1gRI4te2"
      }
    },
    {
      "cell_type": "markdown",
      "source": [
        "* Se llama pivotaje al procedimiento por el cual los datos contenidos en columnas pasan a formar parte de filas y viceversa.\n",
        "\n",
        "* En este ejemplo, nos gustaría tener en cada fila los datos correspondientes a cada hora. Sin embargo, la información de cada hora aparece en una columna distinta. \n",
        "\n",
        "* Con la función ***melt*** podemos crear un nuevo ***dataframe*** en el que las horas aparezcan en una columna y la magnitud medida en otra: "
      ],
      "metadata": {
        "id": "PkwoHiC5kA_j"
      }
    },
    {
      "cell_type": "code",
      "source": [
        "# df1 será una versión de df en la que las horas aparecerán en filas en lugar de columnas\n",
        "# ----------------------------------------------------------------------------------------\n",
        "df1 = df.melt(                 \n",
        "                 id_vars=['ano','mes','dia'],                        # Columnas que quedan fijas\n",
        "                 value_vars = [ 'h%02d' % i for i in range(1,25)],   # Columnas que pasan a filas  \n",
        "                 var_name='hora',                                    # Nombre para la nueva columna de horas          \n",
        "                 value_name='valor'                                  # Nombre para la columna con la magnitud\n",
        "                 )\n",
        "# Muestra un resumen del dataframe\n",
        "# -----------------------------------\n",
        "print(df1)"
      ],
      "metadata": {
        "id": "0Ml5HsgBk6sn"
      },
      "execution_count": null,
      "outputs": []
    },
    {
      "cell_type": "markdown",
      "source": [
        "###6. Modificación y adaptación de valores\n",
        "---"
      ],
      "metadata": {
        "id": "91yP6hTo44VX"
      }
    },
    {
      "cell_type": "markdown",
      "source": [
        "Recordatorio de funciones lambda:"
      ],
      "metadata": {
        "id": "LHAgxIKVG_Hl"
      }
    },
    {
      "cell_type": "code",
      "source": [
        "# Funciones simples que se definen en una línea\n",
        "# -----------------------------------------------\n",
        "mifuncion = lambda y : y*y"
      ],
      "metadata": {
        "id": "9yyeIP5XGfty"
      },
      "execution_count": null,
      "outputs": []
    },
    {
      "cell_type": "code",
      "source": [
        "mifuncion(12)"
      ],
      "metadata": {
        "id": "vmcE6AToHNT2"
      },
      "execution_count": null,
      "outputs": []
    },
    {
      "cell_type": "markdown",
      "source": [
        "* Observemos que en la tabla la hora aparece en formato de texto con la letra 'h' seguida de dos dígitos. \n",
        "\n",
        "* Usamos la función ***apply*** que actúa sobre los valores de una columna para corregirla: "
      ],
      "metadata": {
        "id": "nvElz5eel7T9"
      }
    },
    {
      "cell_type": "code",
      "source": [
        "# En la columna 'hora', elimina el primer carácter y convierte el resultado en numérico\n",
        "# --------------------------------------------------------------------------------------\n",
        "df1['hora'] = df1['hora'].apply(lambda x : int(x[1:]))\n",
        "\n",
        "print(df1)"
      ],
      "metadata": {
        "id": "lQPlYbYcmEpc"
      },
      "execution_count": null,
      "outputs": []
    },
    {
      "cell_type": "markdown",
      "source": [
        "* Recordemos que en este proceso nos hemos dejado por el camino la información sobre la validez de los datos.\n",
        "* Por eso repetimos la misma operación con esas columnas generando un nuevo dataframe ***df2***"
      ],
      "metadata": {
        "id": "KD4_jDESw-dm"
      }
    },
    {
      "cell_type": "code",
      "source": [
        "# df2 será una versión de df en la que la validez del dato aparecerán en filas en lugar de columnas\n",
        "# -------------------------------------------------------------------------------------------------\n",
        "df2 = df.melt(id_vars=['ano','mes','dia'],\n",
        "                 value_vars = [ 'v%02d' % i for i in range(1,25)],\n",
        "                 var_name='hora',\n",
        "                 value_name='flag'\n",
        "                 )\n",
        "df2['hora'] = df2['hora'].apply(lambda x : int(x[1:]))\n",
        "print(df2)"
      ],
      "metadata": {
        "id": "uQ9AwUZsn40R"
      },
      "execution_count": null,
      "outputs": []
    },
    {
      "cell_type": "markdown",
      "source": [
        "###7. Fusión de tablas\n",
        "---"
      ],
      "metadata": {
        "id": "9mrfoobv5FsH"
      }
    },
    {
      "cell_type": "markdown",
      "source": [
        "* Hemos creado dos ***dataframes*** (df1 y df2) que contienen los registros de concentración del contaminante y la validez de los datos respectivamente. \n",
        "\n",
        "* A continuación los fusionamos con la función ***merge***:"
      ],
      "metadata": {
        "id": "9ngN3Pa9oViZ"
      }
    },
    {
      "cell_type": "code",
      "source": [
        "# Muestra df1\n",
        "# -----------\n",
        "print(df1)\n",
        "\n",
        "# Muestra df2\n",
        "# ------------\n",
        "print(df2)\n",
        "\n",
        "# Fusiona ambas tablas\n",
        "# --------------------\n",
        "df = df1.merge(df2)\n",
        "\n",
        "# Muestra el resultado\n",
        "# ----------------------\n",
        "print(df)"
      ],
      "metadata": {
        "id": "G9Cs7wBCoTgf"
      },
      "execution_count": null,
      "outputs": []
    },
    {
      "cell_type": "markdown",
      "source": [
        "###8. Eliminación de datos no válidos\n",
        "---"
      ],
      "metadata": {
        "id": "e9TfoxTH5eh8"
      }
    },
    {
      "cell_type": "markdown",
      "source": [
        "* Puesto que no nos interesan los datos no válidos, los eliminamos de la tabla.\n",
        "* Después podemos eliminar la columna 'flag' que no necesitamos para nada."
      ],
      "metadata": {
        "id": "Ki8so8GHosox"
      }
    },
    {
      "cell_type": "code",
      "source": [
        "# ¿Cuántos datos tenemos antes de eliminar los no válidos?\n",
        "n_antes = len(df)\n",
        "\n",
        "# Eliminamos los datos no válidos y borramos la columna flag en un mismo paso\n",
        "# ----------------------------------------------------------------------------\n",
        "df = df[df['flag'] == 'V'].drop(columns='flag')\n",
        "\n",
        "# Mostramos el resultado\n",
        "# ----------------------\n",
        "print(df)\n",
        "\n",
        "# ¿Cuántos datos no válidos fueron eliminados?\n",
        "n_despues = len(df)\n",
        "print('Eliminados %d datos no válidos' % (n_antes - n_despues))"
      ],
      "metadata": {
        "id": "7C_XdDKlowXi"
      },
      "execution_count": null,
      "outputs": []
    },
    {
      "cell_type": "markdown",
      "source": [
        "###9. El tiempo\n",
        "---"
      ],
      "metadata": {
        "id": "tk0bcmCD5mrr"
      }
    },
    {
      "cell_type": "markdown",
      "source": [
        "* Para operar eficientemente con series temporales es conveniente que el tiempo se almacene en un tipo de variable especial (*datetime*) que incorpore la fecha y la hora.\n",
        "\n",
        "* El siguiente paso consiste en combinar las columnas de 'año', 'mes', 'día' y 'hora' en otra llamada 'fecha':"
      ],
      "metadata": {
        "id": "N_9gAPlCqir_"
      }
    },
    {
      "cell_type": "code",
      "source": [
        "# Creamos una columna de tiempo indicando qué columnas tienen el año, el mes, el día y la hora\n",
        "# ---------------------------------------------------------------------------------------------\n",
        "df['fecha'] = pd.to_datetime({'year':df.ano,'month':df.mes,'day':df.dia,'hour':df.hora})\n",
        "\n",
        "# Muestra el resultado\n",
        "# --------------------\n",
        "print(df)"
      ],
      "metadata": {
        "id": "LAlNdCrvqv82"
      },
      "execution_count": null,
      "outputs": []
    },
    {
      "cell_type": "markdown",
      "source": [
        "* Ya no necesitamos las columnas de año, mes, día y hora:"
      ],
      "metadata": {
        "id": "ZlY_hf-Jq8EH"
      }
    },
    {
      "cell_type": "code",
      "source": [
        "# Eliminamos columnas superfluas\n",
        "# -------------------------------\n",
        "df = df.drop(columns=['ano','mes','dia','hora'])\n",
        "\n",
        "# Mostrar resultado\n",
        "# ------------------\n",
        "print(df)"
      ],
      "metadata": {
        "id": "0-ntB3ygrEFq"
      },
      "execution_count": null,
      "outputs": []
    },
    {
      "cell_type": "markdown",
      "source": [
        "###10. Reordenación de columnas si es necesario\n",
        "---"
      ],
      "metadata": {
        "id": "TaLktJwM525m"
      }
    },
    {
      "cell_type": "markdown",
      "source": [
        "* No es necesario reordenar las columnas para operar con ellas.\n",
        "* Pero si queremos hacerlo resulta sencillo::"
      ],
      "metadata": {
        "id": "Tso2_X42sFJD"
      }
    },
    {
      "cell_type": "code",
      "source": [
        "# Basta con hacer una reasignación especificando el orden deseado para las columnas\n",
        "# ----------------------------------------------------------------------------------\n",
        "df = df[['fecha','valor']]\n",
        "\n",
        "# Mostrar resultado\n",
        "# -----------------\n",
        "print(df)"
      ],
      "metadata": {
        "id": "TC0isiVsrLhG"
      },
      "execution_count": null,
      "outputs": []
    },
    {
      "cell_type": "markdown",
      "source": [
        "###11. Resultado final\n",
        "---"
      ],
      "metadata": {
        "id": "NbR-kPj36AXy"
      }
    },
    {
      "cell_type": "markdown",
      "source": [
        "* Ahora nuestros datos están dispuestos en un formato que simplifica mucho las tareas de análisis.\n",
        "* Por ejemplo, la representación gráfica de las series temporales:"
      ],
      "metadata": {
        "id": "G38yuFgHsWL7"
      }
    },
    {
      "cell_type": "code",
      "source": [
        "# Importamos la extensión de gráficos Matplotlib\n",
        "# ------------------------------------------------\n",
        "import matplotlib.pyplot as plt\n",
        "\n",
        "# Dibujamos la serie temporal de datos\n",
        "# -------------------------------------\n",
        "df.plot(x='fecha',y='valor')\n",
        "plt.show()"
      ],
      "metadata": {
        "id": "6qXTsK_ywdmS"
      },
      "execution_count": null,
      "outputs": []
    },
    {
      "cell_type": "markdown",
      "source": [
        "* Podemos añadir detales al gráfico especificando parámetros en la función plot.\n",
        "* Hay múltiples opciones en la [documentación](https://pandas.pydata.org/docs/reference/api/pandas.DataFrame.plot.html)."
      ],
      "metadata": {
        "id": "IW5Ztf3vvRaf"
      }
    },
    {
      "cell_type": "code",
      "source": [
        "# Un título explicativo\n",
        "# -----------------------\n",
        "titulo = 'Concentración de NO$_{2}$ ($\\mu$g/m$^{3}$) medida en la estación de Guadalix de la Sierra'\n",
        "\n",
        "\n",
        "# Gráfico\n",
        "# -------\n",
        "df.plot(x='fecha',y='valor',\n",
        "        fontsize = 12,       # Tamaño de etiquetas en los ejes X-Y\n",
        "        figsize  = (15,10),  # Dimensiones del gráfico (pulgadas)\n",
        "        marker   = 'o',      # Símbolo marcador del dato\n",
        "        ms       = 5,        # Tamaño del marcador\n",
        "        lw       = 1,        # Grosor de líneas conectoras    \n",
        "        grid     = True,     # Rejilla de fondo           \n",
        "        legend   = False,    # Leyenda del gráfico      \n",
        "        title    = titulo    # Título del gráfico  \n",
        "        )\n",
        "\n",
        "# ¿Modificar el tamaño del títlo?\n",
        "# --------------------------------\n",
        "# plt.title(titulo,size=20)\n",
        "\n",
        "\n",
        "# Mostrar gráfico\n",
        "# ---------------\n",
        "plt.show()"
      ],
      "metadata": {
        "id": "aMRxAlGwvMDW"
      },
      "execution_count": null,
      "outputs": []
    },
    {
      "cell_type": "markdown",
      "source": [
        "###12. Resumen\n",
        "---"
      ],
      "metadata": {
        "id": "ERUfguhWPcIH"
      }
    },
    {
      "cell_type": "markdown",
      "source": [
        "En este notebook hemos tratado:\n",
        "\n",
        "* la lectura de datos de contaminación de un fichero en formato CVS\n",
        "* El filtrado de filas de interés\n",
        "* La eliminación de columnas no requeridas\n",
        "* El pivotaje de tablas\n",
        "* La modificación condicional de contenidos de las tablas\n",
        "* La fusión de tablas basada en columnas comunes\n",
        "* El tratamiento del tiempo\n",
        "* La reordenación de columnas\n",
        "* La representacion gráfica simple de series temporales\n"
      ],
      "metadata": {
        "id": "IGS1ZxPjPl0G"
      }
    }
  ]
}