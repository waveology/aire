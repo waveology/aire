{
  "nbformat": 4,
  "nbformat_minor": 0,
  "metadata": {
    "colab": {
      "provenance": [],
      "toc_visible": true,
      "authorship_tag": "ABX9TyOFvprbtPtICEaqdxndKokM",
      "include_colab_link": true
    },
    "kernelspec": {
      "name": "python3",
      "display_name": "Python 3"
    },
    "language_info": {
      "name": "python"
    }
  },
  "cells": [
    {
      "cell_type": "markdown",
      "metadata": {
        "id": "view-in-github",
        "colab_type": "text"
      },
      "source": [
        "<a href=\"https://colab.research.google.com/github/waveology/aire/blob/main/lanzamiento_moneda.ipynb\" target=\"_parent\"><img src=\"https://colab.research.google.com/assets/colab-badge.svg\" alt=\"Open In Colab\"/></a>"
      ]
    },
    {
      "cell_type": "markdown",
      "source": [
        "# Contraste de hipótesis para *determinar* si una moneda ha sido manipulada"
      ],
      "metadata": {
        "id": "b8peeGhlXnOU"
      }
    },
    {
      "cell_type": "markdown",
      "source": [
        "Intuitivamente sabemos que la probabilidad de obtener cara en el lanzamiento de una moneda es del 50%\n",
        "<div><center><img src=\"https://github.com/waveology/aire/raw/main/quetzal.jpg\" width=\"150\"/></center></div>\n",
        "\n",
        "Podemos estimar igualmente la probabilidad de obtener dos caras en dos lanzamientos. Al tratarse de un solo caso favorable entre cuatro posibles, la probabilidad será de 1/4 = 25%\n",
        "La probabilidad de obtener al menos un número de caras en una secuencia de \n",
        "\n",
        "Para casos más complicados podemos recurrir a la distribución binomial:\n",
        "<div><center><img src=\"https://github.com/waveology/aire/raw/main/binomial.svg\" width=\"350\"/></center></div>\n",
        "\n",
        "Veamos algunos ejemplos con Python.\n",
        "\n",
        "\n",
        "\n",
        "\n",
        "\n",
        "\n",
        "\n"
      ],
      "metadata": {
        "id": "SNQJJDOKYVnQ"
      }
    },
    {
      "cell_type": "markdown",
      "source": [
        "\n",
        "\n",
        "Importamos la distribución binomial que está en la extension ***scipy***:\n",
        "\n"
      ],
      "metadata": {
        "id": "K1pRZAGGnUZz"
      }
    },
    {
      "cell_type": "code",
      "execution_count": null,
      "metadata": {
        "id": "3TEU5EAizy_l"
      },
      "outputs": [],
      "source": [
        "from scipy.stats import binom\n"
      ]
    },
    {
      "cell_type": "markdown",
      "source": [
        "Creamos una función que determine la probabilidad de obtener al menos un número de caras en una serie de lanzamientos.\n",
        "\n",
        "El método cdf calcula la probabilidad de que el número de caras sea mayor que un determinado umbral. Para obtener la probabilidad de que sea menor o igual bastará con restar ese valor a 1:"
      ],
      "metadata": {
        "id": "S80KuoqsnspY"
      }
    },
    {
      "cell_type": "code",
      "source": [
        "def probabilidad_caras(lanzamientos, numero_de_caras) :\n",
        "    \"\"\"\n",
        "    Probabilidad de obtener caras al menos un número de veces\n",
        "    al realizar varios lanzamientos de una moneda equilibrada\n",
        "    \"\"\"\n",
        "    prob = 1-binom.cdf(k=numero_de_caras-1, n=lanzamientos, p=0.5)\n",
        "    return 100 * prob"
      ],
      "metadata": {
        "id": "AAm8VlQk0FDm"
      },
      "execution_count": null,
      "outputs": []
    },
    {
      "cell_type": "markdown",
      "source": [
        "Determinamos cuántos lanzamientos de moneda se realizan y cuántas caras esperamos obtener al menos:"
      ],
      "metadata": {
        "id": "mPJFUAFkpRvS"
      }
    },
    {
      "cell_type": "code",
      "source": [
        "lanzamientos     = 10\n",
        "numero_de_caras  =  6\n",
        "\n"
      ],
      "metadata": {
        "id": "1mBKGk8h0F5E"
      },
      "execution_count": null,
      "outputs": []
    },
    {
      "cell_type": "markdown",
      "source": [
        "La probabilidad de ocurrencia es:"
      ],
      "metadata": {
        "id": "Wp7-K7z0pm8S"
      }
    },
    {
      "cell_type": "code",
      "source": [
        "x = probabilidad_caras(lanzamientos, numero_de_caras)\n",
        "\n",
        "print('La probablidad de obtener %d caras en %d lanzamientos es del %.3f %%' % (numero_de_caras,lanzamientos,x))"
      ],
      "metadata": {
        "id": "luBmzQRfWols"
      },
      "execution_count": null,
      "outputs": []
    }
  ]
}