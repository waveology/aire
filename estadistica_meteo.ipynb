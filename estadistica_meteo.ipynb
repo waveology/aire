{
  "nbformat": 4,
  "nbformat_minor": 0,
  "metadata": {
    "colab": {
      "provenance": [],
      "authorship_tag": "ABX9TyOUAiVKAc3bmw3xJmOh3CsJ",
      "include_colab_link": true
    },
    "kernelspec": {
      "name": "python3",
      "display_name": "Python 3"
    },
    "language_info": {
      "name": "python"
    }
  },
  "cells": [
    {
      "cell_type": "markdown",
      "metadata": {
        "id": "view-in-github",
        "colab_type": "text"
      },
      "source": [
        "<a href=\"https://colab.research.google.com/github/waveology/aire/blob/main/estadistica_meteo.ipynb\" target=\"_parent\"><img src=\"https://colab.research.google.com/assets/colab-badge.svg\" alt=\"Open In Colab\"/></a>"
      ]
    },
    {
      "cell_type": "markdown",
      "source": [
        "Descargamos el notebook que contiene las funciones de lectura de ficheros:"
      ],
      "metadata": {
        "id": "r6saYhmA-81R"
      }
    },
    {
      "cell_type": "code",
      "source": [
        "!git clone https://github.com/waveology/aire.git\n",
        "%cd aire"
      ],
      "metadata": {
        "colab": {
          "base_uri": "https://localhost:8080/"
        },
        "id": "cyNmTWPgCFMY",
        "outputId": "70a8d34c-f239-433a-c41b-d281f2ec135c"
      },
      "execution_count": 7,
      "outputs": [
        {
          "output_type": "stream",
          "name": "stdout",
          "text": [
            "Cloning into 'aire'...\n",
            "remote: Enumerating objects: 95, done.\u001b[K\n",
            "remote: Counting objects: 100% (13/13), done.\u001b[K\n",
            "remote: Compressing objects: 100% (12/12), done.\u001b[K\n",
            "remote: Total 95 (delta 5), reused 1 (delta 1), pack-reused 82\u001b[K\n",
            "Unpacking objects: 100% (95/95), 19.18 MiB | 5.10 MiB/s, done.\n",
            "/content/aire\n"
          ]
        }
      ]
    },
    {
      "cell_type": "markdown",
      "source": [
        "Instalamos la extensión que nos permite importar notebooks:"
      ],
      "metadata": {
        "id": "pjt9NW0x_H9T"
      }
    },
    {
      "cell_type": "code",
      "source": [
        "!pip install import-ipynb"
      ],
      "metadata": {
        "colab": {
          "base_uri": "https://localhost:8080/"
        },
        "id": "qrZ0msQJ-7a0",
        "outputId": "82255e29-d081-48e6-f6cd-ab8fc9a26322"
      },
      "execution_count": 8,
      "outputs": [
        {
          "output_type": "stream",
          "name": "stdout",
          "text": [
            "Looking in indexes: https://pypi.org/simple, https://us-python.pkg.dev/colab-wheels/public/simple/\n",
            "Requirement already satisfied: import-ipynb in /usr/local/lib/python3.8/dist-packages (0.1.4)\n",
            "Requirement already satisfied: IPython in /usr/local/lib/python3.8/dist-packages (from import-ipynb) (7.9.0)\n",
            "Requirement already satisfied: nbformat in /usr/local/lib/python3.8/dist-packages (from import-ipynb) (5.7.3)\n",
            "Requirement already satisfied: traitlets>=4.2 in /usr/local/lib/python3.8/dist-packages (from IPython->import-ipynb) (5.7.1)\n",
            "Requirement already satisfied: decorator in /usr/local/lib/python3.8/dist-packages (from IPython->import-ipynb) (4.4.2)\n",
            "Requirement already satisfied: backcall in /usr/local/lib/python3.8/dist-packages (from IPython->import-ipynb) (0.2.0)\n",
            "Requirement already satisfied: pexpect in /usr/local/lib/python3.8/dist-packages (from IPython->import-ipynb) (4.8.0)\n",
            "Requirement already satisfied: pygments in /usr/local/lib/python3.8/dist-packages (from IPython->import-ipynb) (2.6.1)\n",
            "Requirement already satisfied: setuptools>=18.5 in /usr/local/lib/python3.8/dist-packages (from IPython->import-ipynb) (57.4.0)\n",
            "Requirement already satisfied: pickleshare in /usr/local/lib/python3.8/dist-packages (from IPython->import-ipynb) (0.7.5)\n",
            "Requirement already satisfied: prompt-toolkit<2.1.0,>=2.0.0 in /usr/local/lib/python3.8/dist-packages (from IPython->import-ipynb) (2.0.10)\n",
            "Requirement already satisfied: jedi>=0.10 in /usr/local/lib/python3.8/dist-packages (from IPython->import-ipynb) (0.18.2)\n",
            "Requirement already satisfied: jupyter-core in /usr/local/lib/python3.8/dist-packages (from nbformat->import-ipynb) (5.2.0)\n",
            "Requirement already satisfied: fastjsonschema in /usr/local/lib/python3.8/dist-packages (from nbformat->import-ipynb) (2.16.2)\n",
            "Requirement already satisfied: jsonschema>=2.6 in /usr/local/lib/python3.8/dist-packages (from nbformat->import-ipynb) (4.3.3)\n",
            "Requirement already satisfied: parso<0.9.0,>=0.8.0 in /usr/local/lib/python3.8/dist-packages (from jedi>=0.10->IPython->import-ipynb) (0.8.3)\n",
            "Requirement already satisfied: importlib-resources>=1.4.0 in /usr/local/lib/python3.8/dist-packages (from jsonschema>=2.6->nbformat->import-ipynb) (5.10.2)\n",
            "Requirement already satisfied: pyrsistent!=0.17.0,!=0.17.1,!=0.17.2,>=0.14.0 in /usr/local/lib/python3.8/dist-packages (from jsonschema>=2.6->nbformat->import-ipynb) (0.19.3)\n",
            "Requirement already satisfied: attrs>=17.4.0 in /usr/local/lib/python3.8/dist-packages (from jsonschema>=2.6->nbformat->import-ipynb) (22.2.0)\n",
            "Requirement already satisfied: wcwidth in /usr/local/lib/python3.8/dist-packages (from prompt-toolkit<2.1.0,>=2.0.0->IPython->import-ipynb) (0.2.6)\n",
            "Requirement already satisfied: six>=1.9.0 in /usr/local/lib/python3.8/dist-packages (from prompt-toolkit<2.1.0,>=2.0.0->IPython->import-ipynb) (1.15.0)\n",
            "Requirement already satisfied: platformdirs>=2.5 in /usr/local/lib/python3.8/dist-packages (from jupyter-core->nbformat->import-ipynb) (2.6.2)\n",
            "Requirement already satisfied: ptyprocess>=0.5 in /usr/local/lib/python3.8/dist-packages (from pexpect->IPython->import-ipynb) (0.7.0)\n",
            "Requirement already satisfied: zipp>=3.1.0 in /usr/local/lib/python3.8/dist-packages (from importlib-resources>=1.4.0->jsonschema>=2.6->nbformat->import-ipynb) (3.12.0)\n"
          ]
        }
      ]
    },
    {
      "cell_type": "markdown",
      "source": [
        "Importamos las extensiones que vamos a necesitar:"
      ],
      "metadata": {
        "id": "jnTZ1fEu_Y5-"
      }
    },
    {
      "cell_type": "code",
      "source": [
        "import import_ipynb\n",
        "import lectura_de_datos\n",
        "import matplotlib.pyplot as plt\n",
        "from scipy import stats"
      ],
      "metadata": {
        "id": "DnsOSQsG9RX9"
      },
      "execution_count": 9,
      "outputs": []
    },
    {
      "cell_type": "markdown",
      "source": [
        "El listado de estaciones de medida:\n",
        "\n",
        "**Código / Municipio / Nombre**\n",
        "\n",
        "---\n",
        "*       28005002   :    (  5,  'ALCALÁ DE HENARES'), \n",
        "*       28006004   :    (  6,  'ALCOBENDAS'), \n",
        "*       28007004   :    (  7,  'ALCORCÓN'), \n",
        "*       28009001   :\t(  9,  'ALGETE'), \n",
        "*       28013002   :\t( 13,  'ARANJUEZ'), \n",
        "*       28014002   :\t( 14,  'ARGANDA DEL REY'),\n",
        "*       28016001   :\t( 16,  'EL ATAZAR'),\n",
        "*       28045002   :\t( 45,  'COLMENAR VIEJO'), \n",
        "*       28047002   :\t( 47,  'COLLADO VILLALBA'), \n",
        "*       28049003   :\t( 49,  'COSLADA'), \n",
        "*       28058004   :\t( 58,  'FUENLABRADA'), \n",
        "*       28065014   :\t( 65,  'GETAFE'), \n",
        "*       28067001   :\t( 67,  'GUADALIX DE LA SIERRA'), \n",
        "*       28074007   :\t( 74,  'LEGANÉS'), \n",
        "*       28080003   :\t( 80,  'MAJADAHONDA'), \n",
        "*       28092005   :\t( 92,  'MÓSTOLES'), \n",
        "*       28102001   :\t(102,  'ORUSCO DE TAJUÑA'), \n",
        "*       28120001   : \t(120,  'PUERTO DE COTOS'), \n",
        "*       28123002   :\t(123,  'RIVAS-VACIAMADRID'), \n",
        "*       28133002   :\t(133,  'SAN MARTÍN DE VALDEIGLESIAS'), \n",
        "*       28148004   :\t(148,  'TORREJÓN DE ARDOZ'), \n",
        "*       28161001   :\t(161,  'VALDEMORO'), \n",
        "*       28171001   :\t(171,  'VILLA DEL PRADO'), \n",
        "*       28180001   :\t(180,  'VILLAREJO DE SALVANÉS')\n"
      ],
      "metadata": {
        "id": "-EgX5hzMEg63"
      }
    },
    {
      "cell_type": "markdown",
      "source": [
        "El listado de magnitudes que se miden en las estaciones:\n",
        "\n",
        "**Código / Magnitud / Unidades**\n",
        "\n",
        "---\n",
        "*   81 :\t('Velocidad del viento',     'm/s'), \n",
        "*   82 :\t('Dirección del viento',     'º'), \n",
        "*   83 :\t('Temperatura',              'ºC'), \n",
        "*   86 :\t('Humedad relativa',         '%'), \n",
        "*   87 :\t('Presión atmosférica',      'hPa'), \n",
        "*   88 :\t('Radiación solar',          'W/m2'), \n",
        "*   89 :\t('Precipitación',            'mm')"
      ],
      "metadata": {
        "id": "TCfvaJr8F0BF"
      }
    },
    {
      "cell_type": "code",
      "source": [
        "codigo_magnitud = 83         # Temperatura\n",
        "\n",
        "codigo_estacion=28067001     # Guadalix de la Sierra\n",
        "\n",
        "yearlist = ('2020','2021','2022')"
      ],
      "metadata": {
        "id": "BOkZF3SkFIbe"
      },
      "execution_count": null,
      "outputs": []
    },
    {
      "cell_type": "code",
      "source": [
        "df = []\n",
        "for year in yearlist :\n",
        "    \n",
        "    d, magnitud, unidades,estacion = lectura_de_datos.meteo(\n",
        "        \n",
        "             'datos/meteo/%s.csv' % year,\n",
        "\n",
        "              codigo_magnitud = codigo_magnitud, \n",
        "\n",
        "              codigo_estacion = codigo_estacion) \n",
        "    \n",
        "    df.append(d)"
      ],
      "metadata": {
        "id": "Vhx29F0BHfE8"
      },
      "execution_count": null,
      "outputs": []
    }
  ]
}