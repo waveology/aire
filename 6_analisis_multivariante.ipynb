{
  "nbformat": 4,
  "nbformat_minor": 0,
  "metadata": {
    "colab": {
      "provenance": [],
      "authorship_tag": "ABX9TyOgXq9ZyJg+xV9UzejykhPk",
      "include_colab_link": true
    },
    "kernelspec": {
      "name": "python3",
      "display_name": "Python 3"
    },
    "language_info": {
      "name": "python"
    }
  },
  "cells": [
    {
      "cell_type": "markdown",
      "metadata": {
        "id": "view-in-github",
        "colab_type": "text"
      },
      "source": [
        "<a href=\"https://colab.research.google.com/github/waveology/aire/blob/main/6_analisis_multivariante.ipynb\" target=\"_parent\"><img src=\"https://colab.research.google.com/assets/colab-badge.svg\" alt=\"Open In Colab\"/></a>"
      ]
    },
    {
      "cell_type": "markdown",
      "source": [
        "# Análisis multivariante"
      ],
      "metadata": {
        "id": "crfGnGpVlF9C"
      }
    },
    {
      "cell_type": "markdown",
      "source": [
        "Vamos a explorar algunas posibilidades de análisis de datos de calidad del aire que ofrece Python. Usaremos como hasta ahora datos meteorológicos de AEMET y de contaminación de la Comunidad de Madrid."
      ],
      "metadata": {
        "id": "y3nJxRpslS5R"
      }
    },
    {
      "cell_type": "markdown",
      "source": [
        "###1. Copia del repositorio de datos\n",
        "---"
      ],
      "metadata": {
        "id": "YQsi3b0Lq4-H"
      }
    },
    {
      "cell_type": "markdown",
      "source": [
        "Descargamos el repositorio de código y datos para trabajar más cómodamente:"
      ],
      "metadata": {
        "id": "-o3G-_7Wyerw"
      }
    },
    {
      "cell_type": "code",
      "source": [
        "# Directorio de trabajo en Colab \n",
        "# ------------------------------------------------------------\n",
        "%cd /content\n",
        "\n",
        "# Si existe una copia previa del repositorio, la borramos:\n",
        "# ----------------------------------------------------------------------------\n",
        "!  rm -rf aire\n",
        "\n",
        "# Creamos una copia del repositorio SOLO si no existe previamente\n",
        "# ----------------------------------------------------------------------------\n",
        "! [ ! -d aire ] && git clone https://github.com/waveology/aire.git\n",
        "\n",
        "# Entramos en el repositorio que acabamos de copiar\n",
        "# --------------------------------------------------\n",
        "%cd aire"
      ],
      "metadata": {
        "id": "cyNmTWPgCFMY"
      },
      "execution_count": null,
      "outputs": []
    },
    {
      "cell_type": "markdown",
      "source": [
        "Importamos las extensiones que vamos a necesitar. \n",
        "\n",
        "Para simplificar la tarea hemos empaquetado las funciones de lectura de datos en un fichero independiente (lectura_de_datos.py) "
      ],
      "metadata": {
        "id": "jnTZ1fEu_Y5-"
      }
    },
    {
      "cell_type": "code",
      "source": [
        "import lectura_de_datos                                   # lee ficheros de datos meteorológicos y de contaminación de Madrid\n",
        "import matplotlib.pyplot as plt                           # dibujo de gráficos\n",
        "from matplotlib.dates import MonthLocator, DateFormatter  # formato de fechas \n",
        "from scipy import stats                                   # cálculo estadístico\n",
        "import numpy as np                                        # matrices\n",
        "import pandas as pd                                       # dataframes\n",
        "import seaborn as sns"
      ],
      "metadata": {
        "id": "DnsOSQsG9RX9"
      },
      "execution_count": null,
      "outputs": []
    },
    {
      "cell_type": "markdown",
      "source": [
        "###2. Inventario de magnitudes\n",
        "---"
      ],
      "metadata": {
        "id": "TdfNMqrBzzrP"
      }
    },
    {
      "cell_type": "markdown",
      "source": [
        "####Estaciones de medida\n",
        "**Código | Municipio | Nombre**\n",
        "\n",
        "---\n",
        "*       28005002   :    (  5,  'ALCALÁ DE HENARES'), \n",
        "*       28006004   :    (  6,  'ALCOBENDAS'), \n",
        "*       28007004   :    (  7,  'ALCORCÓN'), \n",
        "*       28009001   :\t(  9,  'ALGETE'), \n",
        "*       28013002   :\t( 13,  'ARANJUEZ'), \n",
        "*       28014002   :\t( 14,  'ARGANDA DEL REY'),\n",
        "*       28016001   :\t( 16,  'EL ATAZAR'),\n",
        "*       28045002   :\t( 45,  'COLMENAR VIEJO'), \n",
        "*       28047002   :\t( 47,  'COLLADO VILLALBA'), \n",
        "*       28049003   :\t( 49,  'COSLADA'), \n",
        "*       28058004   :\t( 58,  'FUENLABRADA'), \n",
        "*       28065014   :\t( 65,  'GETAFE'), \n",
        "*       28067001   :\t( 67,  'GUADALIX DE LA SIERRA'), \n",
        "*       28074007   :\t( 74,  'LEGANÉS'), \n",
        "*       28080003   :\t( 80,  'MAJADAHONDA'), \n",
        "*       28092005   :\t( 92,  'MÓSTOLES'), \n",
        "*       28102001   :\t(102,  'ORUSCO DE TAJUÑA'), \n",
        "*       28120001   : \t(120,  'PUERTO DE COTOS'), \n",
        "*       28123002   :\t(123,  'RIVAS-VACIAMADRID'), \n",
        "*       28133002   :\t(133,  'SAN MARTÍN DE VALDEIGLESIAS'), \n",
        "*       28148004   :\t(148,  'TORREJÓN DE ARDOZ'), \n",
        "*       28161001   :\t(161,  'VALDEMORO'), \n",
        "*       28171001   :\t(171,  'VILLA DEL PRADO'), \n",
        "*       28180001   :\t(180,  'VILLAREJO DE SALVANÉS')\n"
      ],
      "metadata": {
        "id": "-EgX5hzMEg63"
      }
    },
    {
      "cell_type": "markdown",
      "source": [
        "####Contaminantes\n",
        "**Código  |  Magnitud  | Unidades**\n",
        "\n",
        "  \n",
        "---\n",
        "*      1 \t:  ('Dióxido de azufre', 'μg/m³'),\n",
        "*      6 \t:  ('Monóxido de carbono', 'mg/m³'),\n",
        "*      7 \t:  ('Monóxido de nitrógeno', 'μg/m³'),\n",
        "*      8 \t:  ('Dióxido de nitrógeno', 'μg/m³'),\n",
        "*      9 \t:  ('Partículas en suspensión < PM2.5', 'μg/m³'),\n",
        "*     10 \t:  ('Partículas en suspensión < PM10',  'μg/m³'),\n",
        "*     12 \t:  ('Óxidos de nitrógeno', 'μg/m³'),\n",
        "*     14 \t:  ('Ozono', 'μg/m³'),\n",
        "*     20 \t:  ('Tolueno', 'μg/m³'),\n",
        "*     22 \t:  ('Black Carbon', 'μg/m³'),\n",
        "*     30 \t:  ('Benceno', 'μg/m³'),\n",
        "*     42 \t:  ('Hidrocarburos totales', 'mg/m³'),\n",
        "*     44 \t:  ('Hidrocarburos no metánicos', 'mg/m³'),\n",
        "*    431  :  ('MetaParaXileno', 'μg/m³')\n",
        "    }"
      ],
      "metadata": {
        "id": "oCkRdKRMoCuG"
      }
    },
    {
      "cell_type": "markdown",
      "source": [
        "####Meteorología\n",
        "**Código | Magnitud | Unidades**\n",
        "\n",
        "---\n",
        "*   81 :\t('Velocidad del viento',     'm/s'), \n",
        "*   82 :\t('Dirección del viento',     'º'), \n",
        "*   83 :\t('Temperatura',              'ºC'), \n",
        "*   86 :\t('Humedad relativa',         '%'), \n",
        "*   87 :\t('Presión atmosférica',      'hPa'), \n",
        "*   88 :\t('Radiación solar',          'W/m2'), \n",
        "*   89 :\t('Precipitación',            'mm')"
      ],
      "metadata": {
        "id": "TCfvaJr8F0BF"
      }
    },
    {
      "cell_type": "markdown",
      "source": [
        "###3. Carga de datos\n",
        "---"
      ],
      "metadata": {
        "id": "lB9I3Y-e0gd7"
      }
    },
    {
      "cell_type": "markdown",
      "source": [
        "Vamos a cargar datos de dos magnitudes para estudiar posibles relaciones:\n"
      ],
      "metadata": {
        "id": "DUpWHT5G0stW"
      }
    },
    {
      "cell_type": "code",
      "source": [
        "# Ejemplo con datos de contaminación\n",
        "# ----------------------------------\n",
        "anio = 2021\n",
        "col1 = 'pm2.5'\n",
        "col2 = 'pm10'\n",
        "col3 = 'no2'\n",
        "\n",
        "df1, magnitud1, unidades1, estacion = lectura_de_datos.comunidad(\n",
        "                                    'datos/comunidad/%s.csv' % anio,\n",
        "                                     codigo_magnitud = 9,          # PM2.5\n",
        "                                     codigo_estacion = 28065014    # Getafe\n",
        "                                     ) \n",
        "df2, magnitud2, unidades2, estacion = lectura_de_datos.comunidad(\n",
        "                                    'datos/comunidad/%s.csv' % anio,\n",
        "                                     codigo_magnitud = 10 ,        # PM10\n",
        "                                     codigo_estacion = 28065014    # Getafe\n",
        "                                     ) \n",
        "df3, magnitud2, unidades2, estacion = lectura_de_datos.comunidad(\n",
        "                                    'datos/comunidad/%s.csv' % anio,\n",
        "                                     codigo_magnitud = 8,        # NO2\n",
        "                                     codigo_estacion = 28065014    # Getafe\n",
        "                                     ) \n",
        "\n",
        "# Asignamos un nombre significativo a la columna 'valor'\n",
        "# -------------------------------------------------------\n",
        "df1.rename(columns={'valor':col1}, inplace=True)\n",
        "df2.rename(columns={'valor':col2}, inplace=True)\n",
        "df3.rename(columns={'valor':col3}, inplace=True)\n",
        "\n",
        "# Fusionamos ambas series de datos en un mismo dataframe\n",
        "# --------------------------------------------------------\n",
        "dlist = (df1,df2,df3)\n",
        "df = dlist[0]\n",
        "for d in dlist[1:] :\n",
        "    df = df.merge(d,left_index=True, right_index=True)\n",
        "print(df)"
      ],
      "metadata": {
        "id": "325Q-Kqw1pIf"
      },
      "execution_count": null,
      "outputs": []
    },
    {
      "cell_type": "markdown",
      "source": [
        "###4. Matriz de dispersión\n",
        "---"
      ],
      "metadata": {
        "id": "8fhJiZOzrOhA"
      }
    },
    {
      "cell_type": "markdown",
      "source": [
        "Echamos un vistazo a ambas series temporales:"
      ],
      "metadata": {
        "id": "sfhHXsgvH0u2"
      }
    },
    {
      "cell_type": "code",
      "source": [
        "sns.pairplot(df, height=5)\n",
        "plt.show()"
      ],
      "metadata": {
        "id": "YE9HiWTy5lcV"
      },
      "execution_count": null,
      "outputs": []
    },
    {
      "cell_type": "markdown",
      "source": [
        "Vamos a añadir una columna a los datos con la estación del año\n"
      ],
      "metadata": {
        "id": "XIb7cE_XSWUb"
      }
    },
    {
      "cell_type": "code",
      "source": [
        "est = {1:'invierno',2:'invierno',3:'primavera',\n",
        "       4:'primavera',5:'primavera',6:'verano',\n",
        "       7:'verano',8:'verano',9:'otoño',\n",
        "       10:'otoño',11:'otoño',12:'invierno'}\n",
        "df['estacion'] = df.index.month\n",
        "df['estacion'] = df['estacion'].apply(lambda x : est[x])"
      ],
      "metadata": {
        "id": "WafFsnwsVGtH"
      },
      "execution_count": null,
      "outputs": []
    },
    {
      "cell_type": "code",
      "source": [
        "sns.pairplot(df, \n",
        "             hue='estacion', \n",
        "             height=3, \n",
        "             #plot_kws={\"s\": 15}, usar con kind=hist\n",
        "             kind=\"kde\", # kde o hist\n",
        "             corner = True\n",
        "             )\n",
        "plt.show()"
      ],
      "metadata": {
        "id": "U9jF7UhitFtx"
      },
      "execution_count": null,
      "outputs": []
    },
    {
      "cell_type": "code",
      "source": [
        "z = sns.pairplot(df, \n",
        "                 height = 5,\n",
        "                 diag_kind=\"kde\"\n",
        "                 )\n",
        "z.map_lower(sns.kdeplot, \n",
        "            levels=4, \n",
        "            color=\"red\"\n",
        "            )\n",
        "plt.show()"
      ],
      "metadata": {
        "id": "ZQs1L1a852vw"
      },
      "execution_count": null,
      "outputs": []
    },
    {
      "cell_type": "code",
      "source": [
        "sns.jointplot(data=df, \n",
        "              x=\"pm10\", \n",
        "              y=\"pm2.5\", \n",
        "              kind = 'reg'   # kde o reg\n",
        "              )\n",
        "plt.show()"
      ],
      "metadata": {
        "id": "47595fBO6z5F"
      },
      "execution_count": null,
      "outputs": []
    },
    {
      "cell_type": "code",
      "source": [
        "sns.jointplot(\n",
        "    data=df,\n",
        "    x=\"pm10\", \n",
        "    y=\"pm2.5\",     \n",
        "    hue=\"estacion\"\n",
        "    )\n",
        "plt.show()"
      ],
      "metadata": {
        "id": "4vfTEhxwWdiU"
      },
      "execution_count": null,
      "outputs": []
    },
    {
      "cell_type": "code",
      "source": [
        "x = np.random.normal(loc=100,  scale=10,size=1000)\n",
        "y = np.random.normal(loc=0,  scale=10,size=1000)\n",
        "df0 = pd.DataFrame()\n",
        "df0['A'] = x + y\n",
        "df0['B'] = x\n",
        "df0.columns = ('A','B')\n",
        "df0.hist()\n",
        "sns.jointplot(data=df0, \n",
        "              x=\"A\", \n",
        "              y=\"B\", \n",
        "              #hue=\"estacion\",  # no reg\n",
        "              kind = 'reg'   # kde o reg\n",
        "              )\n",
        "plt.show()\n"
      ],
      "metadata": {
        "id": "x6uptsFV8cxO"
      },
      "execution_count": null,
      "outputs": []
    },
    {
      "cell_type": "code",
      "source": [
        "dlist =[]\n",
        "for idx in lectura_de_datos.estalist_com:\n",
        "\n",
        "  print(idx,lectura_de_datos.estalist_com[idx][1])\n",
        "  df, mag, uni, est = lectura_de_datos.meteo(\n",
        "                                    'datos/meteo/%s.csv' % anio,\n",
        "                                     codigo_magnitud = 88,          \n",
        "                                     codigo_estacion = idx) \n",
        "  df.rename(columns={'valor':lectura_de_datos.estalist_com[idx][1]}, inplace=True)                                      \n",
        "  dlist.append(df)\n",
        "\n",
        "df = dlist[0]\n",
        "for d in dlist[1:] :\n",
        "    df = df.merge(d,left_index=True, right_index=True)\n",
        "print(df)\n",
        "\n"
      ],
      "metadata": {
        "id": "4MItP3ZolRFK"
      },
      "execution_count": null,
      "outputs": []
    },
    {
      "cell_type": "markdown",
      "source": [
        "Heatmap\n",
        "\n"
      ],
      "metadata": {
        "id": "2N6Q4hVsX19X"
      }
    },
    {
      "cell_type": "code",
      "source": [
        "w = df.groupby(df.index.month).mean()\n",
        "fig, ax = plt.subplots(figsize=(16,16))\n",
        "sns.heatmap(w, annot=True, fmt='.0f',ax=ax)\n",
        "ax.set_title('Media mensual    -    %s (%s)' % (mag,uni))\n",
        "plt.show()"
      ],
      "metadata": {
        "id": "J1uDaosNYp8S"
      },
      "execution_count": null,
      "outputs": []
    }
  ]
}