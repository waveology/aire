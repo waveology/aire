{
  "nbformat": 4,
  "nbformat_minor": 0,
  "metadata": {
    "colab": {
      "provenance": [],
      "toc_visible": true,
      "authorship_tag": "ABX9TyNTUfkPPmiQQDGpQS1qZgNx",
      "include_colab_link": true
    },
    "kernelspec": {
      "name": "python3",
      "display_name": "Python 3"
    },
    "language_info": {
      "name": "python"
    }
  },
  "cells": [
    {
      "cell_type": "markdown",
      "metadata": {
        "id": "view-in-github",
        "colab_type": "text"
      },
      "source": [
        "<a href=\"https://colab.research.google.com/github/waveology/aire/blob/main/tema2_funciones_y_presentaci%C3%B3n_de_datos.ipynb\" target=\"_parent\"><img src=\"https://colab.research.google.com/assets/colab-badge.svg\" alt=\"Open In Colab\"/></a>"
      ]
    },
    {
      "cell_type": "markdown",
      "source": [
        "# Funciones y presentación de datos"
      ],
      "metadata": {
        "id": "Ne1ehplL3XWb"
      }
    },
    {
      "cell_type": "markdown",
      "source": [
        "* En este notebook empaquetaremos las instrucciones del preproceso de datos que hemos visto anteriormente en una función\n",
        "* De esa manera podemos darle más versatilidad en su uso."
      ],
      "metadata": {
        "id": "-GGtsV8bWb3a"
      }
    },
    {
      "cell_type": "markdown",
      "source": [
        "###2. Definición de la función de preproceso\n",
        "---\n"
      ],
      "metadata": {
        "id": "NgOalYYAt2gj"
      }
    },
    {
      "cell_type": "markdown",
      "source": [
        "En Python, las funciones se definen con la instrucción ***def***, anidando instrucciones en un bloque:"
      ],
      "metadata": {
        "id": "3r_EWvzFZbmD"
      }
    },
    {
      "cell_type": "code",
      "execution_count": null,
      "metadata": {
        "id": "yUHr0xjHWP0B"
      },
      "outputs": [],
      "source": [
        "# Definimos una función que realiza el preproceso que se describe en el anterior notebook\n",
        "# ----------------------------------------------------------------------------------------\n",
        "def obtener_datos(anio=2023, magnitud=8, estacion=14, municipio=65) :\n",
        "   \"\"\"\n",
        "   Lee el contenido de un fichero anual de datos de contaminación, selecciona\n",
        "   los que corresponden a una estación y a una magnitud deseada.\n",
        "   Devuelve los datos en una tabla \n",
        "   \"\"\"\n",
        "\n",
        "   # Importamos la extensión Pandas\n",
        "   # --------------------------------\n",
        "   import pandas as pd\n",
        "\n",
        "   # Datos de contaminación de la Comunidad de Madrid\n",
        "   # -------------------------------------------------\n",
        "   url = \"https://raw.githubusercontent.com/waveology/aire/main/datos/contaminacion\"\n",
        "\n",
        "   # Descarga los datos si no se han descargado previamente\n",
        "   # ------------------------------------------------------------\n",
        "   ![ ! -f {anio}.csv ] && wget {url}/{anio}.csv -O {anio}.csv\n",
        "\n",
        "   # Lee el fichero de datos\n",
        "   # -----------------------\n",
        "   fichero = '%s.csv' % anio\n",
        "   df = pd.read_csv(fichero,  \n",
        "                 sep=';', \n",
        "                 decimal=',')\n",
        "   \n",
        "   # Filtramos por magnitud, estación y municipio\n",
        "   # --------------------------------------------      \n",
        "   df = df[ (df['magnitud']  ==  magnitud) \n",
        "       &    (df['estacion']  == estacion) \n",
        "       &    (df['municipio'] == municipio)]\n",
        "\n",
        "   # Eliminamos columnas no necesarias\n",
        "   # -----------------------------------\n",
        "   df = df.drop(columns=['provincia','municipio','estacion','punto_muestreo','magnitud'])\n",
        "\n",
        "   # Pasamos la hora que está en columnas a datos en filas\n",
        "   # ---------------------------------------------------------\n",
        "   df1 = df.melt(id_vars=['ano','mes','dia'],\n",
        "                 value_vars = [ 'h%02d' % i for i in range(1,25)],\n",
        "                 var_name='hora',\n",
        "                 value_name='valor'\n",
        "                 )\n",
        "\n",
        "   # Convertimos la cadena de texto con el dato horario a valor numérico\n",
        "   # --------------------------------------------------------------------\n",
        "   df1['hora'] = df1['hora'].apply(lambda x : int(x[1:]))\n",
        "\n",
        "   # Pasamos la validez que está en columnas a datos en filas\n",
        "   # ---------------------------------------------------------\n",
        "   df2 = df.melt(id_vars=['ano','mes','dia'],\n",
        "                 value_vars = [ 'v%02d' % i for i in range(1,25)],\n",
        "                 var_name='hora',\n",
        "                 value_name='flag'\n",
        "                 )\n",
        "\n",
        "   # Convertimos la cadena de texto con la validez del dato a valor numérico\n",
        "   # ------------------------------------------------------------------------   \n",
        "   df2['hora'] = df2['hora'].apply(lambda x : int(x[1:]))\n",
        "\n",
        "   # Fusionamos ambos dataframes\n",
        "   # ----------------------------\n",
        "   df = df1.merge(df2)\n",
        "\n",
        "   # Eliminamos los datos no válidos y eliminamos la columna de validez\n",
        "   # -------------------------------------------------------------------\n",
        "   df = df[df['flag'] == 'V'].drop(columns='flag')\n",
        "\n",
        "   # Creamos una columna para el tiempo\n",
        "   # -----------------------------------\n",
        "   df['fecha'] = pd.to_datetime({'year':df.ano,'month':df.mes,'day':df.dia,'hour':df.hora})\n",
        "\n",
        "   # Elimninamos columnas no necesarias\n",
        "   # -------------------------------------\n",
        "   df = df.drop(columns=['ano','mes','dia','hora'])\n",
        "\n",
        "   # Reordenamos las columnas (no es necesario)\n",
        "   df = df[['fecha','valor']]\n",
        "\n",
        "   # Establecemos el tiempo como índice\n",
        "   # ------------------------------------\n",
        "   df.set_index(['fecha'],inplace=True)\n",
        "\n",
        "   # Ordenamos los datos por tiempo creciente\n",
        "   df.sort_index(inplace=True)\n",
        "   \n",
        "   #Info\n",
        "   print('Leídos %d datos' % len(df))\n",
        "   \n",
        "   # Devuelve la tabla con los resultados\n",
        "   # --------------------------------------\n",
        "   return df"
      ]
    },
    {
      "cell_type": "markdown",
      "source": [
        "###2. Invocar la función de preproceso\n",
        "---"
      ],
      "metadata": {
        "id": "NbR-kPj36AXy"
      }
    },
    {
      "cell_type": "markdown",
      "source": [
        "* Seleccionamos, por ejemplo, el año 2022\n",
        "* Seleccionamos el contaminante NO$_{2}$\n",
        "* Y elegimos dos estaciones, la de Guadalix de la Sierra y la de Getafe."
      ],
      "metadata": {
        "id": "oUcJqGSzfJ2f"
      }
    },
    {
      "cell_type": "code",
      "source": [
        "# Selección del año de los datos\n",
        "# -------------------------------\n",
        "anio = 2022\n",
        "\n",
        "# Leemos los datos de NO2 de Getafe en 2022\n",
        "# ---------------------------------------\n",
        "no2_getafe   = obtener_datos(anio=anio, magnitud=8, estacion=14, municipio=65)\n",
        "\n",
        "# Leemos los datos de NO2 de Guadalix de la Sierra en 2022\n",
        "# ---------------------------------------------------------\n",
        "no2_guadalix = obtener_datos(anio=anio, magnitud=8, estacion=1,  municipio=67)"
      ],
      "metadata": {
        "id": "LEhXebNSE5_K"
      },
      "execution_count": null,
      "outputs": []
    },
    {
      "cell_type": "markdown",
      "source": [
        "* Vemos que los datos están ya formateados en dos columnas, una con el tiempo y otra con la concentración de contaminante:"
      ],
      "metadata": {
        "id": "zGTczVFKiEZS"
      }
    },
    {
      "cell_type": "code",
      "source": [
        "# Echamos un vistazo a las dos tablas obtenidas\n",
        "# ---------------------------------------------\n",
        "print(no2_getafe)\n",
        "print(no2_guadalix)"
      ],
      "metadata": {
        "id": "vJcn994pHmnj"
      },
      "execution_count": null,
      "outputs": []
    },
    {
      "cell_type": "markdown",
      "source": [
        "###3. Presentación de series\n",
        "---\n"
      ],
      "metadata": {
        "id": "RmxFaBW_uJM4"
      }
    },
    {
      "cell_type": "markdown",
      "source": [
        "Generamos graficos para ambos registros como ya hemos visto anteriormente usando las capacidades gráficas de Pandas:"
      ],
      "metadata": {
        "id": "G38yuFgHsWL7"
      }
    },
    {
      "cell_type": "code",
      "source": [
        "no2_getafe.plot(\n",
        "        fontsize=12,\n",
        "        figsize=(15,10),\n",
        "        marker='o',\n",
        "        ms=5,\n",
        "        lw=1,\n",
        "        grid=True,\n",
        "        legend=False,\n",
        "        title = 'Concentración de NO$_{2}$ ($\\mu$g/m$^{3}$) medida en la estación de Getafe'\n",
        "        )\n",
        "\n",
        "no2_guadalix.plot(\n",
        "        fontsize=12,\n",
        "        figsize=(15,10),\n",
        "        marker='o',\n",
        "        ms=5,\n",
        "        lw=1,\n",
        "        grid=True,\n",
        "        legend=False,\n",
        "        title = 'Concentración de NO$_{2}$ ($\\mu$g/m$^{3}$) medida en la estación de Guadalix de la Sierra'\n",
        "        )"
      ],
      "metadata": {
        "id": "aMRxAlGwvMDW"
      },
      "execution_count": null,
      "outputs": []
    },
    {
      "cell_type": "markdown",
      "source": [
        "Para determinados ajustes será necesario recurrir a la extensión Matplotlib:"
      ],
      "metadata": {
        "id": "zOlW0F9rionP"
      }
    },
    {
      "cell_type": "code",
      "source": [
        "# Importamos la extensión de gráficos Matplotlib\n",
        "# -----------------------------------------------\n",
        "import matplotlib.pyplot as plt\n",
        "\n",
        "# Creamos una figura para nuestro gráfico\n",
        "# -----------------------------------------\n",
        "fig,ax = plt.subplots(figsize=(15,10))\n",
        "\n",
        "# Dibujamos AMBAS series temporales en el mismo gráfico:\n",
        "# --------------------------------------------------------\n",
        "ax.plot(no2_getafe.index, no2_getafe.valor, marker='o', ms=5, lw=1, color='blue',label='Getafe')\n",
        "ax.plot(no2_guadalix.index, no2_guadalix.valor, marker='o', ms=5, lw=1, color='red',label='Guadalix')\n",
        "\n",
        "# Añadimos una rejilla de fondo\n",
        "# ------------------------------\n",
        "ax.grid()\n",
        "\n",
        "# Añadimos una leyenda que identifique cada estación\n",
        "# -------------------------------------------------------\n",
        "ax.legend()\n",
        "\n",
        "# Dibuja\n",
        "# --------\n",
        "plt.show()\n"
      ],
      "metadata": {
        "id": "YbAc3gEVIMaY"
      },
      "execution_count": null,
      "outputs": []
    },
    {
      "cell_type": "markdown",
      "source": [
        "###4. Múltiples series\n",
        "---\n"
      ],
      "metadata": {
        "id": "gOkFUXg0uR8p"
      }
    },
    {
      "cell_type": "markdown",
      "source": [
        "* Los gráficos que contienen varias series temporales en el mismo periodo de tiempo pueden resultar difíciles de interpretar. \n",
        "* Podemos utilizar la función subplots para organizar nuestros gráficos de una forma más legible."
      ],
      "metadata": {
        "id": "jLGUeF5Cjoy-"
      }
    },
    {
      "cell_type": "code",
      "source": [
        "# Prepara el dibujo para presentar 1 columna de gráficos con dos 2 filas\n",
        "# --------------------------------------------------------------------------\n",
        "fig,ax = plt.subplots(\n",
        "                       nrows = 2, \n",
        "                       ncols = 1, \n",
        "                       figsize=(14,7))\n",
        "\n",
        "# Dibuja la serie de Getafe\n",
        "# --------------------------\n",
        "ax[0].plot(no2_getafe.index, no2_getafe.valor, marker='o', ms=5, lw=1, color='blue')\n",
        "ax[0].set_title('Getafe',size=18)\n",
        "\n",
        "# Dibuja la serie de Guadalix\n",
        "# --------------------------\n",
        "ax[1].plot(no2_guadalix.index, no2_guadalix.valor, marker='o', ms=5, lw=1, color='red')\n",
        "ax[1].set_title('Guadalix',size=18)\n",
        "\n",
        "# Genera un título de encabezado general\n",
        "# ----------------------------------------\n",
        "plt.suptitle('Concentración de NO$_{2}$ ($\\mu$g/m$^{3}$)    -    Año %s' % (anio),size=20)\n",
        "\n",
        "# Añade rejilla a ambos dibujos\n",
        "# ------------------------------\n",
        "for a in ax :\n",
        "  a.grid(True)\n",
        "\n",
        "plt.show()"
      ],
      "metadata": {
        "id": "n_GGjPbGPwwt"
      },
      "execution_count": null,
      "outputs": []
    },
    {
      "cell_type": "markdown",
      "source": [
        "* Para extender el rango temporal de los datos, basta con leer los ficheros correspondientes y añadirlos al dibujo."
      ],
      "metadata": {
        "id": "Z_gHSAUcmL3l"
      }
    },
    {
      "cell_type": "code",
      "source": [
        "# Leemos las concentraciones de NO2 en Getafe en los años 2019 y 2020\n",
        "# --------------------------------------------------------------------\n",
        "no2_getafe_2019   = obtener_datos(anio=2019, magnitud=8, estacion=14,  municipio=65)\n",
        "no2_getafe_2020   = obtener_datos(anio=2020, magnitud=8, estacion=14,  municipio=65)\n",
        "no2_getafe_2021   = obtener_datos(anio=2021, magnitud=8, estacion=14,  municipio=65)"
      ],
      "metadata": {
        "id": "o0_TB9-WSHNB"
      },
      "execution_count": null,
      "outputs": []
    },
    {
      "cell_type": "code",
      "source": [
        "# Preparamos un único gráfico\n",
        "# ----------------------------\n",
        "fig,ax = plt.subplots(figsize=(15,10))\n",
        "\n",
        "# Dibujamos todas las series en el mismo gráfico\n",
        "# -----------------------------------------------\n",
        "ax.plot(no2_getafe_2019.index, no2_getafe_2019.valor, marker='o', ms=3, lw=0, color='blue'   ,label='2019')\n",
        "ax.plot(no2_getafe_2020.index, no2_getafe_2020.valor, marker='o', ms=3, lw=0, color='red'    ,label='2020')\n",
        "ax.plot(no2_getafe_2021.index, no2_getafe_2021.valor, marker='o', ms=3, lw=0, color='green'  ,label='2021')\n",
        "ax.plot(no2_getafe.index,      no2_getafe.valor,      marker='o', ms=3, lw=0, color='magenta',label='2022')\n",
        "\n",
        "# Limitamos la escala de concentraciones\n",
        "# ----------------------------------------\n",
        "ax.set_ylim(0,225)\n",
        "\n",
        "# Ponemos el título\n",
        "# -------------------\n",
        "ax.set_title('Evolución de la concentración de NO$_{2}$ ($\\mu$g/m$^{3}$) en Getafe', size = 20)\n",
        "\n",
        "# Añadimos una rejilla de fondo\n",
        "# ------------------------------\n",
        "ax.grid()\n",
        "\n",
        "# Añadimos una leyenda para identificar las series\n",
        "# -------------------------------------------------\n",
        "ax.legend()\n",
        "\n",
        "# Dibujo\n",
        "# ---------\n",
        "plt.show()"
      ],
      "metadata": {
        "id": "c5SiL1gmToeV"
      },
      "execution_count": null,
      "outputs": []
    },
    {
      "cell_type": "markdown",
      "source": [
        "* Comparemos estos resultados con los de otra ciudad como Móstoles:"
      ],
      "metadata": {
        "id": "3tTdPc1eqPkR"
      }
    },
    {
      "cell_type": "code",
      "source": [
        "no2_mostoles_2019   = obtener_datos(anio=2019, magnitud=8, estacion=5,  municipio=92)\n",
        "no2_mostoles_2020   = obtener_datos(anio=2020, magnitud=8, estacion=5,  municipio=92)\n",
        "no2_mostoles_2021   = obtener_datos(anio=2021, magnitud=8, estacion=5,  municipio=92)\n",
        "no2_mostoles_2022   = obtener_datos(anio=2022, magnitud=8, estacion=5,  municipio=92)"
      ],
      "metadata": {
        "id": "W7IGyEG5XRAl"
      },
      "execution_count": null,
      "outputs": []
    },
    {
      "cell_type": "code",
      "source": [
        "# Preparamos un único gráfico\n",
        "# ----------------------------\n",
        "fig,ax = plt.subplots(figsize=(15,10))\n",
        "\n",
        "# Dibujamos todas las series en el mismo gráfico\n",
        "# -----------------------------------------------\n",
        "ax.plot(no2_mostoles_2019.index, no2_mostoles_2019.valor, marker='o', ms=3, lw=0, color='blue'   ,label='2019')\n",
        "ax.plot(no2_mostoles_2020.index, no2_mostoles_2020.valor, marker='o', ms=3, lw=0, color='red'    ,label='2020')\n",
        "ax.plot(no2_mostoles_2021.index, no2_mostoles_2021.valor, marker='o', ms=3, lw=0, color='green'  ,label='2021')\n",
        "ax.plot(no2_mostoles_2022.index, no2_mostoles_2022.valor, marker='o', ms=3, lw=0, color='magenta',label='2022')\n",
        "\n",
        "# Limitamos la escala de concentraciones\n",
        "# ----------------------------------------\n",
        "ax.set_ylim(0,225)\n",
        "\n",
        "# Ponemos el título\n",
        "# -------------------\n",
        "ax.set_title('Evolución de la concentración de NO$_{2}$ ($\\mu$g/m$^{3}$) en Móstoles', size = 20)\n",
        "\n",
        "# Añadimos una rejilla de fondo\n",
        "# ------------------------------\n",
        "ax.grid()\n",
        "\n",
        "# Añadimos una leyenda para identificar las series\n",
        "# -------------------------------------------------\n",
        "ax.legend()\n",
        "\n",
        "# Dibujo\n",
        "# ---------\n",
        "plt.show()"
      ],
      "metadata": {
        "id": "aNntc5YvrjOZ"
      },
      "execution_count": null,
      "outputs": []
    },
    {
      "cell_type": "markdown",
      "source": [
        "###6. Resumen\n",
        "---\n"
      ],
      "metadata": {
        "id": "n8T0XrJPuaIN"
      }
    },
    {
      "cell_type": "markdown",
      "source": [
        "En este notebook hemos visto:\n",
        "\n",
        "* Cómo se empaqueta una función de preprocesos de datos para un uso más versátil.\n",
        "* Como invocar la función con diferentes parámetros y acceder a los resultados.\n",
        "* Una introducción a la presentación gráfica de series temporales.\n",
        "* Cómo añadir elementos descriptivos a la representación.\n",
        "* Cómo enfocar la presentación de series múltiples en un único gráfico."
      ],
      "metadata": {
        "id": "uRtHcV0luhIx"
      }
    }
  ]
}