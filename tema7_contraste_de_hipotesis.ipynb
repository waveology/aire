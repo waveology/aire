{
  "nbformat": 4,
  "nbformat_minor": 0,
  "metadata": {
    "colab": {
      "provenance": [],
      "toc_visible": true,
      "authorship_tag": "ABX9TyNcGm0qg/D9uy9GPoEQt9aC",
      "include_colab_link": true
    },
    "kernelspec": {
      "name": "python3",
      "display_name": "Python 3"
    },
    "language_info": {
      "name": "python"
    }
  },
  "cells": [
    {
      "cell_type": "markdown",
      "metadata": {
        "id": "view-in-github",
        "colab_type": "text"
      },
      "source": [
        "<a href=\"https://colab.research.google.com/github/waveology/aire/blob/main/lanzamiento_moneda.ipynb\" target=\"_parent\"><img src=\"https://colab.research.google.com/assets/colab-badge.svg\" alt=\"Open In Colab\"/></a>"
      ]
    },
    {
      "cell_type": "markdown",
      "source": [
        "# Contraste de hipótesis para *determinar* si una moneda ha sido manipulada"
      ],
      "metadata": {
        "id": "b8peeGhlXnOU"
      }
    },
    {
      "cell_type": "markdown",
      "source": [
        "### **1. Probabilidad de resultados en una moneda normal**\n",
        "---\n",
        "\n"
      ],
      "metadata": {
        "id": "XwaO9UUQgI8k"
      }
    },
    {
      "cell_type": "markdown",
      "source": [
        "Intuitivamente sabemos que la probabilidad de obtener cara en el lanzamiento de una moneda es del 50%\n",
        "<div><center><img src=\"https://github.com/waveology/aire/raw/main/img/quetzal.jpg\" width=\"150\"/></center></div>\n",
        "\n",
        "Podemos estimar igualmente la probabilidad de obtener dos caras en dos lanzamientos. Al tratarse de un solo caso favorable entre cuatro posibles, la probabilidad será de 1/4 = 25%\n",
        "La probabilidad de obtener al menos un número de caras en una secuencia de \n",
        "\n",
        "Para casos más complicados podemos recurrir a la distribución binomial:\n",
        "<div><center><img src=\"https://github.com/waveology/aire/raw/main/img/binomial.svg\" width=\"350\"/></center></div>\n",
        "\n",
        "Veamos algunos ejemplos con Python.\n",
        "\n",
        "\n",
        "\n",
        "\n",
        "\n",
        "\n",
        "\n"
      ],
      "metadata": {
        "id": "SNQJJDOKYVnQ"
      }
    },
    {
      "cell_type": "markdown",
      "source": [
        "\n",
        "\n",
        "Importamos la distribución binomial que está en la extension ***scipy***:\n",
        "\n"
      ],
      "metadata": {
        "id": "K1pRZAGGnUZz"
      }
    },
    {
      "cell_type": "code",
      "execution_count": null,
      "metadata": {
        "id": "3TEU5EAizy_l"
      },
      "outputs": [],
      "source": [
        "from scipy.stats import binom\n"
      ]
    },
    {
      "cell_type": "markdown",
      "source": [
        "Creamos una función que determine la probabilidad de obtener al menos un número de caras en una serie de lanzamientos.\n",
        "\n",
        "El método cdf calcula la probabilidad de que el número de caras sea mayor que un determinado umbral. Para obtener la probabilidad de que sea menor o igual bastará con restar ese valor a 1:"
      ],
      "metadata": {
        "id": "S80KuoqsnspY"
      }
    },
    {
      "cell_type": "code",
      "source": [
        "def probabilidad_caras(lanzamientos=1, numero_de_caras=1) :\n",
        "    \"\"\"\n",
        "    Probabilidad de obtener caras al menos un número de veces\n",
        "    al realizar varios lanzamientos de una moneda equilibrada\n",
        "    \"\"\"\n",
        "    prob = 1-binom.cdf(k=numero_de_caras-1, n=lanzamientos, p=0.5)\n",
        "    return prob"
      ],
      "metadata": {
        "id": "AAm8VlQk0FDm"
      },
      "execution_count": null,
      "outputs": []
    },
    {
      "cell_type": "markdown",
      "source": [
        "Determinamos cuántos lanzamientos de moneda se realizan y cuántas caras esperamos obtener al menos:"
      ],
      "metadata": {
        "id": "mPJFUAFkpRvS"
      }
    },
    {
      "cell_type": "code",
      "source": [
        "lanzamientos     = 100\n",
        "\n",
        "numero_de_caras  =  60"
      ],
      "metadata": {
        "id": "1mBKGk8h0F5E"
      },
      "execution_count": null,
      "outputs": []
    },
    {
      "cell_type": "markdown",
      "source": [
        "La probabilidad de ocurrencia es:"
      ],
      "metadata": {
        "id": "Wp7-K7z0pm8S"
      }
    },
    {
      "cell_type": "code",
      "source": [
        "x = 100 * probabilidad_caras(lanzamientos=lanzamientos, numero_de_caras=numero_de_caras)\n",
        "\n",
        "print('La probablidad de obtener al menos %d caras en %d lanzamientos es del %.3f %%' % (numero_de_caras,lanzamientos,x))"
      ],
      "metadata": {
        "id": "luBmzQRfWols"
      },
      "execution_count": null,
      "outputs": []
    },
    {
      "cell_type": "markdown",
      "source": [
        "###**2. ¿Qué es un resultado aceptable?**\n",
        "---"
      ],
      "metadata": {
        "id": "q2Emv_5RhJ2c"
      }
    },
    {
      "cell_type": "markdown",
      "source": [
        "Nos preguntamos qué número de caras debería hacernos sospechar de que la moneda pudiera haber sido manipulada. \n",
        "\n",
        "La probabilidad de obtener al menos 60 caras en 100 lanzamientos es baja (2.8%) pero el caso puede darse. ¿Cómo podemos tomar una decisión sobre la  calidad de la moneda?"
      ],
      "metadata": {
        "id": "U6iUvFLbh_3I"
      }
    },
    {
      "cell_type": "markdown",
      "source": [
        "### **3. El contraste de hipótesis**\n",
        "---"
      ],
      "metadata": {
        "id": "dV5YGroQjm5R"
      }
    },
    {
      "cell_type": "markdown",
      "source": [
        "Se trata de un procedimiento para inferir si lo que observamos es compatible con lo que asumimos como cierto. Proporciona un criterio para la toma de decisiones basadas en la inferencia estadística.\n",
        "\n",
        "Se organiza típicamente en los siguientes pasos:\n",
        "\n",
        "1.   Se establece una hipótesis de partida (*hipótesis nula*)\n",
        "2.   Se busca un test que determine la probabilidad del resultado observado de acuerdo a la hipótesis (p-valor)\n",
        "3.   Atribuimos un nivel de significación al test ($\\alpha$) \n",
        "4.   Si p-valor < $\\alpha$ rechazamos la hipótesis de partida\n",
        "5.   Si el p-valor >= $\\alpha$ conservamos la hipótesis de partida\n",
        "\n",
        "\n",
        "\n",
        "\n"
      ],
      "metadata": {
        "id": "T7Pb04aWkDCZ"
      }
    },
    {
      "cell_type": "markdown",
      "source": [
        "### **4. Ejemplo con la moneda**\n",
        "---"
      ],
      "metadata": {
        "id": "HMqUrGY6pvn4"
      }
    },
    {
      "cell_type": "markdown",
      "source": [
        "*   **Hipótesis nula: la moneda está equilibrada, no está manipulada.**\n",
        "*   **Test: probabilidad de obtener al menos un determinado número de caras**\n",
        "*   **Nivel de significación:  $\\alpha$ = 0.05 (5%)**"
      ],
      "metadata": {
        "id": "AMKE62IPqRLb"
      }
    },
    {
      "cell_type": "code",
      "source": [
        "alfa   = 0.05\n",
        "\n",
        "p_valor = probabilidad_caras(lanzamientos=100, numero_de_caras=58)\n",
        "\n",
        "if p_valor < alfa :\n",
        "\n",
        "  print('p_valor=%.3f < alfa=%.3f' % (p_valor,alfa))\n",
        "  print('Hay suficiente evidencia para rechazar la hipótesis nula: la moneda NO está equilibrada')\n",
        "\n",
        "else :\n",
        "\n",
        "  print('p_valor=%.3f >= alfa=%.3f' % (p_valor,alfa))\n",
        "  print('NO hay suficiente evidencia para rechazar la hipótesis nula')  "
      ],
      "metadata": {
        "id": "F6i6uUEjvpDT"
      },
      "execution_count": null,
      "outputs": []
    },
    {
      "cell_type": "markdown",
      "source": [
        "Repetimos bajando el nivel de significación:\n",
        "\n",
        "*   **Hipótesis nula: la moneda está equilibrada, no está manipulada.**\n",
        "*   **Test: probabilidad de obtener al menos un determinado número de caras**\n",
        "*   **Nivel de significación:  $\\alpha$ = 0.01 (1%)**"
      ],
      "metadata": {
        "id": "SFH0S8kb2-GW"
      }
    },
    {
      "cell_type": "code",
      "source": [
        "alfa   = 0.01\n",
        "\n",
        "p_valor = probabilidad_caras(lanzamientos=100, numero_de_caras=63)\n",
        "\n",
        "if p_valor < alfa :\n",
        "\n",
        "  print('p_valor=%.3f < alfa=%.3f' % (p_valor,alfa))\n",
        "  print('Hay suficiente evidencia para rechazar la hipótesis nula: la moneda NO está equilibrada')\n",
        "\n",
        "else :\n",
        "\n",
        "  print('p_valor=%.3f >= alfa=%.3f' % (p_valor,alfa))\n",
        "  print('NO hay suficiente evidencia para rechazar la hipótesis nula')  "
      ],
      "metadata": {
        "id": "nMD9g24V4Roa"
      },
      "execution_count": null,
      "outputs": []
    },
    {
      "cell_type": "markdown",
      "source": [
        "### **5. Interpretación**\n",
        "---"
      ],
      "metadata": {
        "id": "boWgQYsAy_y_"
      }
    },
    {
      "cell_type": "markdown",
      "source": [
        "*    Obtener al menos 58 caras en 100 lanzamientos es compatible con una moneda equilbrada, a un nivel de significación del **5%**\n",
        "\n",
        "*    Obtener al menos 59 caras en 100 lanzamientos **acumula suficiente evidencia** contra la idea de moneda esté equilibrada, a un nivel de significación del **5%**\n",
        "\n",
        "*    Obtener al menos 62 caras en 100 lanzamientos es compatible con una moneda equilbrada, a un nivel de significación del **1%**\n",
        "\n",
        "*    Obtener al menos 63 caras en 100 lanzamientos **acumula suficiente evidencia** contra la idea de moneda esté equilibrada, a un nivel de significación del **1%**\n"
      ],
      "metadata": {
        "id": "tTtUgLt8zTCL"
      }
    }
  ]
}
