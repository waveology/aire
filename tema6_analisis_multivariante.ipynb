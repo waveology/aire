{
  "nbformat": 4,
  "nbformat_minor": 0,
  "metadata": {
    "colab": {
      "provenance": [],
      "toc_visible": true,
      "authorship_tag": "ABX9TyPBUlvHIc57s54QNFORqpzg",
      "include_colab_link": true
    },
    "kernelspec": {
      "name": "python3",
      "display_name": "Python 3"
    },
    "language_info": {
      "name": "python"
    }
  },
  "cells": [
    {
      "cell_type": "markdown",
      "metadata": {
        "id": "view-in-github",
        "colab_type": "text"
      },
      "source": [
        "<a href=\"https://colab.research.google.com/github/waveology/aire/blob/main/tema6_analisis_multivariante.ipynb\" target=\"_parent\"><img src=\"https://colab.research.google.com/assets/colab-badge.svg\" alt=\"Open In Colab\"/></a>"
      ]
    },
    {
      "cell_type": "markdown",
      "source": [
        "# Análisis multivariante"
      ],
      "metadata": {
        "id": "crfGnGpVlF9C"
      }
    },
    {
      "cell_type": "markdown",
      "source": [
        "* Vamos a explorar algunas posibilidades de análisis de datos de calidad del aire que ofrece Python. \n",
        "* Usaremos como hasta ahora datos meteorológicos de AEMET y de contaminación de la Comunidad de Madrid."
      ],
      "metadata": {
        "id": "y3nJxRpslS5R"
      }
    },
    {
      "cell_type": "markdown",
      "source": [
        "###1. Copia del repositorio de datos\n",
        "---"
      ],
      "metadata": {
        "id": "YQsi3b0Lq4-H"
      }
    },
    {
      "cell_type": "markdown",
      "source": [
        "Descargamos el repositorio de código y datos para trabajar más cómodamente:"
      ],
      "metadata": {
        "id": "-o3G-_7Wyerw"
      }
    },
    {
      "cell_type": "code",
      "source": [
        "# Directorio de trabajo en Colab \n",
        "# ------------------------------------------------------------\n",
        "%cd /content\n",
        "\n",
        "# Si existe una copia previa del repositorio, la borramos:\n",
        "# ----------------------------------------------------------------------------\n",
        "!  rm -rf aire\n",
        "\n",
        "# Creamos una copia del repositorio SOLO si no existe previamente\n",
        "# ----------------------------------------------------------------------------\n",
        "! [ ! -d aire ] && git clone https://github.com/waveology/aire.git\n",
        "\n",
        "# Entramos en el repositorio que acabamos de copiar\n",
        "# --------------------------------------------------\n",
        "%cd aire"
      ],
      "metadata": {
        "id": "cyNmTWPgCFMY"
      },
      "execution_count": null,
      "outputs": []
    },
    {
      "cell_type": "markdown",
      "source": [
        "* Importamos las extensiones que vamos a necesitar. \n",
        "\n",
        "* Para simplificar la tarea hemos empaquetado las funciones de lectura de datos en un fichero independiente (lectura_de_datos.py) "
      ],
      "metadata": {
        "id": "jnTZ1fEu_Y5-"
      }
    },
    {
      "cell_type": "code",
      "source": [
        "import lectura_de_datos                                   # lee ficheros de datos meteorológicos y de contaminación de Madrid\n",
        "import matplotlib.pyplot as plt                           # dibujo de gráficos\n",
        "from matplotlib.dates import MonthLocator, DateFormatter  # formato de fechas \n",
        "from scipy import stats                                   # cálculo estadístico\n",
        "import numpy as np                                        # matrices\n",
        "import pandas as pd                                       # dataframes\n",
        "import seaborn as sns"
      ],
      "metadata": {
        "id": "DnsOSQsG9RX9"
      },
      "execution_count": null,
      "outputs": []
    },
    {
      "cell_type": "markdown",
      "source": [
        "###2. Inventario de magnitudes\n",
        "---"
      ],
      "metadata": {
        "id": "TdfNMqrBzzrP"
      }
    },
    {
      "cell_type": "markdown",
      "source": [
        "* Por conveniencia, hemos introducido en \"lectura_de_datos.py\" el inventario de estaciones de medida de la contaminación.\n",
        "\n",
        "* Listamos los campos: código | municipio | nombre\n",
        "\n"
      ],
      "metadata": {
        "id": "-EgX5hzMEg63"
      }
    },
    {
      "cell_type": "code",
      "source": [
        "# Simplemente escribimos el nombre de la variable para listar las estaciones\n",
        "# -----------------------------------------------------------------------------\n",
        "lectura_de_datos.estalist_com"
      ],
      "metadata": {
        "id": "3ELXEhS_5fDy"
      },
      "execution_count": null,
      "outputs": []
    },
    {
      "cell_type": "code",
      "source": [
        "# Simplemente escribimos el nombre de la variable para listar los contaminantes\n",
        "# -----------------------------------------------------------------------------\n",
        "lectura_de_datos.maglist_com"
      ],
      "metadata": {
        "id": "ep0cfH1H50PM"
      },
      "execution_count": null,
      "outputs": []
    },
    {
      "cell_type": "code",
      "source": [
        "# Simplemente escribimos el nombre de la variable para listar los parámetros meteorológicos\n",
        "# -----------------------------------------------------------------------------\n",
        "lectura_de_datos.maglist_meteo"
      ],
      "metadata": {
        "id": "JJEOyD4P51Kw"
      },
      "execution_count": null,
      "outputs": []
    },
    {
      "cell_type": "markdown",
      "source": [
        "###3. Carga de datos\n",
        "---"
      ],
      "metadata": {
        "id": "lB9I3Y-e0gd7"
      }
    },
    {
      "cell_type": "markdown",
      "source": [
        "* Vamos a cargar datos de algunas magnitudes para estudiar posibles relaciones:\n"
      ],
      "metadata": {
        "id": "DUpWHT5G0stW"
      }
    },
    {
      "cell_type": "code",
      "source": [
        "# Ejemplo con datos de contaminación\n",
        "# ----------------------------------\n",
        "anio = 2021\n",
        "col1 = 'PM2.5'\n",
        "col2 = 'PM10'\n",
        "col3 = 'NO2'\n",
        "\n",
        "df1, magnitud1, unidades1, estacion = lectura_de_datos.contaminacion(\n",
        "                                    'datos/contaminacion/%s.csv' % anio,\n",
        "                                     codigo_magnitud = 9,          # PM2.5\n",
        "                                     codigo_estacion = 28065014    # Getafe\n",
        "                                     ) \n",
        "df2, magnitud2, unidades2, estacion = lectura_de_datos.contaminacion(\n",
        "                                    'datos/contaminacion/%s.csv' % anio,\n",
        "                                     codigo_magnitud = 10 ,        # PM10\n",
        "                                     codigo_estacion = 28065014    # Getafe\n",
        "                                     ) \n",
        "df3, magnitud2, unidades2, estacion = lectura_de_datos.contaminacion(\n",
        "                                    'datos/contaminacion/%s.csv' % anio,\n",
        "                                     codigo_magnitud = 8,        # NO2\n",
        "                                     codigo_estacion = 28065014    # Getafe\n",
        "                                     ) \n",
        "\n",
        "# Asignamos un nombre significativo a la columna 'valor'\n",
        "# -------------------------------------------------------\n",
        "df1.rename(columns={'valor':col1}, inplace=True)\n",
        "df2.rename(columns={'valor':col2}, inplace=True)\n",
        "df3.rename(columns={'valor':col3}, inplace=True)\n",
        "\n",
        "# Fusionamos las series de datos en un mismo dataframe\n",
        "# --------------------------------------------------------\n",
        "dlist = (df1,df2,df3)\n",
        "df = dlist[0]\n",
        "for d in dlist[1:] :\n",
        "    df = df.merge(d,left_index=True, right_index=True)\n",
        "print(df)"
      ],
      "metadata": {
        "id": "325Q-Kqw1pIf"
      },
      "execution_count": null,
      "outputs": []
    },
    {
      "cell_type": "markdown",
      "source": [
        "###4. Matriz de dispersión\n",
        "---"
      ],
      "metadata": {
        "id": "8fhJiZOzrOhA"
      }
    },
    {
      "cell_type": "markdown",
      "source": [
        "* Usamos la función pairplot de la extensión seaborn\n",
        "* Vamos a echar un vistazo a los datos representados unos respecto a otros\n",
        "* En la diagonal se presenta el histograma de cada variable"
      ],
      "metadata": {
        "id": "sfhHXsgvH0u2"
      }
    },
    {
      "cell_type": "code",
      "source": [
        "sns.pairplot(df, height=5)\n",
        "plt.show()"
      ],
      "metadata": {
        "id": "YE9HiWTy5lcV"
      },
      "execution_count": null,
      "outputs": []
    },
    {
      "cell_type": "markdown",
      "source": [
        "* Vamos a añadir a nuestro dataframe una columna que contenga la estación del año del dato\n",
        "* Usaremos el criterio estándar:\n",
        " * Primavera: Marzo-Abril-Mayo\n",
        " * Verano: Junio-Julio-Agosto\n",
        " * Otoño: Septiembre-Octubre-Noviembre\n",
        " * invierno: Diciembre-Enero-Febrero\n"
      ],
      "metadata": {
        "id": "XIb7cE_XSWUb"
      }
    },
    {
      "cell_type": "code",
      "source": [
        "# Creamos un diccionario que atribuye al ordinal de cada mes\n",
        "# la estación del año a que corresponde\n",
        "# ------------------------------------------------------------\n",
        "est = {1:'invierno',2:'invierno',3:'primavera',\n",
        "       4:'primavera',5:'primavera',6:'verano',\n",
        "       7:'verano',8:'verano',9:'otoño',\n",
        "       10:'otoño',11:'otoño',12:'invierno'}\n",
        "\n",
        "# Creamos una columna nueva llamada 'estacion' a la que \n",
        "# asignamos el número del mes       \n",
        "# -------------------------------\n",
        "df['estacion'] = df.index.month\n",
        "\n",
        "# Reasignamos el número del mes a la estación correspondiente\n",
        "# ------------------------------------------------------------\n",
        "df['estacion'] = df['estacion'].apply(lambda x : est[x])"
      ],
      "metadata": {
        "id": "WafFsnwsVGtH"
      },
      "execution_count": null,
      "outputs": []
    },
    {
      "cell_type": "markdown",
      "source": [
        "* Volvemos a ejecutar pairplot, ahora con la opción 'hue' para que distinga las estaciones\n",
        "* Para eliminar los gráficos redundantes podemos usar la opción 'corner'\n",
        "* Los rangos en los ejes pueden ajustarse individualmente"
      ],
      "metadata": {
        "id": "q1xkZL-E8-K5"
      }
    },
    {
      "cell_type": "code",
      "source": [
        "# Llamada a pairplot\n",
        "z = sns.pairplot(df, \n",
        "             hue='estacion', \n",
        "             height=3, \n",
        "             # Tamaño de los marcadores\n",
        "             # -----------------\n",
        "             #plot_kws={\"s\": 15},\n",
        "             #\n",
        "             # Tipo de histograma\n",
        "             # kde o hist\n",
        "             # ---------------------\n",
        "             kind=\"kde\", \n",
        "             corner = True\n",
        "             )\n",
        "\n",
        "# Modificación de los rangos\n",
        "# -------------------------------\n",
        "# Esquina inferior izquierda\n",
        "# -------------------------------\n",
        "z.axes[0,0].set_xlim((0,50))\n",
        "z.axes[0,0].set_ylim((0,125))\n",
        "\n",
        "# Dibujo\n",
        "# ----------\n",
        "plt.show()"
      ],
      "metadata": {
        "id": "U9jF7UhitFtx"
      },
      "execution_count": null,
      "outputs": []
    },
    {
      "cell_type": "markdown",
      "source": [
        "* También podemos optar por combinaciones de diagramas de dispersión con isolíneas de densidad de puntos"
      ],
      "metadata": {
        "id": "riPME2VNMff2"
      }
    },
    {
      "cell_type": "code",
      "source": [
        "z = sns.pairplot(df, \n",
        "                 height = 5,\n",
        "                 diag_kind=\"kde\"\n",
        "                 )\n",
        "z.map_lower(sns.kdeplot, \n",
        "            levels=4, \n",
        "            color=\"red\"\n",
        "            )\n",
        "plt.show()"
      ],
      "metadata": {
        "id": "ZQs1L1a852vw"
      },
      "execution_count": null,
      "outputs": []
    },
    {
      "cell_type": "markdown",
      "source": [
        "###5. Dispersión con histogramas laterales\n",
        "---"
      ],
      "metadata": {
        "id": "Gv6NkAD22vG4"
      }
    },
    {
      "cell_type": "markdown",
      "source": [
        "* Para obtener digramas de dispersión con histogramas laterales recurrimos a la función jointplot"
      ],
      "metadata": {
        "id": "4FZPCDwjM4r_"
      }
    },
    {
      "cell_type": "code",
      "source": [
        "# Invocamos la función jointplot\n",
        "# -----------------------------------\n",
        "sns.jointplot(data=df, \n",
        "              x=col1, \n",
        "              y=col2, \n",
        "              hue = 'estacion',              \n",
        "              #kind = 'kde',   # kde o reg\n",
        "              #xlim = (0,60),\n",
        "              #ylim = (0,100),              \n",
        "              )\n",
        "\n",
        "# Mostrar dibujo\n",
        "# ---------------\n",
        "plt.show()"
      ],
      "metadata": {
        "id": "47595fBO6z5F"
      },
      "execution_count": null,
      "outputs": []
    },
    {
      "cell_type": "markdown",
      "source": [
        "* Veamos un ejemplo con datos sintéticos\n",
        "* Construimos dos series de distribución normal\n",
        "* La primera (A) con media 100\n",
        "* La segunda (B) con media 0"
      ],
      "metadata": {
        "id": "f2_24_pvPtkg"
      }
    },
    {
      "cell_type": "code",
      "source": [
        "# Creamos dos series aleatorias de distribución normal (gausiana)\n",
        "# ----------------------------------------------------------------\n",
        "# Media=100, varianza=10\n",
        "# -----------------------\n",
        "x = np.random.rayleigh(scale=1,size=1000)\n",
        "# Media=0, varianza=10\n",
        "# -----------------------\n",
        "y = np.random.rayleigh(scale=1,size=1000)\n",
        "\n",
        "# Creamos una tabla (dataframe) vacío\n",
        "# ------------------------------------\n",
        "df0 = pd.DataFrame()\n",
        "\n",
        "# Insertamos nuestras series en la tabla\n",
        "# como columnas A y B\n",
        "# --------------------\n",
        "df0['A'] = x\n",
        "df0['B'] = x + y\n",
        "\n",
        "df0['clase'] = df0['B'].apply(lambda w: '%d' % w)\n",
        "print(df0)\n",
        "\n",
        "# Dibujamos sus histogramas\n",
        "# ---------------------------\n",
        "df0.hist(bins=20)\n",
        "\n",
        "sns.jointplot(data=df0, \n",
        "              x=\"A\", \n",
        "              y=\"B\", \n",
        "              hue=\"clase\",   # no reg\n",
        "              #kind = 'reg'   # kde o reg\n",
        "              )\n",
        "plt.show()\n"
      ],
      "metadata": {
        "id": "x6uptsFV8cxO"
      },
      "execution_count": null,
      "outputs": []
    },
    {
      "cell_type": "markdown",
      "source": [
        "###6. Heatmaps\n",
        "---"
      ],
      "metadata": {
        "id": "1anXY10W25B4"
      }
    },
    {
      "cell_type": "markdown",
      "source": [
        "* Otra presentación popular para datos multivariables son los llamados 'heatmaps'\n",
        "* Para ver un ejemplo, usaremos los datos de radiación solar de todas las estaciones de nuestra base de datos"
      ],
      "metadata": {
        "id": "UsdwLlXNzAKh"
      }
    },
    {
      "cell_type": "code",
      "source": [
        "anio = 2022\n",
        "\n",
        "# Creamos una lista vacía para nuestros datos\n",
        "# -------------------------------------------\n",
        "dlist =[]\n",
        "\n",
        "# Bucle que recorre todas las estaciones\n",
        "# --------------------------------------\n",
        "for idx in lectura_de_datos.estalist_com:\n",
        "\n",
        "  # Lee los datos de cada estación\n",
        "  # ---------------------------------\n",
        "  print(idx,lectura_de_datos.estalist_com[idx][1])\n",
        "  df, mag, uni, est = lectura_de_datos.meteo(\n",
        "                                    'datos/meteo/%s.csv' % anio,\n",
        "                                     codigo_magnitud = 88,          \n",
        "                                     codigo_estacion = idx) \n",
        "  \n",
        "  # Sustituye la columna 'valor' por el nombre de la estación\n",
        "  # ----------------------------------------------------------\n",
        "  df.rename(columns={'valor':lectura_de_datos.estalist_com[idx][1]}, inplace=True)\n",
        "\n",
        "  # Añade los datos de esta estación a la lista\n",
        "  # --------------------------------------------\n",
        "  dlist.append(df)\n",
        "\n",
        "# La primera estación de la lista\n",
        "# ----------------------------------\n",
        "df = dlist[0]\n",
        "\n",
        "# Fusiona los datos de todas las estaciones en una única tabla\n",
        "# -------------------------------------------------------------\n",
        "for d in dlist[1:] :\n",
        "    df = df.merge(d,left_index=True, right_index=True)\n",
        "\n",
        "# Muestra el resultado\n",
        "# --------------------    \n",
        "print(df)\n",
        "\n"
      ],
      "metadata": {
        "id": "4MItP3ZolRFK"
      },
      "execution_count": null,
      "outputs": []
    },
    {
      "cell_type": "markdown",
      "source": [
        "* Presentación del \"heatmap\"\n",
        "\n"
      ],
      "metadata": {
        "id": "2N6Q4hVsX19X"
      }
    },
    {
      "cell_type": "code",
      "source": [
        "# Agrupamos los datos por meses y calculamos la media\n",
        "# ----------------------------------------------------\n",
        "w = df.groupby(df.index.month).mean()\n",
        "\n",
        "# Dimensionamos un gráfico\n",
        "# -------------------------\n",
        "fig, ax = plt.subplots(figsize=(12,12))\n",
        "\n",
        "# Generamos el \"heatmap\"\n",
        "# ------------------------\n",
        "sns.heatmap(w, annot=True, fmt='.0f',ax=ax)\n",
        "\n",
        "# Ponemos un título\n",
        "# ------------------\n",
        "ax.set_title('%s   -   Media mensual    -    %s (%s)' % (anio,mag,uni))\n",
        "\n",
        "# Mostramos el dibujo\n",
        "# ----------------------\n",
        "plt.show()"
      ],
      "metadata": {
        "id": "J1uDaosNYp8S"
      },
      "execution_count": null,
      "outputs": []
    },
    {
      "cell_type": "markdown",
      "source": [
        "###7. Resumen\n",
        "---"
      ],
      "metadata": {
        "id": "T_EZbvXl2Ofj"
      }
    },
    {
      "cell_type": "markdown",
      "source": [
        "* En este notebook hemos explorado algunas posibilidades que permiten identificar relaciones entre múltiples variables\n",
        "* En general se trata de un análisis complejo\n",
        "* Hemos dibujado matrices de dispersión, con y sin clases.\n",
        "* Hemos generado diagramas de dispersión con histogramas laterales.\n",
        "* Hemos realizado un ejemplo de heatmap."
      ],
      "metadata": {
        "id": "qp0PROfu3GGu"
      }
    }
  ]
}