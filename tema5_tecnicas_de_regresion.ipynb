{
  "nbformat": 4,
  "nbformat_minor": 0,
  "metadata": {
    "colab": {
      "provenance": [],
      "toc_visible": true,
      "authorship_tag": "ABX9TyNGo4N5V4vDfL9QBjoZ+s4b",
      "include_colab_link": true
    },
    "kernelspec": {
      "name": "python3",
      "display_name": "Python 3"
    },
    "language_info": {
      "name": "python"
    }
  },
  "cells": [
    {
      "cell_type": "markdown",
      "metadata": {
        "id": "view-in-github",
        "colab_type": "text"
      },
      "source": [
        "<a href=\"https://colab.research.google.com/github/waveology/aire/blob/main/tema5_tecnicas_de_regresion.ipynb\" target=\"_parent\"><img src=\"https://colab.research.google.com/assets/colab-badge.svg\" alt=\"Open In Colab\"/></a>"
      ]
    },
    {
      "cell_type": "markdown",
      "source": [
        "# Técnicas de regresión de datos"
      ],
      "metadata": {
        "id": "crfGnGpVlF9C"
      }
    },
    {
      "cell_type": "markdown",
      "source": [
        "* Vamos a explorar algunas posibilidades de análisis de datos de calidad del aire que ofrece Python. \n",
        "\n",
        "* Usaremos, como hasta ahora, datos de libre acceso: \n",
        "  * [meteorológicos de AEMET](https://https://datos.comunidad.madrid/catalogo/dataset/calidad_aire_datos_meteo_historico) \n",
        "  * [de contaminación de la Comunidad de Madrid](https://https://datos.comunidad.madrid/catalogo/dataset/calidad_aire_datos_historico)."
      ],
      "metadata": {
        "id": "y3nJxRpslS5R"
      }
    },
    {
      "cell_type": "markdown",
      "source": [
        "###1. Copia del repositorio de datos\n",
        "---"
      ],
      "metadata": {
        "id": "YQsi3b0Lq4-H"
      }
    },
    {
      "cell_type": "markdown",
      "source": [
        "* Descargamos el repositorio de código y datos para trabajar más cómodamente:"
      ],
      "metadata": {
        "id": "-o3G-_7Wyerw"
      }
    },
    {
      "cell_type": "code",
      "source": [
        "# Directorio de trabajo en Colab \n",
        "# ------------------------------------------------------------\n",
        "%cd /content\n",
        "\n",
        "# Si existe una copia previa del repositorio, la borramos:\n",
        "# ----------------------------------------------------------------------------\n",
        "!  rm -rf aire\n",
        "\n",
        "# Creamos una copia del repositorio SOLO si no existe previamente\n",
        "# ----------------------------------------------------------------------------\n",
        "! [ ! -d aire ] && git clone https://github.com/waveology/aire.git\n",
        "\n",
        "# Entramos en el repositorio que acabamos de copiar\n",
        "# --------------------------------------------------\n",
        "%cd aire"
      ],
      "metadata": {
        "id": "cyNmTWPgCFMY"
      },
      "execution_count": null,
      "outputs": []
    },
    {
      "cell_type": "markdown",
      "source": [
        "* Importamos las extensiones que vamos a necesitar. \n",
        "\n",
        "* Para simplificar la tarea hemos empaquetado las funciones de lectura de datos en un fichero independiente (lectura_de_datos.py) "
      ],
      "metadata": {
        "id": "jnTZ1fEu_Y5-"
      }
    },
    {
      "cell_type": "code",
      "source": [
        "import lectura_de_datos                                   # lee ficheros de datos meteorológicos y de contaminación de Madrid\n",
        "import matplotlib.pyplot as plt                           # dibujo de gráficos\n",
        "from matplotlib.dates import MonthLocator, DateFormatter  # formato de fechas \n",
        "from scipy import stats                                   # cálculo estadístico\n",
        "import numpy as np                                        # matrices\n",
        "import pandas as pd                                       # dataframes\n",
        "\n",
        "# Nuevo en este notebook\n",
        "# ----------------------\n",
        "from sklearn.linear_model import LinearRegression         # regresión\n",
        "from sklearn.preprocessing import PolynomialFeatures      # regresión\n",
        "from sklearn.metrics import mean_squared_error, r2_score  # regresión"
      ],
      "metadata": {
        "id": "DnsOSQsG9RX9"
      },
      "execution_count": null,
      "outputs": []
    },
    {
      "cell_type": "markdown",
      "source": [
        "###2. Inventario de magnitudes\n",
        "---"
      ],
      "metadata": {
        "id": "TdfNMqrBzzrP"
      }
    },
    {
      "cell_type": "markdown",
      "source": [
        "* Por conveniencia, hemos introducido en \"lectura_de_datos.py\" el inventario de estaciones de medida de la contaminación.\n",
        "* Listamos los campos: **código | municipio | nombre**"
      ],
      "metadata": {
        "id": "-EgX5hzMEg63"
      }
    },
    {
      "cell_type": "code",
      "source": [
        "# Simplemente escribimos el nombre de la variable para visualizar su contenido\n",
        "# -----------------------------------------------------------------------------\n",
        "lectura_de_datos.estalist_com"
      ],
      "metadata": {
        "id": "TqWXt-NLM5lI"
      },
      "execution_count": null,
      "outputs": []
    },
    {
      "cell_type": "markdown",
      "source": [
        "* Listamos los contaminantes registrados.\n",
        "* **código | magnitud | unidades**"
      ],
      "metadata": {
        "id": "oCkRdKRMoCuG"
      }
    },
    {
      "cell_type": "code",
      "source": [
        "# Simplemente escribimos el nombre de la variable para visualizar su contenido\n",
        "# -----------------------------------------------------------------------------\n",
        "lectura_de_datos.maglist_com"
      ],
      "metadata": {
        "id": "R7OTlgz9NI5j"
      },
      "execution_count": null,
      "outputs": []
    },
    {
      "cell_type": "markdown",
      "source": [
        "* Y por último, la magnitudes meteorológicas\n",
        "* **código | magnitud | unidades**"
      ],
      "metadata": {
        "id": "TCfvaJr8F0BF"
      }
    },
    {
      "cell_type": "code",
      "source": [
        "# Simplemente escribimos el nombre de la variable para visualizar su contenido\n",
        "# -----------------------------------------------------------------------------\n",
        "lectura_de_datos.maglist_meteo"
      ],
      "metadata": {
        "id": "wz38nhQWNg-t"
      },
      "execution_count": null,
      "outputs": []
    },
    {
      "cell_type": "markdown",
      "source": [
        "###3. Carga de datos\n",
        "---"
      ],
      "metadata": {
        "id": "lB9I3Y-e0gd7"
      }
    },
    {
      "cell_type": "markdown",
      "source": [
        "* Vamos a cargar datos de **dos magnitudes** para estudiar posibles relaciones:\n"
      ],
      "metadata": {
        "id": "DUpWHT5G0stW"
      }
    },
    {
      "cell_type": "code",
      "source": [
        "\n",
        "# # Ejemplo con datos meteorológicos\n",
        "# # --------------------------------\n",
        "# anio = 2022\n",
        "# col1 = 'temperatura'\n",
        "# col2 = 'humedad'\n",
        "# df1, magnitud1, unidades1,estacion1 = lectura_de_datos.meteo(\n",
        "#                                     'datos/meteo/%s.csv' % anio,\n",
        "#                                      codigo_magnitud = 83,        # Temperatura\n",
        "#                                      codigo_estacion = 28092005   # Guadalix de la Sierra  \n",
        "#                                      ) \n",
        "# df2, magnitud2, unidades2,estacion2 = lectura_de_datos.meteo(\n",
        "#                                     'datos/meteo/%s.csv' % anio,\n",
        "#                                      codigo_magnitud = 86 ,        # Humedad relativa\n",
        "#                                      codigo_estacion = 28092005    # Guadalix de la Sierra  \n",
        "#                                      ) \n",
        "\n",
        "\n",
        "# Ejemplo con datos de contaminación\n",
        "# ----------------------------------\n",
        "anio = 2021\n",
        "col1 = 'pm2.5'\n",
        "col2 = 'pm10'\n",
        "df1, magnitud1, unidades1,estacion1 = lectura_de_datos.contaminacion(\n",
        "                                    'datos/contaminacion/%s.csv' % anio,\n",
        "                                     codigo_magnitud = 9,          # PM2.5\n",
        "                                     codigo_estacion = 28065014    # Getafe\n",
        "                                     ) \n",
        "df2, magnitud2, unidades2,estacion2 = lectura_de_datos.contaminacion(\n",
        "                                    'datos/contaminacion/%s.csv' % anio,\n",
        "                                     codigo_magnitud = 10 ,        # PM10\n",
        "                                     codigo_estacion = 28065014    # Getafe\n",
        "                                     ) \n",
        "\n",
        "# Asignamos un nombre significativo a la columna 'valor'\n",
        "# -------------------------------------------------------\n",
        "df1.rename(columns={'valor':col1}, inplace=True)\n",
        "df2.rename(columns={'valor':col2}, inplace=True)\n",
        "\n",
        "# Fusionamos ambas series de datos en un mismo dataframe\n",
        "# --------------------------------------------------------\n",
        "df = pd.merge(df1, df2, left_index=True, right_index=True)\n",
        "\n",
        "print(df.describe())"
      ],
      "metadata": {
        "id": "325Q-Kqw1pIf"
      },
      "execution_count": null,
      "outputs": []
    },
    {
      "cell_type": "markdown",
      "source": [
        "###4. Visualización de series temporales\n",
        "---"
      ],
      "metadata": {
        "id": "8fhJiZOzrOhA"
      }
    },
    {
      "cell_type": "markdown",
      "source": [
        "* Echamos un vistazo a ambas series temporales para estimar visualmente si evolucionan siguiendo un mismo patrón"
      ],
      "metadata": {
        "id": "sfhHXsgvH0u2"
      }
    },
    {
      "cell_type": "code",
      "source": [
        "# Representamos ambas series en el mismo gráfico\n",
        "# ----------------------------------------------\n",
        "df.plot(\n",
        "        marker='o',                                                               # Símbolo\n",
        "        ms=1,                                                                     # Tamaño del símbolo\n",
        "        lw=1,                                                                     # Grosor de líneas de conexión\n",
        "        grid=True,                                                                # Rejilla\n",
        "        figsize=(12,8),                                                           # Tamaño del gráfico\n",
        "        legend=True,                                                              # Leyenda\n",
        "        title='%s VS %s   -    %s  -  %s' % (magnitud2,magnitud1,estacion1,anio), # Titulo        \n",
        "        xlabel= 'Tiempo',                                                         # Etiqueta X   \n",
        "        ylabel= '%s' % (unidades2)                                                # Etiqueta Y   \n",
        "        )\n",
        "plt.show()\n",
        "\n",
        "# # Desplazamiento (offset)\n",
        "# # ---------------------------\n",
        "# df1 = df.copy()\n",
        "# df1['pm10'] = df1['pm10'] + 50\n",
        "# df1.plot(grid=True,figsize=(12,8),title='Aquí, PM10 tiene un offset de 50 %s' % unidades1)\n",
        "# plt.show()\n",
        "\n",
        "# # Cada serie en un gráfico independiente\n",
        "# # ---------------------------------------\n",
        "# fig, ax = plt.subplots(nrows=2,ncols=1,figsize=(12,8))\n",
        "# ax[0].plot(df[col1])\n",
        "# ax[1].plot(df[col2])\n",
        "# for a in ax :\n",
        "#    a.grid(True)\n",
        "#    a.set_ylim(0,200)\n",
        "# plt.show()"
      ],
      "metadata": {
        "id": "P9nMegxcHtrX"
      },
      "execution_count": null,
      "outputs": []
    },
    {
      "cell_type": "markdown",
      "source": [
        "###5. Comparación de series\n",
        "---"
      ],
      "metadata": {
        "id": "6i2huBytrdBm"
      }
    },
    {
      "cell_type": "markdown",
      "source": [
        "* Representamos una serie de datos respecto a la otra:"
      ],
      "metadata": {
        "id": "WK9TM-oDtYET"
      }
    },
    {
      "cell_type": "code",
      "source": [
        "# Dibujamos la columna 1 (PM10) frente a la columna 2 (PM2.5)\n",
        "# --------------------------------------------------------------\n",
        "ax = df.plot(x=col1, y=col2,\n",
        "    marker='o',                                           # Símbolo\n",
        "    ms=3,                                                 # Tamaño del símbolo\n",
        "    lw=0,                                                 # Grosor de líneas de conexión\n",
        "    color='blue',                                         # Color\n",
        "    grid=True,                                            # Rejilla\n",
        "    figsize=(12,8),                                       # Tamaño del gráfico\n",
        "    legend=False,                                         # Leyenda\n",
        "    title='%s vs %s   -    %s  -  %s' % (magnitud2,magnitud1,estacion1,anio),                 # Titulo        \n",
        "    xlabel= '%s %s' % (magnitud1,unidades1),              # Etiqueta X   \n",
        "    ylabel= '%s %s' % (magnitud2,unidades2),              # Etiqueta Y   \n",
        "    xlim=(0,125),\n",
        "    ylim=(0,125)\n",
        ")\n",
        "\n",
        "# Para facilitar la comparación hacemos que los ejes tengan las mismas dimensiones\n",
        "# ----------------------------------------------------------------------------------\n",
        "ax.set_aspect('equal')\n",
        "\n",
        "# Añadimos una línea en la diagonal\n",
        "# ----------------------------------------------------------------------------------\n",
        "ax.plot([0,125],[0,125], color='red', ls='--', lw=2)\n",
        "\n",
        "\n",
        "\n",
        "# Dibujamos\n",
        "# ---------\n",
        "plt.show()"
      ],
      "metadata": {
        "id": "y55I_Rt7teGU"
      },
      "execution_count": null,
      "outputs": []
    },
    {
      "cell_type": "markdown",
      "source": [
        "###6. Regresión a una recta\n",
        "---"
      ],
      "metadata": {
        "id": "bCBVropTrrEX"
      }
    },
    {
      "cell_type": "markdown",
      "source": [
        "* Vamos a buscar la expresión de la recta que ***describe*** el comportamiento conjunto de ambas variables\n",
        "* Creamos un modelo lineal para ajustar los datos"
      ],
      "metadata": {
        "id": "ngvmmTB68F7-"
      }
    },
    {
      "cell_type": "markdown",
      "source": [
        "* Antes que nada:"
      ],
      "metadata": {
        "id": "frJTfsOU_jgc"
      }
    },
    {
      "cell_type": "code",
      "source": [
        "# Nuestros datos son leídos en filas \n",
        "# -----------------------------------\n",
        "print('datos en fila ', np.array(df[col1]))\n",
        "\n",
        "# Sin embargo las funciones que vamos a usar requieren\n",
        "# que una de ellas tenga formato de columna\n",
        "# -----------------------------------------\n",
        "print('datos en columna ', np.array(df[col1]).reshape(-1,1))\n",
        "\n",
        "# Por eso las redefinimos así:\n",
        "# -----------------------------\n",
        "x = np.array(df[col1]).reshape(-1,1)  # Convierte una fila en una columna\n",
        "y = np.array(df[col2])"
      ],
      "metadata": {
        "id": "2z4NCuI_EQhp"
      },
      "execution_count": null,
      "outputs": []
    },
    {
      "cell_type": "markdown",
      "source": [
        "* Ahora podemos continuar"
      ],
      "metadata": {
        "id": "mgjw_BOR_1cm"
      }
    },
    {
      "cell_type": "code",
      "source": [
        " # Definimos nuestro modelo de regresión\n",
        " # ---------------------------------------\n",
        " model     = LinearRegression().fit(x,y)\n",
        "\n",
        " # Calculamos los valores resultantes del ajuste\n",
        " # ----------------------------------------------\n",
        " ajuste    = model.predict(x)"
      ],
      "metadata": {
        "id": "BvBnQvAc8Nxx"
      },
      "execution_count": null,
      "outputs": []
    },
    {
      "cell_type": "markdown",
      "source": [
        "* Representamos el resultado"
      ],
      "metadata": {
        "id": "e4h4a4LJ_6Rp"
      }
    },
    {
      "cell_type": "code",
      "source": [
        "# Definimos el dibujo\n",
        "# ---------------------------------------\n",
        "fig, ax = plt.subplots(figsize=(12,8))\n",
        "\n",
        "# Dibujamos x respecto a y\n",
        "# ------------------------------\n",
        "ax.plot(x,y,\n",
        "        marker = 'o',\n",
        "        ms     =  3,\n",
        "        lw     =  0,\n",
        "        color  = 'blue'\n",
        "        )\n",
        "\n",
        "# Superponemos los valores calculados del ajuste\n",
        "# -----------------------------------------------\n",
        "ax.plot(x,ajuste, ls='-', lw=3, color='black')\n",
        "\n",
        "# Fija los límites del gráfico\n",
        "# ------------------------------\n",
        "ax.set_xlim(0,125),\n",
        "ax.set_ylim(0,125)        \n",
        "\n",
        "# Añadimos una línea en la diagonal\n",
        "# ----------------------------------------------------------------------------------\n",
        "ax.plot([0,125],[0,125], color='red', ls='--', lw=2)\n",
        "\n",
        "# Para facilitar la comparación hacemos que los ejes tengan las mismas dimensiones\n",
        "# ----------------------------------------------------------------------------------\n",
        "ax.set_aspect('equal')\n",
        "\n",
        "# Añadimos una rejilla de fondo\n",
        "# -------------------------------\n",
        "ax.grid(True)\n",
        "\n",
        "# Añadimos un título\n",
        "# -------------------\n",
        "ax.set_title('%s VS %s   -    %s  -  %s' % (magnitud2,magnitud1,estacion1,anio)) # Titulo        \n",
        "\n",
        "# Añadimos etiquetas a los ejes\n",
        "# -----------------------------\n",
        "ax.set_xlabel('%s %s' % (magnitud1,unidades1))                                   # Etiqueta X   \n",
        "ax.set_ylabel('%s %s' % (magnitud2,unidades2))                                   # Etiqueta Y \n",
        "\n",
        "# Dibujamos\n",
        "# ---------\n",
        "plt.show()  "
      ],
      "metadata": {
        "id": "MvsL7iw9JaOj"
      },
      "execution_count": null,
      "outputs": []
    },
    {
      "cell_type": "markdown",
      "source": [
        "* La línea en negro sintetiza el mejor ajuste lineal a nuestra nube de puntos\n",
        "* Para cuantificar la calidad del ajuste se suele recurrir al llamado coeficiente de determinación $R^{2}$\n",
        "* $R^{2}$ toma valores entre cero (mal ajuste) y 1 (ajuste perfecto)."
      ],
      "metadata": {
        "id": "BGb2wAaNAGIN"
      }
    },
    {
      "cell_type": "code",
      "source": [
        "# Podemos calcular fácilmente el valor del coeficiente de determinación\n",
        "# -----------------------------------------------------------------------\n",
        "r2 = model.score(x,y)\n",
        "\n",
        "# Mostramos en pantalla\n",
        "# ------------------------\n",
        "print('R\\u00b2 = %f' % r2)"
      ],
      "metadata": {
        "id": "jGC2MD0VRsg4"
      },
      "execution_count": null,
      "outputs": []
    },
    {
      "cell_type": "markdown",
      "source": [
        "* El valor en el que la recta de ajuste intercepta al eje y se obtiene mediante:"
      ],
      "metadata": {
        "id": "SInZK2bBSRvX"
      }
    },
    {
      "cell_type": "code",
      "source": [
        "# Valor con el que la recta de ajuste intercepta al eje Y\n",
        "# ----------------------------------------------------------\n",
        "b = model.intercept_\n",
        "\n",
        "# Mostramos en pantalla\n",
        "# ---------------------\n",
        "print('b = %f' % b)"
      ],
      "metadata": {
        "id": "aZoWCXowSL88"
      },
      "execution_count": null,
      "outputs": []
    },
    {
      "cell_type": "markdown",
      "source": [
        "* Y también podemos obtener la pendiente de la recta:"
      ],
      "metadata": {
        "id": "FXXg8IqxShT_"
      }
    },
    {
      "cell_type": "code",
      "source": [
        "# Pendiente de la recta de ajuste\n",
        "# -----------------------------------\n",
        "a = model.coef_\n",
        "\n",
        "# Mostramos en pantalla\n",
        "# ----------------------\n",
        "print('a = %f' % a[0])"
      ],
      "metadata": {
        "id": "0Vnq6LcQSsgn"
      },
      "execution_count": null,
      "outputs": []
    },
    {
      "cell_type": "markdown",
      "source": [
        "* De manera que nuestra recta de ajuste viene dada por:\n",
        "\n",
        "### <center>$Y  = a * X + b$</center>\n",
        "\n",
        "* Podemos incorporar esta información al gráfico:"
      ],
      "metadata": {
        "id": "uMhjHCFxTbx5"
      }
    },
    {
      "cell_type": "code",
      "source": [
        "# Expresión de la recta de ajuste en texto\n",
        "# ------------------------------------------\n",
        "info_ajuste  = 'Y = %.3f * X + %.3f\\nR$^{2}=%.3f$' % (a,b,r2)\n",
        "\n",
        "# Título para el gráfico\n",
        "# ----------------------\n",
        "titulo       = '\\n%s VS %s   -    %s  -  %s\\n%s' % (magnitud2,magnitud1,estacion1,anio,info_ajuste)\n",
        "\n",
        "# Dimensionamos el gráfico\n",
        "# -------------------------\n",
        "fig, ax = plt.subplots(figsize=(12,8))\n",
        "\n",
        "# Dibujamos los datos \n",
        "# -------------------\n",
        "ax.plot(x,y,\n",
        "        marker = 'o',\n",
        "        ms     =  3,\n",
        "        lw     =  0,\n",
        "        color  = 'blue'\n",
        "        )\n",
        "\n",
        "# Fija los límites del gráfico\n",
        "# ------------------------------\n",
        "ax.set_xlim(0,125)\n",
        "ax.set_ylim(0,125)        \n",
        "\n",
        "# Añadimos una línea en la diagonal\n",
        "# ----------------------------------------------------------------------------------\n",
        "ax.plot([0,125],[0,125], color='red', ls='--', lw=2)\n",
        "\n",
        "# Para facilitar la comparación hacemos que los ejes tengan las mismas dimensiones\n",
        "# ----------------------------------------------------------------------------------\n",
        "ax.set_aspect('equal')\n",
        "\n",
        "# Dibujamos la recta de ajuste\n",
        "# -----------------------------\n",
        "ax.plot(x,ajuste, ls='-', lw=3, color='black')\n",
        "\n",
        "# Ponemos una rejilla de fondo\n",
        "# ----------------------------\n",
        "ax.grid(True)\n",
        "\n",
        "# Posicionamos el título\n",
        "# -----------------------\n",
        "ax.set_title(titulo, loc='center')                             # Titulo        \n",
        "\n",
        "# Etiquetas para los ejes\n",
        "# ------------------------\n",
        "ax.set_xlabel('%s %s' % (magnitud1,unidades1))   # Etiqueta X   \n",
        "ax.set_ylabel('%s %s' % (magnitud2,unidades2))   # Etiqueta Y \n",
        "\n",
        "# Dibujo\n",
        "# --------\n",
        "plt.show()  "
      ],
      "metadata": {
        "id": "HHjXaEpATn-0"
      },
      "execution_count": null,
      "outputs": []
    },
    {
      "cell_type": "markdown",
      "source": [
        "###7. Regresión a un polinomio\n",
        "---"
      ],
      "metadata": {
        "id": "BIqLTmkMr5PI"
      }
    },
    {
      "cell_type": "markdown",
      "source": [
        "* Una línea recta puede no ser el mejor ajuste para determinados conjuntos de datos\n",
        "* Podemos aumentar los grados de libertad del ajuste usando funciones que admitan diferentes grados de curvatura\n",
        "* Por ejemplo un polinomio cúbico:\n",
        "\n",
        "### <center>$Y = a\\ X^{3} + b\\ X^{2} + c\\ X + d$</center>"
      ],
      "metadata": {
        "id": "G8sfW6ZFSQD2"
      }
    },
    {
      "cell_type": "code",
      "source": [
        "# Volvemos a extraer las columnas de datos del dataframe\n",
        "# -------------------------------------------------------\n",
        "x = np.array(df[col1])\n",
        "y = np.array(df[col2])"
      ],
      "metadata": {
        "id": "aXpoVm7wNN0j"
      },
      "execution_count": null,
      "outputs": []
    },
    {
      "cell_type": "code",
      "source": [
        "# Regresión polinomial de grado n\n",
        "# -------------------------------\n",
        "poly = PolynomialFeatures(degree=3, include_bias=False)\n",
        "\n",
        "# Preparación de datos\n",
        "# ---------------------\n",
        "poly_features = poly.fit_transform(x.reshape(-1, 1))\n",
        "\n",
        "# Realizamos el ajuste\n",
        "# ---------------------\n",
        "model = LinearRegression()\n",
        "model.fit(poly_features,y)\n",
        "\n",
        "# Resultados\n",
        "ajuste = model.predict(poly_features)\n",
        "\n",
        "# Estos son los coeficientes del polinomio\n",
        "c, b, a   = model.coef_\n",
        "d         = model.intercept_\n",
        "\n",
        "# El coeficiente de determinación\n",
        "# --------------------------------\n",
        "r2    = r2_score(y, ajuste)\n",
        "\n",
        "# El error cuadrático medio (RMSE)\n",
        "# ----------------------------------\n",
        "rmse  = np.sqrt(mean_squared_error(y, ajuste ))\n",
        "\n",
        "# Mostramos los coeficientes del polinomio\n",
        "# ----------------------------------------\n",
        "print('a = %f\\nb = %f\\nc = %f\\nd = %f' % (a,b,c,d))\n",
        "\n",
        "# Mostramos el error/calidad del ajuste\n",
        "# ---------------------------------------\n",
        "print('\\nEl coeficiente de determinación es: %.2f' % r2)\n",
        "print('El error RMS es : %.2f' % rmse)"
      ],
      "metadata": {
        "id": "1xdfIZPEmI-O"
      },
      "execution_count": null,
      "outputs": []
    },
    {
      "cell_type": "markdown",
      "source": [
        "* Representamos gráficamente"
      ],
      "metadata": {
        "id": "FjaYE6s7Feqv"
      }
    },
    {
      "cell_type": "code",
      "source": [
        "# Vamos a generar los valores del polinomio de tercer grado\n",
        "# ---------------------------------------------------------\n",
        "xn        = np.arange(x.min(),x.max(),step=1)\n",
        "polinomio = a * xn**3 + b * xn**2 + c * xn + d"
      ],
      "metadata": {
        "id": "ap2kY1lpAM1X"
      },
      "execution_count": null,
      "outputs": []
    },
    {
      "cell_type": "code",
      "source": [
        "# Configuramos el gráfico\n",
        "# ------------------------\n",
        "fig, ax = plt.subplots(figsize=(12,8))\n",
        "\n",
        "# Dibujamos los puntos\n",
        "# ----------------------\n",
        "ax.plot(x,y,\n",
        "        marker = 'o',\n",
        "        ms     = 3,\n",
        "        lw     = 0,\n",
        "        color  = 'blue'\n",
        "        )\n",
        "\n",
        "# Fija los límites del gráfico\n",
        "# ------------------------------\n",
        "ax.set_xlim(0,125)\n",
        "ax.set_ylim(0,125)        \n",
        "\n",
        "# Añadimos una línea en la diagonal\n",
        "# ----------------------------------------------------------------------------------\n",
        "ax.plot([0,125],[0,125], color='red', ls='--', lw=2)\n",
        "\n",
        "# Para facilitar la comparación hacemos que los ejes tengan las mismas dimensiones\n",
        "# ----------------------------------------------------------------------------------\n",
        "ax.set_aspect('equal')\n",
        "\n",
        "# Dibujamos el polinomio\n",
        "# -----------------------\n",
        "ax.plot(xn,polinomio, marker=None, ms=0, lw=3,color='black')\n",
        "\n",
        "# Añadimos una rejilla\n",
        "# ---------------------\n",
        "ax.grid(True)\n",
        "\n",
        "# Escribimos el polinomio en texto para el título\n",
        "# -------------------------------------------------\n",
        "poli  = 'Y = (%.4f) * x$^{3}$ + (%.4f) * x$^{2}$ + (%.4f) * X + (%.4f)' % (a,b,c,d)\n",
        "error = 'R$^{2}$ = %.2f\\nRMSE = %.1f' % (r2,rmse)\n",
        "\n",
        "# Ponemos el título\n",
        "# ------------------\n",
        "ax.set_title('%s VS %s   -    %s  -  %s\\n%s\\n%s' % (magnitud2,magnitud1,estacion1,anio,poli,error)) # Titulo  \n",
        "\n",
        "# Etiquetas para los ejes\n",
        "# -------------------------\n",
        "ax.set_xlabel('%s %s' % (magnitud1,unidades1))                                   # Etiqueta X   \n",
        "ax.set_ylabel('%s %s' % (magnitud2,unidades2))                                   # Etiqueta Y  \n",
        "\n",
        "# Dibujo\n",
        "plt.show()"
      ],
      "metadata": {
        "id": "S9-YspBunnuO"
      },
      "execution_count": null,
      "outputs": []
    },
    {
      "cell_type": "markdown",
      "source": [
        "###8. Eliminación de datos atípicos\n",
        "---"
      ],
      "metadata": {
        "id": "xKZdowwksA90"
      }
    },
    {
      "cell_type": "markdown",
      "source": [
        "* ¿Cómo cambia el resultado de los ajustes cuando se depuran los datos?\n",
        "* Vamos a eliminar los valores **atípicos extremos** "
      ],
      "metadata": {
        "id": "M2uszYTKKqLn"
      }
    },
    {
      "cell_type": "code",
      "source": [
        "# Calculamos los percentiles 25 y 75 de la primera columna\n",
        "# ---------------------------------------------------------\n",
        "p25_x, p75_x = df['pm2.5'].quantile((0.25,0.75))\n",
        "\n",
        "# Calculamos el rango intercuartílico de la primera columna\n",
        "# --------------------------------------------------------\n",
        "riq_x = p75_x - p25_x\n",
        "\n",
        "# Calculamos los percentiles 25 y 75 de la segunda  columna\n",
        "# ---------------------------------------------------------\n",
        "p25_y, p75_y = df['pm10'].quantile((0.25,0.75))\n",
        "\n",
        "# Calculamos el rango intercuartílico de la primera columna\n",
        "# --------------------------------------------------------\n",
        "riq_y = p75_y - p25_y\n",
        "\n",
        "# Eliminamos los valores que se encuentran más allá\n",
        "# de 1.5 veces el rango intercuartílico\n",
        "# ---------------------------------------------------\n",
        "df1 = df[\n",
        "        (df['pm2.5'] > (p25_x - 3.0 * riq_x))  & \n",
        "        (df['pm2.5'] < (p75_x + 3.0 * riq_x))  & \n",
        "        (df['pm10']  > (p25_y - 3.0 * riq_y))  & \n",
        "        (df['pm10']  < (p75_y + 3.0 * riq_y)) \n",
        "        ]\n",
        "\n",
        "print(p25_x-3.0*riq_x,  p75_x+3.0*riq_x)\n",
        "print(p25_y-3.0*riq_y,  p75_y+3.0*riq_y)\n",
        "print('Eliminados %d datos atípicos' % (len(df)-len(df1)))\n"
      ],
      "metadata": {
        "id": "0tWQUaewKhmh"
      },
      "execution_count": null,
      "outputs": []
    },
    {
      "cell_type": "markdown",
      "source": [
        "* Para ver los nuevos resultados:\n",
        "  * volvemos a extraer los datos del dataframe\n",
        "  * ejecutamos de nuevo los bloques 7 y 8"
      ],
      "metadata": {
        "id": "dXnv-fkbL--D"
      }
    },
    {
      "cell_type": "code",
      "source": [
        "x = np.array(df1[col1])\n",
        "y = np.array(df1[col2])"
      ],
      "metadata": {
        "id": "2sPlbdm8NqAQ"
      },
      "execution_count": null,
      "outputs": []
    },
    {
      "cell_type": "markdown",
      "source": [
        "###9. Resumen\n",
        "---"
      ],
      "metadata": {
        "id": "q1RGhyOlMJsj"
      }
    },
    {
      "cell_type": "markdown",
      "source": [
        "* En este notebook hemos visto algunos aspectos relacionados con la correlación de series temporales:\n",
        "  * Comparación visual\n",
        "  * Regresión a una recta\n",
        "  * Regresión polinomial\n",
        "  * Evaluación de la calidad de los ajustes\n",
        "  * Efecto de la depuracion en las regresiones"
      ],
      "metadata": {
        "id": "Ze0S-JSKMXaQ"
      }
    }
  ]
}