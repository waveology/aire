{
  "nbformat": 4,
  "nbformat_minor": 0,
  "metadata": {
    "colab": {
      "provenance": [],
      "authorship_tag": "ABX9TyMANqK9xKEdTKi0Z2re4EQz",
      "include_colab_link": true
    },
    "kernelspec": {
      "name": "python3",
      "display_name": "Python 3"
    },
    "language_info": {
      "name": "python"
    }
  },
  "cells": [
    {
      "cell_type": "markdown",
      "metadata": {
        "id": "view-in-github",
        "colab_type": "text"
      },
      "source": [
        "<a href=\"https://colab.research.google.com/github/waveology/aire/blob/main/contaminacion_meteo.ipynb\" target=\"_parent\"><img src=\"https://colab.research.google.com/assets/colab-badge.svg\" alt=\"Open In Colab\"/></a>"
      ]
    },
    {
      "cell_type": "code",
      "source": [
        "#!git clone https://github.com/waveology/aire.git\n"
      ],
      "metadata": {
        "id": "u_IgDfBhGVU2"
      },
      "execution_count": null,
      "outputs": []
    },
    {
      "cell_type": "code",
      "source": [
        "%cd aire"
      ],
      "metadata": {
        "id": "ur5OoMDcHQou"
      },
      "execution_count": null,
      "outputs": []
    },
    {
      "cell_type": "code",
      "source": [
        "%matplotlib inline\n",
        "\n",
        "import lee_datos\n",
        "import matplotlib.pyplot as plt\n",
        "from scipy import stats"
      ],
      "metadata": {
        "id": "SXNoMDVo_wBA"
      },
      "execution_count": null,
      "outputs": []
    },
    {
      "cell_type": "code",
      "source": [
        "yearlist = ('2020','2021','2022')\n",
        "codigo_magnitud = 83\n",
        "codigo_estacion=28067001"
      ],
      "metadata": {
        "id": "qdUphihO_06M"
      },
      "execution_count": null,
      "outputs": []
    },
    {
      "cell_type": "code",
      "source": [
        "df = []\n",
        "for year in yearlist :\n",
        "    \n",
        "    d, magnitud, unidades,estacion = lee_datos.meteo(\n",
        "             'datos/meteo/%s.csv' % year,\n",
        "              codigo_magnitud=codigo_magnitud, \n",
        "              codigo_estacion=codigo_estacion) \n",
        "    df.append(d)\n"
      ],
      "metadata": {
        "id": "PDel33B9B4kq"
      },
      "execution_count": null,
      "outputs": []
    },
    {
      "cell_type": "code",
      "source": [
        "# Series temporales\n",
        "# ----------------------\n",
        "fig,ax = plt.subplots()\n",
        "for i in range(len(yearlist)) :    \n",
        "    df[i].plot(x='fecha',y='valor',\n",
        "          marker='o',ms=3,lw=0,grid=True,\n",
        "          label=yearlist[i],title='valor',ax=ax)\n",
        "ax.legend()\n",
        "ax.set_title('%s     -     %s  (%s)' % (estacion,magnitud,unidades))\n"
      ],
      "metadata": {
        "id": "bTaplO1hF_Te"
      },
      "execution_count": null,
      "outputs": []
    },
    {
      "cell_type": "code",
      "source": [
        "fig,ax = plt.subplots()\n",
        "for i in range(len(yearlist)) :    \n",
        "    df[i].hist(column='valor',bins=20,ax=ax,range=(-15,40),\n",
        "               alpha=0.5,label=year)\n",
        "ax.legend()\n",
        "ax.set_title('%s     -     %s  (%s)' % (estacion,magnitud,unidades))\n"
      ],
      "metadata": {
        "id": "lU8jsmk1GKVg"
      },
      "execution_count": null,
      "outputs": []
    },
    {
      "cell_type": "code",
      "source": [
        "fig,ax = plt.subplots(2,2)\n",
        "fax = ax.ravel()\n",
        "for i in range(len(yearlist)) :    \n",
        "    df[i].hist(column='valor',bins=30,ax=fax[i],\n",
        "                label=yearlist[i],range=(-15,40),\n",
        "                density=False,log=False,edgecolor='black')\n",
        "    fax[i].legend()\n",
        "    fax[i].set_title(None)\n",
        "fig.suptitle('%s     -     %s  (%s)' % (estacion,magnitud,unidades))\n"
      ],
      "metadata": {
        "id": "CQBBxSY9GQg1"
      },
      "execution_count": null,
      "outputs": []
    },
    {
      "cell_type": "code",
      "source": [
        "print('Año1  Año2 media_año1 media_año2 mediana_año1 mediana_año2 p-valor')\n",
        "print(\"------------------------------------------------------------------\")\n",
        "for i in range(len(yearlist)) :\n",
        "    for j in range(len(yearlist)) :    \n",
        "        \n",
        "        if i >= j : continue\n",
        "        \n",
        "        st,pvalue = stats.mannwhitneyu(df[i]['valor'],df[j]['valor'])\n",
        "        \n",
        "        mean1   = df[i]['valor'].mean()\n",
        "        mean2   = df[j]['valor'].mean()\n",
        "        median1 = df[i]['valor'].median()\n",
        "        median2 = df[j]['valor'].median()\n",
        "        \n",
        "        print('%s %s %.4f %.4f %.4f %.4f %.5f' \n",
        "              % (yearlist[i],yearlist[j],mean1,mean2,median1,median2,pvalue))\n",
        "\n",
        "\n",
        "\n"
      ],
      "metadata": {
        "id": "bBO2VeR0GhZt"
      },
      "execution_count": null,
      "outputs": []
    }
  ]
}