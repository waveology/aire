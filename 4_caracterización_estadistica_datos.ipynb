{
  "nbformat": 4,
  "nbformat_minor": 0,
  "metadata": {
    "colab": {
      "provenance": [],
      "toc_visible": true,
      "authorship_tag": "ABX9TyPtXyXY4X07N4sqo1+Sy0KO",
      "include_colab_link": true
    },
    "kernelspec": {
      "name": "python3",
      "display_name": "Python 3"
    },
    "language_info": {
      "name": "python"
    }
  },
  "cells": [
    {
      "cell_type": "markdown",
      "metadata": {
        "id": "view-in-github",
        "colab_type": "text"
      },
      "source": [
        "<a href=\"https://colab.research.google.com/github/waveology/aire/blob/main/4_caracterizaci%C3%B3n_estadistica_datos.ipynb\" target=\"_parent\"><img src=\"https://colab.research.google.com/assets/colab-badge.svg\" alt=\"Open In Colab\"/></a>"
      ]
    },
    {
      "cell_type": "markdown",
      "source": [
        "# Caracterización estadística de los datos"
      ],
      "metadata": {
        "id": "crfGnGpVlF9C"
      }
    },
    {
      "cell_type": "markdown",
      "source": [
        "* Vamos a explorar algunas de las posibilidades de análisis de datos de calidad del aire que ofrece Python en ámbito de la estadística. \n",
        "* Usaremos como hasta ahora datos meteorológicos de AEMET y registros de contaminación de la Comunidad de Madrid."
      ],
      "metadata": {
        "id": "y3nJxRpslS5R"
      }
    },
    {
      "cell_type": "markdown",
      "source": [
        "###1. Preparación de datos y código\n",
        "---"
      ],
      "metadata": {
        "id": "XVjh0NBgzXNM"
      }
    },
    {
      "cell_type": "markdown",
      "source": [
        "* Para trabajar más cómodamente vamos a descargar todos los ficheros del repositorio GitHub\n",
        "* De esa manera dispondremos de los datos localmente para nuestro análisis."
      ],
      "metadata": {
        "id": "-o3G-_7Wyerw"
      }
    },
    {
      "cell_type": "code",
      "source": [
        "# Directorio de trabajo local en la nube de Google Colab \n",
        "# ------------------------------------------------------------\n",
        "%cd /content\n",
        "\n",
        "# Si existe una copia previa del repositorio, la borramos:\n",
        "# ----------------------------------------------------------------------------\n",
        "!  rm -rf aire\n",
        "\n",
        "# Creamos una copia del repositorio SOLO si no existe previamente\n",
        "# ----------------------------------------------------------------------------\n",
        "! [ ! -d aire ] && git clone https://github.com/waveology/aire.git\n",
        "\n",
        "# Entramos en el repositorio que acabamos de copiar\n",
        "# --------------------------------------------------\n",
        "%cd aire"
      ],
      "metadata": {
        "id": "cyNmTWPgCFMY"
      },
      "execution_count": null,
      "outputs": []
    },
    {
      "cell_type": "markdown",
      "source": [
        "* Importamos las extensiones que vamos a necesitar. \n",
        "\n",
        "* Para simplificar la tarea hemos empaquetado las funciones de lectura de datos en un fichero independiente llamado \"lectura_de_datos.py\""
      ],
      "metadata": {
        "id": "jnTZ1fEu_Y5-"
      }
    },
    {
      "cell_type": "code",
      "source": [
        "import lectura_de_datos                                   # lee ficheros de datos meteorológicos y de contaminación de Madrid\n",
        "import matplotlib.pyplot as plt                           # dibujo de gráficos\n",
        "from scipy import stats                                   # cálculo estadístico\n",
        "import numpy as np                                        # matrices"
      ],
      "metadata": {
        "id": "DnsOSQsG9RX9"
      },
      "execution_count": null,
      "outputs": []
    },
    {
      "cell_type": "markdown",
      "source": [
        "###2. Inventario de datos\n",
        "---"
      ],
      "metadata": {
        "id": "TdfNMqrBzzrP"
      }
    },
    {
      "cell_type": "markdown",
      "source": [
        "* Por conveniencia, hemos introducido en \"lectura_de_datos.py\" el inventario de estaciones de medida de la contaminación.\n",
        "* Listamos los campos: **código | municipio | nombre**"
      ],
      "metadata": {
        "id": "jJYWwXGeYJJ5"
      }
    },
    {
      "cell_type": "code",
      "source": [
        "# Simplemente escribimos el nombre de la variable para visualizar su contenido\n",
        "# -----------------------------------------------------------------------------\n",
        "lectura_de_datos.estalist_com"
      ],
      "metadata": {
        "id": "2rt9ghXdXvJY"
      },
      "execution_count": null,
      "outputs": []
    },
    {
      "cell_type": "markdown",
      "source": [
        "* Listamos los contaminantes registrados.\n",
        "* **Código  |  Magnitud  | Unidades**\n"
      ],
      "metadata": {
        "id": "2wvRmzyYYhLo"
      }
    },
    {
      "cell_type": "code",
      "source": [
        "lectura_de_datos.maglist_com"
      ],
      "metadata": {
        "id": "yj7BJRUuZPWF"
      },
      "execution_count": null,
      "outputs": []
    },
    {
      "cell_type": "markdown",
      "source": [
        "* Hacemos lo mismo con los datos meteorológicos\n",
        "* Las estaciones (en este caso son las mismas)\n",
        "* **código | municipio | nombre**\n"
      ],
      "metadata": {
        "id": "TCfvaJr8F0BF"
      }
    },
    {
      "cell_type": "code",
      "source": [
        "# Simplemente escribimos el nombre de la variable para visualizar su contenido\n",
        "# -----------------------------------------------------------------------------\n",
        "lectura_de_datos.estalist_meteo"
      ],
      "metadata": {
        "id": "-T_FMruuZxGw"
      },
      "execution_count": null,
      "outputs": []
    },
    {
      "cell_type": "markdown",
      "source": [
        "* Y por último, la magnitudes meteorológicas\n",
        "* **Código | Magnitud | Unidades**"
      ],
      "metadata": {
        "id": "nNvurIgGaFfb"
      }
    },
    {
      "cell_type": "code",
      "source": [
        "# Simplemente escribimos el nombre de la variable para visualizar su contenido\n",
        "# -----------------------------------------------------------------------------\n",
        "lectura_de_datos.maglist_meteo"
      ],
      "metadata": {
        "id": "51YY5UONaRUz"
      },
      "execution_count": null,
      "outputs": []
    },
    {
      "cell_type": "markdown",
      "source": [
        "###3. Carga de datos\n",
        "---"
      ],
      "metadata": {
        "id": "lB9I3Y-e0gd7"
      }
    },
    {
      "cell_type": "markdown",
      "source": [
        "* En el siguiente ejemplo, vamos a cargar datos de concentración de NO2 en la ciudad de Móstoles a lo largo del año 2019: \n",
        "* Esta versión de la funcion lectura_de_datos devuelve:\n",
        "  * el dataframe con los datos\n",
        "  * el nombre de la estación\n",
        "  * la magnitud medida\n",
        "  * sus unidades\n",
        "* Eso facilita la automatización de los gráficos.\n",
        "\n"
      ],
      "metadata": {
        "id": "DUpWHT5G0stW"
      }
    },
    {
      "cell_type": "code",
      "source": [
        "# Seleccionamos un año\n",
        "# ----------------------\n",
        "anio = 2022\n",
        "\n",
        "# Cargamos los datos de NO2 de Móstoles\n",
        "# ---------------------------------------------------\n",
        "df, magnitud, unidades,estacion = lectura_de_datos.contaminacion(\n",
        "                                    'datos/contaminacion/%s.csv' % anio,\n",
        "                                     codigo_magnitud = 8,           # Dióxido de nitrógeno\n",
        "                                     codigo_estacion = 28092005     # Móstoles  \n",
        "                                     ) \n",
        "\n",
        "# Cargamos los datos de presión atmosférica de Guadalix de la Sierra\n",
        "# -------------------------------------------------------------------\n",
        "# df, magnitud, unidades,estacion = lectura_de_datos.meteo(\n",
        "#                                    'datos/meteo/%s.csv' % anio,\n",
        "#                                     codigo_magnitud = 83,         # Temperatura\n",
        "#                                     codigo_estacion = 28067001    # Guadalix de la Sierra  \n",
        "#                                     ) \n",
        "\n",
        "# Inspeccionamos el contenido\n",
        "# ----------------------------\n",
        "print(df)\n"
      ],
      "metadata": {
        "id": "325Q-Kqw1pIf"
      },
      "execution_count": null,
      "outputs": []
    },
    {
      "cell_type": "markdown",
      "source": [
        "###4. Representación gráfica\n",
        "---"
      ],
      "metadata": {
        "id": "lQLhnBoK-Oed"
      }
    },
    {
      "cell_type": "markdown",
      "source": [
        "* Representamos los resultados en un gráfico simple X-Y"
      ],
      "metadata": {
        "id": "dAiDSk5S9Ylo"
      }
    },
    {
      "cell_type": "code",
      "source": [
        "#Dibujamos la serie temporal\n",
        "# ------------------------------------------------------\n",
        "ax = df.plot(\n",
        "        marker=None,                                          # Símbolo\n",
        "        ms=1,                                                 # Tamaño del símbolo\n",
        "        lw=1,                                                 # Grosor de líneas de conexión\n",
        "        color='blue',                                         # Color\n",
        "        grid=True,                                            # Rejilla\n",
        "        figsize=(14,8),                                       # Tamaño del gráfico\n",
        "        legend=False,                                         # Leyenda\n",
        "        fontsize = 12,                                        # Tamaño de las anotaciones en los ejes        \n",
        "        #xlim=('2022-03-10','2022-04-01'),\n",
        "        #ylim=(0,700)\n",
        "        )\n",
        "\n",
        "# Definimos el título del gráfico\n",
        "# --------------------------------\n",
        "titulo = '%s  -  %s     %s %s' % (estacion,anio,magnitud,unidades)\n",
        "ax.set_title(titulo,    size=16)\n",
        "\n",
        "# Etiquetas de los ejes X-Y\n",
        "# --------------------------\n",
        "ax.set_xlabel('Fecha',  size=16)\n",
        "ax.set_ylabel(unidades, size=16)\n",
        "\n",
        "\n",
        "# CONTROL DE ETIQUETAS DE TIEMPO\n",
        "# Ver \"date tickers\" y \"date formaters\" en\n",
        "# https://matplotlib.org/stable/api/dates_api.html\n",
        "\n",
        "\n",
        "# Importamos funciones de localización de fechas\n",
        "# -------------------------------------------------\n",
        "#from matplotlib.dates import DayLocator, WeekdayLocator, MonthLocator, YearLocator\n",
        "\n",
        "# 1) DÓNDE COLOCAR LOS TICS MAYORES\n",
        "# ===============================\n",
        "\n",
        "# Pone tics mayores los días 5 y 20 de cada mes, cada dos meses\n",
        "# --------------------------------------------------------------\n",
        "# ax.xaxis.set_major_locator(dates.MonthLocator(bymonthday=(5,20), interval=2))\n",
        "\n",
        "# Pone tics mayores solo los domingos de cada tres semanas\n",
        "# lunes=0 | martes=1 | miércoles=2 | jueves=3 | viernes=4 | sábado=5 | domingo=6\n",
        "# --------------------------------------------------------------------------------\n",
        "#ax.xaxis.set_major_locator(dates.WeekdayLocator(byweekday=(6), interval=3))       \n",
        "\n",
        "# 2) QUÉ FORMATO TIENEN LOS TICS MAYORES\n",
        "# ====================================\n",
        "\n",
        "# Establece el formato de la fecha para los tics mayores\n",
        "# -------------------------------------------------------\n",
        "#ax.xaxis.set_major_formatter(dates.DateFormatter(\"%d %B %y\"))                \n",
        "\n",
        "# 3) DÓNDE COLOCAR LOS TICS MENORES\n",
        "# ===============================\n",
        "\n",
        "# Pone tics menores el día 15 de cada mes\n",
        "# -----------------------------------------\n",
        "#ax.xaxis.set_minor_locator(dates.MonthLocator(bymonthday=15))                \n",
        "\n",
        "# 4) QUÉ FORMATO TIENEN LOS TICS MENORES\n",
        "# ====================================\n",
        "\n",
        "# Establece el formato de la fecha para los tics menores\n",
        "# ---------------------------------------------------------\n",
        "#ax.xaxis.set_minor_formatter(dates.DateFormatter('%d'))\n",
        "\n",
        "# inclinación de las etiquetas\n",
        "# ----------------------------\n",
        "#ax.tick_params(axis=\"x\", labelrotation= 45)                           \n",
        "\n",
        "\n",
        "plt.show()"
      ],
      "metadata": {
        "id": "szhTtbNm24SM"
      },
      "execution_count": null,
      "outputs": []
    },
    {
      "cell_type": "markdown",
      "source": [
        "###5. El histograma\n",
        "---"
      ],
      "metadata": {
        "id": "A_qlIWYQ_Fgp"
      }
    },
    {
      "cell_type": "code",
      "source": [
        "# Configuramos el gráfico\n",
        "# ------------------------\n",
        "fig, ax = plt.subplots(figsize=(12,7))\n",
        "\n",
        "# Generamos el histograma correspondiente a los datos de la tabla df\n",
        "# -------------------------------------------------------------------\n",
        "a=df.hist(  \n",
        "         bins     =  range(0,150,10),\n",
        "         stacked  =  False,\n",
        "         density  =  False,    # ¿Número de casos o frecuencia estadística?\n",
        "         log      =  False,    # Logarítimico\n",
        "         rwidth   =  0.9,\n",
        "         ax = ax\n",
        ")\n",
        "\n",
        "# Ponemos un título ilustrativo\n",
        "# --------------------------------\n",
        "ax.set_title('Histograma    -    %s    -    %s    -     %s (%s)' % (anio,estacion,magnitud,unidades),size=14)\n",
        "\n",
        "# Ponemos límites al eje Y (frecuencias estadísticas)\n",
        "# ----------------------------------------------------\n",
        "#ax.set_ylim(0,20)\n",
        "\n",
        "# Ponemos etiquetas a los ejes X-Y\n",
        "# ----------------------------------\n",
        "ax.set_ylabel('Número de registros',size=15)\n",
        "#ax.set_ylabel('Frecuencia estadística',size=15)\n",
        "ax.set_xlabel(unidades,size=15)\n",
        "\n",
        "# Dibujo\n",
        "# ------\n",
        "plt.show()"
      ],
      "metadata": {
        "id": "Oy6NV3Jr_Lip"
      },
      "execution_count": null,
      "outputs": []
    },
    {
      "cell_type": "markdown",
      "source": [
        "####6. La moda\n",
        "---"
      ],
      "metadata": {
        "id": "T5cAu5NDoEyE"
      }
    },
    {
      "cell_type": "markdown",
      "source": [
        "* La moda es el valor más probable, el que se repite con más frecuencia en una serie de datos:"
      ],
      "metadata": {
        "id": "QYf4h9Xn3xEl"
      }
    },
    {
      "cell_type": "code",
      "source": [
        "# La moda se puede calcular con el método mode\n",
        "# ---------------------------------------------\n",
        "moda = df.mode()\n",
        "print(moda)"
      ],
      "metadata": {
        "id": "ecR5reQo3OBl"
      },
      "execution_count": null,
      "outputs": []
    },
    {
      "cell_type": "markdown",
      "source": [
        "####7. El valor medio\n",
        "---"
      ],
      "metadata": {
        "id": "nUwYqAY628hC"
      }
    },
    {
      "cell_type": "markdown",
      "source": [
        "* El valor medio pondera los valores observados con la frecuencia con la que se presentan."
      ],
      "metadata": {
        "id": "xcRK44OBoOaJ"
      }
    },
    {
      "cell_type": "code",
      "source": [
        "# La media se puede calcular con el método mean\n",
        "# ---------------------------------------------\n",
        "media = df.mean()[0] "
      ],
      "metadata": {
        "id": "OuFyvatvoY7N"
      },
      "execution_count": null,
      "outputs": []
    },
    {
      "cell_type": "markdown",
      "source": [
        "* Vamos a representar gráficamente los valores estadísticos\n",
        "* Para poder reutilizar el código que realiza el gráfico, lo metemos en una función"
      ],
      "metadata": {
        "id": "rj9OkC9a9adR"
      }
    },
    {
      "cell_type": "code",
      "source": [
        "# Definimos nuestra función llamada \"dibuja\"\n",
        "# ------------------------------------------\n",
        "\n",
        "def dibuja(df, estadisticos) :\n",
        "  \"\"\"\n",
        "  Entrada: \n",
        "             df           : dataframe\n",
        "             estadísticos : valores estadísticos a dibujar\n",
        "  Salida:\n",
        "             Ninguna          \n",
        "  \"\"\"\n",
        "\n",
        "  from matplotlib.dates import MonthLocator, DateFormatter\n",
        "\n",
        "  # Dimensiona el gráfico\n",
        "  # ----------------------\n",
        "  fig, ax = plt.subplots(2,1,figsize=(12,7))\n",
        "\n",
        "  # Busca los valores máximos y mínimos del registro de datos\n",
        "  # ---------------------------------------------------------\n",
        "  min = df.min()\n",
        "  max = df.max()\n",
        "\n",
        "  # Dibujamos la serie temporal\n",
        "  # ---------------------------\n",
        "  df.plot(grid=True,             ax = ax[0], color='#444444')\n",
        "\n",
        "  # Ponemos un título\n",
        "  # ------------------\n",
        "  titulo = '%s    -    %s    -     %s (%s)     [min=%.1f,  max=%.1f]'\n",
        "  ax[0].set_title(titulo % (anio,estacion,magnitud,unidades,min,max),size=14)\n",
        "\n",
        "  # Añadimos una etiqueta al eje Y con las unidades de medida\n",
        "  # -----------------------------------------------------------\n",
        "  ax[0].set_ylabel(unidades,size=12)\n",
        "\n",
        "  # Formato de fechas\n",
        "  # -----------------\n",
        "  ax[0].xaxis.set_major_locator(MonthLocator())                             # Poner tics mayores al inicio de cada mes\n",
        "  ax[0].xaxis.set_minor_locator(MonthLocator(bymonthday=15))                # poner tics menores el día 15 de cada mes\n",
        "  ax[0].xaxis.set_major_formatter(DateFormatter(\"%d %B %y\"))                # formato de la fecha para los tics mayores\n",
        "  ax[0].xaxis.set_minor_formatter(DateFormatter(''))                        # formato de la fecha para los tics menores\n",
        "  ax[0].tick_params(axis=\"x\", labelrotation= 45)                            # inclinación de las etiquetas\n",
        "\n",
        "  # Dibujamos el histograma\n",
        "  # -------------------------\n",
        "  df.hist(bins = range(0,175,5), ax = ax[1], color='#444444')\n",
        "  ax[1].set_title(None)\n",
        "  ax[1].set_xlabel(unidades,size=12)\n",
        "\n",
        "  # Definimos unos cuantos colores\n",
        "  # -----------------------------------------\n",
        "  color = ('b','r','g','c','orange','m','y','k')\n",
        "\n",
        "  # Inicializamos el contador de colores\n",
        "  # -------------------------------------\n",
        "  n = 0\n",
        "\n",
        "  # Dibujamos líneas que identifican los valores estadísticos en la\n",
        "  # serie temporal y en el histograma\n",
        "  # -----------------------------------------------------------------\n",
        "  for nombre,valor in estadisticos.items() :\n",
        "\n",
        "     # Añade una línea horizontal a la serie temporal\n",
        "     # -----------------------------------------------\n",
        "     ax[0].axhline(y=valor, ls='--', lw=3, label='%s=%.1f' % (nombre,valor), color=color[n])\n",
        "\n",
        "     # Añade una línea vertical al histograma\n",
        "     # -----------------------------------------------\n",
        "     ax[1].axvline(x=valor, ls='--', lw=3,label='%s=%.1f' % (nombre,valor), color=color[n])\n",
        "\n",
        "     # Incrementa el contador\n",
        "     # -----------------------\n",
        "     n += 1\n",
        "\n",
        "  # Añadimos una leyenda\n",
        "  # --------------------\n",
        "  ax[1].legend()\n",
        "\n",
        "  # Ajustamos visualmente los gráficos\n",
        "  # -----------------------------------\n",
        "  plt.tight_layout()\n",
        "\n",
        "  return\n"
      ],
      "metadata": {
        "id": "84rFZrlNoLhy"
      },
      "execution_count": null,
      "outputs": []
    },
    {
      "cell_type": "markdown",
      "source": [
        "* Una vez creada la función podemos llamarla para que nos dibuje el valor medio de nuestros datos:"
      ],
      "metadata": {
        "id": "NrabAdmD7vLZ"
      }
    },
    {
      "cell_type": "code",
      "source": [
        "# Creamos un diccionario en el que se asigna el valor de la media que calculamos antes\n",
        "# -------------------------------------------------------------------------------------\n",
        "esta = {'media': media}\n",
        "\n",
        "# Llamamos a la función de dibujo\n",
        "# --------------------------------\n",
        "dibuja(df,esta)"
      ],
      "metadata": {
        "id": "SRQ68vl50-uQ"
      },
      "execution_count": null,
      "outputs": []
    },
    {
      "cell_type": "markdown",
      "source": [
        "###8. **La dispersión**\n",
        "---\n",
        "\n"
      ],
      "metadata": {
        "id": "h33oiTQEyPwB"
      }
    },
    {
      "cell_type": "markdown",
      "source": [
        "* Mide en que grado se compactan los datos alrededor de la tendencia central.\n",
        "* Un registro disperso presenta un amplio rango de valores.\n",
        "* Un registro poco disperso toma valores que distan poco de la media.\n",
        "* La ***varianza*** se corresponde con el valor medio de las desviaciones cuadráticas respecto del valor medio. \n",
        "* Tiene una potente significación en estadística\n",
        "* La ***desviación típica*** es la raiz cuadrada de la ***varianza***\n",
        "* Tiene las mismas unidades que la magnitud"
      ],
      "metadata": {
        "id": "majTsWtv82K5"
      }
    },
    {
      "cell_type": "code",
      "source": [
        "# Podemos calcular la varianza con la función var()\n",
        "# ---------------------------------------------------\n",
        "varianza          = df.var()[0]\n",
        "print('varianza = %.1f (%s)**2' % (varianza,unidades))\n",
        "\n",
        "\n",
        "# Podemos calcular la desviación típica con la función std\n",
        "# -----------------------------------------------------------\n",
        "desviacion_tipica = df.std()[0]\n",
        "print('desviación típica = %.1f (%s)' % (desviacion_tipica,unidades))\n",
        "\n",
        "# Añadimos los nuevos estadísticos al diccionario\n",
        "# -----------------------------------------------\n",
        "esta['s1'] = media - desviacion_tipica\n",
        "esta['s2'] = media + desviacion_tipica\n",
        "\n",
        "# Dibujamos\n",
        "# --------------\n",
        "dibuja(df,esta)\n",
        "\n",
        "# Borramos los valores del diccionario para no arrastrarlos en el futuro\n",
        "# -----------------------------------------------------------------------\n",
        "del esta['s1']\n",
        "del esta['s2']"
      ],
      "metadata": {
        "id": "PHW1lPNRyeEn"
      },
      "execution_count": null,
      "outputs": []
    },
    {
      "cell_type": "markdown",
      "source": [
        "###9. **La mediana**\n",
        "---"
      ],
      "metadata": {
        "id": "GuHbQBsIx_Ru"
      }
    },
    {
      "cell_type": "markdown",
      "source": [
        "* Se trata de otra medida de tendencia central, como la media\n",
        "* Corresponde al valor que tiene igual número de registros mayores y menores\n",
        "* Equivale al percentil 50 de la distribución\n",
        "* Es más robusta porque es menos sensible a los valores extremos"
      ],
      "metadata": {
        "id": "YGK9vIDiBydk"
      }
    },
    {
      "cell_type": "code",
      "source": [
        "# Podemos clacular la mediana con la función median()\n",
        "# -------------------------------------------------------\n",
        "mediana = df.median()[0] \n",
        "\n",
        "# Añadimos el nuevo estadístico al diccionario\n",
        "# ---------------------------------------------\n",
        "esta['mediana'] = mediana\n",
        "\n",
        "# Dibujamos\n",
        "# --------------\n",
        "dibuja(df,esta)"
      ],
      "metadata": {
        "id": "kQL_B7QUyYJM"
      },
      "execution_count": null,
      "outputs": []
    },
    {
      "cell_type": "markdown",
      "source": [
        "###10. **Percentiles**\n",
        "---"
      ],
      "metadata": {
        "id": "d2TnZ4FyJ9_I"
      }
    },
    {
      "cell_type": "markdown",
      "source": [
        "* Son los valores por debajo de los cuales se encuentra un determinado porcentaje de los registros\n",
        "* Por ejemplo, el percentil 75 de una serie de datos es el valor tal que el 75% de los registros es menor y el 25% es mayor\n",
        "* A menudo es más interesante usar los percentiles P1 y P99 en lugar del mínimo y el máximo de una serie\n",
        "* Hay más de una forma de calcularlos\n",
        "* Los límites de los intervalos dependen de la definición "
      ],
      "metadata": {
        "id": "i2DD_6DWClI5"
      }
    },
    {
      "cell_type": "code",
      "source": [
        "# Para obtener los percentiles 1, 5, 25, 75, 95 y 99 de una serie\n",
        "# los incluimos en una tupla:\n",
        "# ----------------------------------------------------------------\n",
        "nivel = (1, 5, 25, 75, 95, 99)\n",
        "\n",
        "# A continuación invocamos la función percentile\n",
        "# -------------------------------------------------\n",
        "p = np.percentile(df,nivel)\n",
        "print(p)\n",
        "\n",
        "# Los añadimos todos al diccionario\n",
        "# ----------------------------------\n",
        "for n in range(len(nivel)) :\n",
        "   label = 'P%d' % nivel[n]\n",
        "   esta[label] = p[n]\n",
        "\n",
        "# Dibujamos los percentiles\n",
        "# --------------------------\n",
        "dibuja(df,esta)"
      ],
      "metadata": {
        "id": "Hi5FbWhIKQds"
      },
      "execution_count": null,
      "outputs": []
    },
    {
      "cell_type": "markdown",
      "source": [
        "###11. **Valores atípicos (outliers)**\n",
        "---"
      ],
      "metadata": {
        "id": "KhfPxxZFR27b"
      }
    },
    {
      "cell_type": "markdown",
      "source": [
        "* Son datos alejados de los valores de tendencia central, que pueden ser sospechosos de deberse a errores de medida.\n",
        "* No existe un método objetivo para eliminarlos.\n",
        "* Pese a sus valores extremos pueden ser datos válidos.\n",
        "* Distinguimos entre valores atípicos leves y extremos"
      ],
      "metadata": {
        "id": "mdVYzj_xFDe9"
      }
    },
    {
      "cell_type": "markdown",
      "source": [
        "* Un método popular para determinar qué datos son atípicos y eliminarlos de la muestra se basa en el ***rango intercuartílico*** (***RIQ***).\n",
        "\n",
        "* El ***RIQ***  es la diferencia entre los percentiles 75 y 25.\n",
        "\n",
        "* Si un registro se encuentra a una distancia de P25 o P75 que supera 1.5 veces el **RIQ**, se considera un **valor atípico leve**.\n",
        "\n",
        "* Si un registro se encuentra a una distancia de P25 o P75 que supera 3 veces el **RIQ**, se considera un **valor atípico extremo**."
      ],
      "metadata": {
        "id": "aN7bFq19UIXn"
      }
    },
    {
      "cell_type": "code",
      "source": [
        "# Calculamos los percentiles 25 y 75\n",
        "# ---------------------------------------\n",
        "P25, P75 = np.percentile(df, (25 ,75))\n",
        "\n",
        "# El rango intercuartílico es la diferencia\n",
        "# --------------------------------------------\n",
        "RIQ = P75 - P25\n",
        "\n",
        "# Mostramos valores\n",
        "# ------------------\n",
        "print('P25=%.1f  P75=%.1f ====>  RIQ=%.1f' % (P25, P75, RIQ))"
      ],
      "metadata": {
        "id": "CA4J0hmcR9wU"
      },
      "execution_count": null,
      "outputs": []
    },
    {
      "cell_type": "code",
      "source": [
        "# Valores atípicos leves son los que:\n",
        "#     a) superan por ENCIMA del P75 la distancia 1.5 * RIQ\n",
        "#     b) superan por DEBAJO del P25 la distancia 1.5 * RIQ \n",
        "# ----------------------\n",
        "L1 = P25 - 1.5 * RIQ\n",
        "L2 = P75 + 1.5 * RIQ\n",
        "\n",
        "# Mostramos los valores atípicos leves\n",
        "# ----------------------------------------\n",
        "print('Los valores inferiones a %.1f son ATÍPICOS LEVES' % L1)\n",
        "print('Los valores superiores a %.1f son ATÍPICOS LEVES' % L2)"
      ],
      "metadata": {
        "id": "0wRsC_0YXXq9"
      },
      "execution_count": null,
      "outputs": []
    },
    {
      "cell_type": "code",
      "source": [
        "# Valores atípicos extremos son los que:\n",
        "#     a) superan por ENCIMA del P75 la distancia 3.0 * RIQ\n",
        "#     b) superan por DEBAJO del P25 la distancia 3.0 * RIQ \n",
        "# ----------------------\n",
        "E1 = P25 - 3 * RIQ\n",
        "E2 = P75 + 3 * RIQ\n",
        "\n",
        "# Mostramos los valores atípicos leves\n",
        "# ----------------------------------------\n",
        "print('Los valores inferiones a %.1f son ATÍPICOS EXTREMOS' % E1)\n",
        "print('Los valores superiores a %.1f son ATÍPICOS EXTREMOS' % E2)"
      ],
      "metadata": {
        "id": "aT8AX6aTYjb8"
      },
      "execution_count": null,
      "outputs": []
    },
    {
      "cell_type": "markdown",
      "source": [
        "* Añadimos los valores extremos al diccionario y dibujamos"
      ],
      "metadata": {
        "id": "EA2wPBSHIADc"
      }
    },
    {
      "cell_type": "code",
      "source": [
        "# Añadimos al diccionario \n",
        "# ---------------------------------------\n",
        "esta = {'L1':L1,'L2':L2,'E1':E1,'E2':E2}\n",
        "\n",
        "# Dibujamos los valores extremos\n",
        "# --------------------------------\n",
        "dibuja(df,esta)"
      ],
      "metadata": {
        "id": "FSDDa3QMZD0C"
      },
      "execution_count": null,
      "outputs": []
    },
    {
      "cell_type": "markdown",
      "source": [
        "###12. **Depuración de valores atípicos**\n",
        "---"
      ],
      "metadata": {
        "id": "9n5K-MHwIodF"
      }
    },
    {
      "cell_type": "markdown",
      "source": [
        "* Veamos qué ocurre si eliminamos los valores atípicos extremos:"
      ],
      "metadata": {
        "id": "BuwhqoiHaTjT"
      }
    },
    {
      "cell_type": "code",
      "source": [
        "# Seleccionamos de nuestra tabla los registros que NO corresponden a valores atípicos extremos\n",
        "# ---------------------------------------------------------------------------------------------\n",
        "df1 = df[ (df.valor >= E1) & (df.valor <= E2) ]\n",
        "\n",
        "# ¿Qué diferencia hay en en número de datos?\n",
        "# -------------------------------------------\n",
        "n = len(df) - len(df1)\n",
        "\n",
        "# Mostrar número de valores atípicos eliminados\n",
        "# ----------------------------------------------\n",
        "print('Se eliminaron %d valores atípicos extremos de una muestra de %d datos (%.2f%%)' % (n,len(df),100*n/len(df)))"
      ],
      "metadata": {
        "id": "zltcWPMZaczz"
      },
      "execution_count": null,
      "outputs": []
    },
    {
      "cell_type": "markdown",
      "source": [
        "* Recalculamos la media y la mediana con la serie de dato \"*depurada*\" de outliers extemos:"
      ],
      "metadata": {
        "id": "4xj93uqZJccY"
      }
    },
    {
      "cell_type": "code",
      "source": [
        "# Añadimos al diccionario\n",
        "# ------------------------\n",
        "esta = {'media': df1.mean()[0],'mediana': df1.median()[0]}\n",
        "\n",
        "# Dibujamos\n",
        "# -----------------\n",
        "dibuja(df1,esta)"
      ],
      "metadata": {
        "id": "LwZEUd0CiO5R"
      },
      "execution_count": null,
      "outputs": []
    },
    {
      "cell_type": "markdown",
      "source": [
        "* ¿Y si hubiéramos eliminado todos los valores atípicos?"
      ],
      "metadata": {
        "id": "yuun8gkvjhSp"
      }
    },
    {
      "cell_type": "code",
      "source": [
        "# Seleccionamos de nuestra tabla los registros que NO corresponden a valores atípicos extremos\n",
        "# ---------------------------------------------------------------------------------------------\n",
        "df1 = df[ (df.valor >= L1) & (df.valor <= L2) ]\n",
        "\n",
        "# ¿Qué diferencia hay en en número de datos?\n",
        "# -------------------------------------------\n",
        "n = len(df) - len(df1)\n",
        "print('Se eliminaron %d valores atípicos leves de una muestra de %d datos (%.2f%%)' % (n,len(df),100*n/len(df)))"
      ],
      "metadata": {
        "id": "m2kSggJAjeNA"
      },
      "execution_count": null,
      "outputs": []
    },
    {
      "cell_type": "markdown",
      "source": [
        "* Recalculamos la media y la mediana con la serie de dato \"depurada\" de todos los outliers:"
      ],
      "metadata": {
        "id": "08L-wcEGKkRT"
      }
    },
    {
      "cell_type": "code",
      "source": [
        "# Añadimos al diccionario\n",
        "# ------------------------\n",
        "esta = {'media': df1.mean()[0],'mediana': df1.median()[0]}\n",
        "\n",
        "\n",
        "# Dibujamos\n",
        "# -----------------\n",
        "dibuja(df1,esta)"
      ],
      "metadata": {
        "id": "ugE4RpZsklyO"
      },
      "execution_count": null,
      "outputs": []
    }
  ]
}