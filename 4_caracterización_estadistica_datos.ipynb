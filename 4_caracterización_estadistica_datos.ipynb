{
  "nbformat": 4,
  "nbformat_minor": 0,
  "metadata": {
    "colab": {
      "provenance": [],
      "authorship_tag": "ABX9TyPLfxd1M7bLegg3ylLknyIt",
      "include_colab_link": true
    },
    "kernelspec": {
      "name": "python3",
      "display_name": "Python 3"
    },
    "language_info": {
      "name": "python"
    }
  },
  "cells": [
    {
      "cell_type": "markdown",
      "metadata": {
        "id": "view-in-github",
        "colab_type": "text"
      },
      "source": [
        "<a href=\"https://colab.research.google.com/github/waveology/aire/blob/main/4_caracterizaci%C3%B3n_estadistica_datos.ipynb\" target=\"_parent\"><img src=\"https://colab.research.google.com/assets/colab-badge.svg\" alt=\"Open In Colab\"/></a>"
      ]
    },
    {
      "cell_type": "markdown",
      "source": [
        "# Caracterización estadística de los datos"
      ],
      "metadata": {
        "id": "crfGnGpVlF9C"
      }
    },
    {
      "cell_type": "markdown",
      "source": [
        "* Vamos a explorar algunas de las posibilidades de análisis de datos de calidad del aire que ofrece Python en ámbito de la estadística. \n",
        "* Usaremos como hasta ahora datos meteorológicos de AEMET y registros de contaminación de la Comunidad de Madrid."
      ],
      "metadata": {
        "id": "y3nJxRpslS5R"
      }
    },
    {
      "cell_type": "markdown",
      "source": [
        "###1. Preparación de datos y código\n",
        "---"
      ],
      "metadata": {
        "id": "XVjh0NBgzXNM"
      }
    },
    {
      "cell_type": "markdown",
      "source": [
        "* Para trabajar más cómodamente vamos a descargar todos los ficheros del repositorio GitHub\n",
        "* De esa manera dispondremos de los datos localmente para nuestro análisis."
      ],
      "metadata": {
        "id": "-o3G-_7Wyerw"
      }
    },
    {
      "cell_type": "code",
      "source": [
        "# Directorio de trabajo local en la nube de Google Colab \n",
        "# ------------------------------------------------------------\n",
        "%cd /content\n",
        "\n",
        "# Si existe una copia previa del repositorio, la borramos:\n",
        "# ----------------------------------------------------------------------------\n",
        "!  rm -rf aire\n",
        "\n",
        "# Creamos una copia del repositorio SOLO si no existe previamente\n",
        "# ----------------------------------------------------------------------------\n",
        "! [ ! -d aire ] && git clone https://github.com/waveology/aire.git\n",
        "\n",
        "# Entramos en el repositorio que acabamos de copiar\n",
        "# --------------------------------------------------\n",
        "%cd aire"
      ],
      "metadata": {
        "id": "cyNmTWPgCFMY",
        "outputId": "5ef43909-043f-4c9c-b52e-478dbe827d1e",
        "colab": {
          "base_uri": "https://localhost:8080/"
        }
      },
      "execution_count": 1,
      "outputs": [
        {
          "output_type": "stream",
          "name": "stdout",
          "text": [
            "/content\n",
            "Cloning into 'aire'...\n",
            "remote: Enumerating objects: 291, done.\u001b[K\n",
            "remote: Counting objects: 100% (209/209), done.\u001b[K\n",
            "remote: Compressing objects: 100% (125/125), done.\u001b[K\n",
            "remote: Total 291 (delta 118), reused 131 (delta 82), pack-reused 82\u001b[K\n",
            "Receiving objects: 100% (291/291), 19.67 MiB | 17.71 MiB/s, done.\n",
            "Resolving deltas: 100% (156/156), done.\n",
            "/content/aire\n"
          ]
        }
      ]
    },
    {
      "cell_type": "markdown",
      "source": [
        "* Importamos las extensiones que vamos a necesitar. \n",
        "\n",
        "* Para simplificar la tarea hemos empaquetado las funciones de lectura de datos en un fichero independiente llamado \"lectura_de_datos.py\""
      ],
      "metadata": {
        "id": "jnTZ1fEu_Y5-"
      }
    },
    {
      "cell_type": "code",
      "source": [
        "import lectura_de_datos                                   # lee ficheros de datos meteorológicos y de contaminación de Madrid\n",
        "import matplotlib.pyplot as plt                           # dibujo de gráficos\n",
        "from matplotlib.dates import MonthLocator, DateFormatter  # formato de fechas \n",
        "from scipy import stats                                   # cálculo estadístico\n",
        "import numpy as np                                        # matrices"
      ],
      "metadata": {
        "id": "DnsOSQsG9RX9"
      },
      "execution_count": 3,
      "outputs": []
    },
    {
      "cell_type": "markdown",
      "source": [
        "###2. Inventario de datos\n",
        "---"
      ],
      "metadata": {
        "id": "TdfNMqrBzzrP"
      }
    },
    {
      "cell_type": "markdown",
      "source": [
        "* Por conveniencia, hemos introducido en \"lectura_de_datos.py\" el inventario de estaciones de medida de la contaminación.\n",
        "* Listamos los campos: **código | municipio | nombre**"
      ],
      "metadata": {
        "id": "jJYWwXGeYJJ5"
      }
    },
    {
      "cell_type": "code",
      "source": [
        "lectura_de_datos.estalist_com"
      ],
      "metadata": {
        "id": "2rt9ghXdXvJY",
        "outputId": "b927b09b-cb0b-4de2-e555-9dddb2deac3b",
        "colab": {
          "base_uri": "https://localhost:8080/"
        }
      },
      "execution_count": 5,
      "outputs": [
        {
          "output_type": "execute_result",
          "data": {
            "text/plain": [
              "{28005002: (5, 'ALCALÁ DE HENARES'),\n",
              " 28006004: (6, 'ALCOBENDAS'),\n",
              " 28007004: (7, 'ALCORCÓN'),\n",
              " 28009001: (9, 'ALGETE'),\n",
              " 28013002: (13, 'ARANJUEZ'),\n",
              " 28014002: (14, 'ARGANDA DEL REY'),\n",
              " 28016001: (16, 'EL ATAZAR'),\n",
              " 28045002: (45, 'COLMENAR VIEJO'),\n",
              " 28047002: (47, 'COLLADO VILLALB A'),\n",
              " 28049003: (49, 'COSLADA'),\n",
              " 28058004: (58, 'FUENLABRADA'),\n",
              " 28065014: (65, 'GETAFE'),\n",
              " 28067001: (67, 'GUADALIX DE LA SIERRA'),\n",
              " 28074007: (74, 'LEGANÉS'),\n",
              " 28080003: (80, 'MAJADAHONDA'),\n",
              " 28092005: (92, 'MÓSTOLES'),\n",
              " 28102001: (102, 'ORUSCO DE TAJUÑA'),\n",
              " 28120001: (120, 'PUERTO DE COTOS'),\n",
              " 28123002: (123, 'RIVAS-VACIAMADRID'),\n",
              " 28133002: (133, 'SAN MARTÍN DE VALDEIGLESIAS'),\n",
              " 28148004: (148, 'TORREJÓN DE ARDOZ'),\n",
              " 28161001: (161, 'VALDEMORO'),\n",
              " 28171001: (171, 'VILLA DEL PRADO'),\n",
              " 28180001: (180, 'VILLAREJO DE SALVANÉS')}"
            ]
          },
          "metadata": {},
          "execution_count": 5
        }
      ]
    },
    {
      "cell_type": "markdown",
      "source": [
        "* Listamos los contaminantes registrados.\n",
        "* **Código  |  Magnitud  | Unidades**\n"
      ],
      "metadata": {
        "id": "2wvRmzyYYhLo"
      }
    },
    {
      "cell_type": "code",
      "source": [
        "lectura_de_datos.maglist_com"
      ],
      "metadata": {
        "id": "yj7BJRUuZPWF",
        "outputId": "2f1eaab6-bc9e-449b-e9cd-a819f85bc91a",
        "colab": {
          "base_uri": "https://localhost:8080/"
        }
      },
      "execution_count": 6,
      "outputs": [
        {
          "output_type": "execute_result",
          "data": {
            "text/plain": [
              "{1: ('Dióxido de azufre', 'μg/m³'),\n",
              " 6: ('Monóxido de carbono', 'mg/m³'),\n",
              " 7: ('Monóxido de nitrógeno', 'μg/m³'),\n",
              " 8: ('Dióxido de nitrógeno', 'μg/m³'),\n",
              " 9: ('Partículas en suspensión < PM2.5', 'μg/m³'),\n",
              " 10: ('Partículas en suspensión < PM10', 'μg/m³'),\n",
              " 12: ('Óxidos de nitrógeno', 'μg/m³'),\n",
              " 14: ('Ozono', 'μg/m³'),\n",
              " 20: ('Tolueno', 'μg/m³'),\n",
              " 22: ('Black Carbon', 'μg/m³'),\n",
              " 30: ('Benceno', 'μg/m³'),\n",
              " 42: ('Hidrocarburos totales', 'mg/m³'),\n",
              " 44: ('Hidrocarburos no metánicos', 'mg/m³'),\n",
              " 431: ('MetaParaXileno', 'μg/m³')}"
            ]
          },
          "metadata": {},
          "execution_count": 6
        }
      ]
    },
    {
      "cell_type": "markdown",
      "source": [
        "* Hacemos lo mismo con los datos meteorológicos\n",
        "* Las estaciones (en este caso son las mismas)\n",
        "* **código | municipio | nombre**\n"
      ],
      "metadata": {
        "id": "TCfvaJr8F0BF"
      }
    },
    {
      "cell_type": "code",
      "source": [
        "lectura_de_datos.estalist_meteo"
      ],
      "metadata": {
        "id": "-T_FMruuZxGw",
        "outputId": "32b4f63c-470b-496c-d36f-39d6f9f1c6d6",
        "colab": {
          "base_uri": "https://localhost:8080/"
        }
      },
      "execution_count": 7,
      "outputs": [
        {
          "output_type": "execute_result",
          "data": {
            "text/plain": [
              "{28005002: (5, 'ALCALÁ DE HENARES'),\n",
              " 28006004: (6, 'ALCOBENDAS'),\n",
              " 28007004: (7, 'ALCORCÓN'),\n",
              " 28009001: (9, 'ALGETE'),\n",
              " 28013002: (13, 'ARANJUEZ'),\n",
              " 28014002: (14, 'ARGANDA DEL REY'),\n",
              " 28016001: (16, 'EL ATAZAR'),\n",
              " 28045002: (45, 'COLMENAR VIEJO'),\n",
              " 28047002: (47, 'COLLADO VILLALB A'),\n",
              " 28049003: (49, 'COSLADA'),\n",
              " 28058004: (58, 'FUENLABRADA'),\n",
              " 28065014: (65, 'GETAFE'),\n",
              " 28067001: (67, 'GUADALIX DE LA SIERRA'),\n",
              " 28074007: (74, 'LEGANÉS'),\n",
              " 28080003: (80, 'MAJADAHONDA'),\n",
              " 28092005: (92, 'MÓSTOLES'),\n",
              " 28102001: (102, 'ORUSCO DE TAJUÑA'),\n",
              " 28120001: (120, 'PUERTO DE COTOS'),\n",
              " 28123002: (123, 'RIVAS-VACIAMADRID'),\n",
              " 28133002: (133, 'SAN MARTÍN DE VALDEIGLESIAS'),\n",
              " 28148004: (148, 'TORREJÓN DE ARDOZ'),\n",
              " 28161001: (161, 'VALDEMORO'),\n",
              " 28171001: (171, 'VILLA DEL PRADO'),\n",
              " 28180001: (180, 'VILLAREJO DE SALVANÉS')}"
            ]
          },
          "metadata": {},
          "execution_count": 7
        }
      ]
    },
    {
      "cell_type": "markdown",
      "source": [
        "* Y por último, la magnitudes meteorológicas\n",
        "* **Código | Magnitud | Unidades**"
      ],
      "metadata": {
        "id": "nNvurIgGaFfb"
      }
    },
    {
      "cell_type": "code",
      "source": [
        "lectura_de_datos.maglist_meteo"
      ],
      "metadata": {
        "id": "51YY5UONaRUz",
        "outputId": "b81ec518-62bb-4a25-f224-f1abaf4d83e2",
        "colab": {
          "base_uri": "https://localhost:8080/"
        }
      },
      "execution_count": 8,
      "outputs": [
        {
          "output_type": "execute_result",
          "data": {
            "text/plain": [
              "{81: ('Velocidad del viento', 'm/s'),\n",
              " 82: ('Dirección del viento', 'º'),\n",
              " 83: ('Temperatura', 'ºC'),\n",
              " 86: ('Humedad relativa', '%'),\n",
              " 87: ('Presión atmosférica', 'hPa'),\n",
              " 88: ('Radiación solar', 'W/m2'),\n",
              " 89: ('Precipitación', 'mm')}"
            ]
          },
          "metadata": {},
          "execution_count": 8
        }
      ]
    },
    {
      "cell_type": "markdown",
      "source": [
        "###3. Carga de datos\n",
        "---"
      ],
      "metadata": {
        "id": "lB9I3Y-e0gd7"
      }
    },
    {
      "cell_type": "markdown",
      "source": [
        "* En el siguiente ejemplo, vamos a cargar datos de concentración de NO2 en la ciudad de Móstoles a lo largo del año 2019: \n",
        "* Esta versión de la funcion lectura_de_datos devuelve:\n",
        "  * el dataframe con los datos\n",
        "  * el nombre de la estación\n",
        "  * la magnitud medida\n",
        "  * sus unidades\n",
        "* Eso facilita la automatización de los gráficos.\n",
        "\n"
      ],
      "metadata": {
        "id": "DUpWHT5G0stW"
      }
    },
    {
      "cell_type": "code",
      "source": [
        "anio = 2022\n",
        "df, magnitud, unidades,estacion = lectura_de_datos.contaminacion(\n",
        "                                      'datos/contaminacion/%s.csv' % anio,\n",
        "                                      codigo_magnitud = 8,         # Dióxido de azufre\n",
        "                                      codigo_estacion = 28092005    # Móstoles  \n",
        "                                      ) \n",
        "\n",
        "#df, magnitud, unidades,estacion = lectura_de_datos.meteo(\n",
        "#                                    'datos/meteo/%s.csv' % anio,\n",
        "#                                     codigo_magnitud = 83,         # Temperatura\n",
        "#                                     codigo_estacion = 28067001    # Guadalix de la Sierra  \n",
        "#                                     ) \n",
        "\n",
        "print(df)"
      ],
      "metadata": {
        "id": "325Q-Kqw1pIf"
      },
      "execution_count": null,
      "outputs": []
    },
    {
      "cell_type": "markdown",
      "source": [
        "###4. Representación gráfica\n",
        "---"
      ],
      "metadata": {
        "id": "lQLhnBoK-Oed"
      }
    },
    {
      "cell_type": "markdown",
      "source": [
        "Representamos los resultados en un gráfico simple X-Y"
      ],
      "metadata": {
        "id": "dAiDSk5S9Ylo"
      }
    },
    {
      "cell_type": "code",
      "source": [
        "ax = df.plot(marker='o',                                      # Símbolo\n",
        "        ms=1,                                                 # Tamaño del símbolo\n",
        "        lw=0,                                                 # Grosor de líneas de conexión\n",
        "        color='black',                                        # Color\n",
        "        grid=True,                                            # Rejilla\n",
        "        figsize=(10,8),                                       # Tamaño del gráfico\n",
        "        legend=False,                                         # Leyenda\n",
        "        title='%s  -  %s     %s %s' % (estacion,anio,magnitud,unidades),  # Título\n",
        "        #xlim=('2022-03-10','2022-04-01'),\n",
        "        #ylim=(0,700)\n",
        "        )\n",
        "\n",
        "# Control de las etiquetas de tiempo\n",
        "# ------------------------------------\n",
        "#ax.xaxis.set_major_locator(MonthLocator())                             # Poner tics mayores al inicio de cada mes\n",
        "#ax.xaxis.set_minor_locator(MonthLocator(bymonthday=15))                # poner tics menores el día 15 de cada mes\n",
        "#ax.xaxis.set_major_formatter(DateFormatter(\"%d %B %y\"))                # formato de la fecha para los tics mayores\n",
        "#ax.xaxis.set_minor_formatter(DateFormatter('%d'))                      # formato de la fecha para los tics menores\n",
        "#ax.tick_params(axis=\"x\", labelrotation= 45)                            # inclinación de las etiquetas"
      ],
      "metadata": {
        "id": "szhTtbNm24SM"
      },
      "execution_count": null,
      "outputs": []
    },
    {
      "cell_type": "markdown",
      "source": [
        "###5. El histograma\n",
        "---"
      ],
      "metadata": {
        "id": "A_qlIWYQ_Fgp"
      }
    },
    {
      "cell_type": "code",
      "source": [
        "fig, ax = plt.subplots(figsize=(12,7))\n",
        "df.hist(  \n",
        "         bins     =  range(0,175,5),\n",
        "         stacked  =  False,\n",
        "         density  =  False,    # ¿Número de casos o frecuencia estadística?\n",
        "         log      =  False,    # Logarítimico\n",
        "         rwidth   =  0.9,\n",
        "         ax       =  ax\n",
        ")\n",
        "ax.set_title('Histograma    -    %s    -    %s    -     %s (%s)' % (anio,estacion,magnitud,unidades),size=14)\n",
        "#ax.set_ylim(0,20)\n",
        "ax.set_ylabel('Número de registros',size=15)\n",
        "#ax.set_ylabel('Frecuencia estadística',size=15)\n",
        "ax.set_xlabel(unidades,size=15)"
      ],
      "metadata": {
        "id": "Oy6NV3Jr_Lip"
      },
      "execution_count": null,
      "outputs": []
    },
    {
      "cell_type": "markdown",
      "source": [
        "###6. El valor medio\n",
        "---"
      ],
      "metadata": {
        "id": "T5cAu5NDoEyE"
      }
    },
    {
      "cell_type": "markdown",
      "source": [
        "El valor medio de la serie temporal puede calcularse fácilmente con la función mean()"
      ],
      "metadata": {
        "id": "xcRK44OBoOaJ"
      }
    },
    {
      "cell_type": "code",
      "source": [
        "media = df.mean()[0] "
      ],
      "metadata": {
        "id": "OuFyvatvoY7N"
      },
      "execution_count": null,
      "outputs": []
    },
    {
      "cell_type": "markdown",
      "source": [
        "Representamos graficamente:"
      ],
      "metadata": {
        "id": "rj9OkC9a9adR"
      }
    },
    {
      "cell_type": "code",
      "source": [
        "def dibuja(df, estadisticos) :\n",
        "  \n",
        "  fig, ax = plt.subplots(2,1,figsize=(12,7))\n",
        "\n",
        "  min = df.min()\n",
        "  max = df.max()\n",
        "\n",
        "  # Serie temporal\n",
        "  # --------------\n",
        "  df.plot(grid=True,             ax = ax[0], color='#444444')\n",
        "  txt = '%s    -    %s    -     %s (%s)     [min=%.1f,  max=%.1f]'\n",
        "  ax[0].set_title(txt % (anio,estacion,magnitud,unidades,min,max),size=14)\n",
        "  ax[0].set_ylabel(unidades,size=12)\n",
        "\n",
        "\n",
        "  # Formato de fechas\n",
        "  # -----------------\n",
        "  ax[0].xaxis.set_major_locator(MonthLocator())                             # Poner tics mayores al inicio de cada mes\n",
        "  ax[0].xaxis.set_minor_locator(MonthLocator(bymonthday=15))                # poner tics menores el día 15 de cada mes\n",
        "  ax[0].xaxis.set_major_formatter(DateFormatter(\"%d %B %y\"))                # formato de la fecha para los tics mayores\n",
        "  ax[0].xaxis.set_minor_formatter(DateFormatter(''))                      # formato de la fecha para los tics menores\n",
        "  ax[0].tick_params(axis=\"x\", labelrotation= 45)                            # inclinación de las etiquetas\n",
        "\n",
        "  # Histograma\n",
        "  # -----------\n",
        "  df.hist(bins = range(0,175,5), ax = ax[1], color='#444444')\n",
        "  ax[1].set_title(None)\n",
        "  ax[1].set_xlabel(unidades,size=12)\n",
        "\n",
        "  # Añadimos líneas de valores estadísticos\n",
        "  # -----------------------------------------\n",
        "  color = ('b','r','g','c','orange','m','y','k')\n",
        "\n",
        "  n = 0\n",
        "  for nombre,valor in estadisticos.items() :\n",
        "     ax[0].axhline(y=valor, ls='--', lw=3, label='%s=%.1f' % (nombre,valor), color=color[n])\n",
        "     ax[1].axvline(x=valor, ls='--', lw=3,label='%s=%.1f' % (nombre,valor), color=color[n])\n",
        "     n += 1\n",
        "\n",
        "\n",
        "  # Activamos la leyenda\n",
        "  # --------------------\n",
        "  ax[0].legend()\n",
        "\n",
        "  # Ajusta visualmente los gráficos\n",
        "  # --------------------------------\n",
        "  plt.tight_layout()\n",
        "\n",
        "  return\n"
      ],
      "metadata": {
        "id": "84rFZrlNoLhy"
      },
      "execution_count": null,
      "outputs": []
    },
    {
      "cell_type": "code",
      "source": [
        "esta = {'media': media}\n",
        "dibuja(df,esta)"
      ],
      "metadata": {
        "id": "SRQ68vl50-uQ"
      },
      "execution_count": null,
      "outputs": []
    },
    {
      "cell_type": "markdown",
      "source": [
        "###7. **La dispersión**\n",
        "---\n",
        "\n"
      ],
      "metadata": {
        "id": "h33oiTQEyPwB"
      }
    },
    {
      "cell_type": "code",
      "source": [
        "varianza          = df.var()[0]\n",
        "desviacion_tipica = df.std()[0]\n",
        "\n",
        "esta['s1'] = media - desviacion_tipica\n",
        "esta['s2'] = media + desviacion_tipica\n",
        "dibuja(df,esta)\n",
        "\n",
        "del esta['s1']\n",
        "del esta['s2']"
      ],
      "metadata": {
        "id": "PHW1lPNRyeEn"
      },
      "execution_count": null,
      "outputs": []
    },
    {
      "cell_type": "markdown",
      "source": [
        "###8. **La mediana**\n",
        "---"
      ],
      "metadata": {
        "id": "GuHbQBsIx_Ru"
      }
    },
    {
      "cell_type": "code",
      "source": [
        "mediana = df.median()[0] \n",
        "\n",
        "esta['mediana'] = mediana\n",
        "dibuja(df,esta)"
      ],
      "metadata": {
        "id": "kQL_B7QUyYJM"
      },
      "execution_count": null,
      "outputs": []
    },
    {
      "cell_type": "markdown",
      "source": [
        "###9. **Percentiles**\n",
        "---"
      ],
      "metadata": {
        "id": "d2TnZ4FyJ9_I"
      }
    },
    {
      "cell_type": "code",
      "source": [
        "nivel = (1, 5, 25, 75, 95, 99)\n",
        "for x in nivel :\n",
        "   label = 'P%d' % x\n",
        "   esta[label] = np.percentile(df,x)\n",
        "dibuja(df,esta)"
      ],
      "metadata": {
        "id": "Hi5FbWhIKQds"
      },
      "execution_count": null,
      "outputs": []
    },
    {
      "cell_type": "markdown",
      "source": [
        "###10. **Valores atípicos (outliers)**\n",
        "---"
      ],
      "metadata": {
        "id": "KhfPxxZFR27b"
      }
    },
    {
      "cell_type": "markdown",
      "source": [
        "Un método popular para determinar qué puntos son atípicos y eliminarlos de la muestra se basa en el ***rango intercuartílico*** (***RIQ***).\n",
        "\n",
        "El ***RIQ***  es la diferencia entre los percentiles 75 y 25.\n",
        "\n",
        "Si un registro se encuentra a una distancia de P25 o P75 que supera 1.5 veces el riq, se considera un **valor atípico leve**.\n",
        "\n",
        "Si un registro se a una distancia de P25 o P75 que supera 3 veces el riq, se considera un **valor atípico extremo**."
      ],
      "metadata": {
        "id": "aN7bFq19UIXn"
      }
    },
    {
      "cell_type": "code",
      "source": [
        "P25, P75 = np.percentile(df, (25 ,75))\n",
        "RIQ = P75 - P25\n",
        "\n",
        "print('P25=%.1f  P75=%.1f   RIQ=%.1f' % (P25, P75, RIQ))"
      ],
      "metadata": {
        "id": "CA4J0hmcR9wU"
      },
      "execution_count": null,
      "outputs": []
    },
    {
      "cell_type": "code",
      "source": [
        "# Valores atípicos leves\n",
        "# ----------------------\n",
        "L1 = P25 - 1.5 * RIQ\n",
        "L2 = P75 + 1.5 * RIQ\n",
        "print('Los valores inferiones a %.1f son ATÍPICOS LEVES' % L1)\n",
        "print('Los valores superiores a %.1f son ATÍPICOS LEVES' % L2)"
      ],
      "metadata": {
        "id": "0wRsC_0YXXq9"
      },
      "execution_count": null,
      "outputs": []
    },
    {
      "cell_type": "code",
      "source": [
        "# Valores atípicos extremos\n",
        "# -------------------------\n",
        "E1 = P25 - 3 * RIQ\n",
        "E2 = P75 + 3 * RIQ\n",
        "print('Los valores inferiones a %.1f son ATÍPICOS LEVES' % L1)\n",
        "print('Los valores superiores a %.1f son ATÍPICOS LEVES' % L2)"
      ],
      "metadata": {
        "id": "aT8AX6aTYjb8"
      },
      "execution_count": null,
      "outputs": []
    },
    {
      "cell_type": "code",
      "source": [
        "esta = {'L1':L1,'L2':L2,'E1':E1,'E2':E2}\n",
        "dibuja(df,esta)"
      ],
      "metadata": {
        "id": "FSDDa3QMZD0C"
      },
      "execution_count": null,
      "outputs": []
    },
    {
      "cell_type": "markdown",
      "source": [
        "Veamos qué ocurre si eliminamos los valores atípicos extremos:"
      ],
      "metadata": {
        "id": "BuwhqoiHaTjT"
      }
    },
    {
      "cell_type": "code",
      "source": [
        "df1 = df[ (df.valor >= E1) & (df.valor <= E2) ]\n",
        "n = len(df) - len(df1)\n",
        "print('Se eliminaron %d valores atípicos extremos de una muestra de %d datos (%.2f%%)' % (n,len(df),100*n/len(df)))"
      ],
      "metadata": {
        "id": "zltcWPMZaczz"
      },
      "execution_count": null,
      "outputs": []
    },
    {
      "cell_type": "code",
      "source": [
        "esta = {'media': df1.mean()[0],'mediana': df1.median()[0]}\n",
        "dibuja(df1,esta)\n",
        "\n",
        "esta = {'media': df.mean()[0],'mediana': df.median()[0]}\n",
        "dibuja(df,esta)"
      ],
      "metadata": {
        "id": "LwZEUd0CiO5R"
      },
      "execution_count": null,
      "outputs": []
    },
    {
      "cell_type": "markdown",
      "source": [
        "Si hubiéramos eliminado todos los valores atípicos:"
      ],
      "metadata": {
        "id": "yuun8gkvjhSp"
      }
    },
    {
      "cell_type": "code",
      "source": [
        "df1 = df[ (df.valor >= L1) & (df.valor <= L2) ]\n",
        "n = len(df) - len(df1)\n",
        "print('Se eliminaron %d valores atípicos leves de una muestra de %d datos (%.2f%%)' % (n,len(df),100*n/len(df)))"
      ],
      "metadata": {
        "id": "m2kSggJAjeNA"
      },
      "execution_count": null,
      "outputs": []
    },
    {
      "cell_type": "code",
      "source": [
        "esta = {'media': df1.mean()[0],'mediana': df1.median()[0]}\n",
        "dibuja(df1,esta)"
      ],
      "metadata": {
        "id": "ugE4RpZsklyO"
      },
      "execution_count": null,
      "outputs": []
    }
  ]
}