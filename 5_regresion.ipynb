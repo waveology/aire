{
  "nbformat": 4,
  "nbformat_minor": 0,
  "metadata": {
    "colab": {
      "provenance": [],
      "authorship_tag": "ABX9TyOjk4XK+bT//QUK459HWVp3",
      "include_colab_link": true
    },
    "kernelspec": {
      "name": "python3",
      "display_name": "Python 3"
    },
    "language_info": {
      "name": "python"
    }
  },
  "cells": [
    {
      "cell_type": "markdown",
      "metadata": {
        "id": "view-in-github",
        "colab_type": "text"
      },
      "source": [
        "<a href=\"https://colab.research.google.com/github/waveology/aire/blob/main/5_regresion_lineal.ipynb\" target=\"_parent\"><img src=\"https://colab.research.google.com/assets/colab-badge.svg\" alt=\"Open In Colab\"/></a>"
      ]
    },
    {
      "cell_type": "markdown",
      "source": [
        "# Regresión lineal"
      ],
      "metadata": {
        "id": "crfGnGpVlF9C"
      }
    },
    {
      "cell_type": "markdown",
      "source": [
        "Vamos a explorar algunas posibilidades de análisis de datos de calidad del aire que ofrece Python. Usaremos como hasta ahora datos meteorológicos de AEMET y de contaminación de la Comunidad de Madrid."
      ],
      "metadata": {
        "id": "y3nJxRpslS5R"
      }
    },
    {
      "cell_type": "markdown",
      "source": [
        "###1. Preparación de datos y código\n",
        "---"
      ],
      "metadata": {
        "id": "XVjh0NBgzXNM"
      }
    },
    {
      "cell_type": "markdown",
      "source": [
        "Descargamos el repositorio de código y datos para trabajar más cómodamente:"
      ],
      "metadata": {
        "id": "-o3G-_7Wyerw"
      }
    },
    {
      "cell_type": "code",
      "source": [
        "# Directorio de trabajo en Colab \n",
        "# ------------------------------------------------------------\n",
        "%cd /content\n",
        "\n",
        "# Si existe una copia previa del repositorio, la borramos:\n",
        "# ----------------------------------------------------------------------------\n",
        "#!  rm -rf aire\n",
        "\n",
        "# Creamos una copia del repositorio SOLO si no existe previamente\n",
        "# ----------------------------------------------------------------------------\n",
        "! [ ! -d aire ] && git clone https://github.com/waveology/aire.git\n",
        "\n",
        "# Entramos en el repositorio que acabamos de copiar\n",
        "# --------------------------------------------------\n",
        "%cd aire"
      ],
      "metadata": {
        "id": "cyNmTWPgCFMY"
      },
      "execution_count": null,
      "outputs": []
    },
    {
      "cell_type": "markdown",
      "source": [
        "Importamos las extensiones que vamos a necesitar. \n",
        "\n",
        "Para simplificar la tarea hemos empaquetado las funciones de lectura de datos en un fichero independiente (lectura_de_datos.py) "
      ],
      "metadata": {
        "id": "jnTZ1fEu_Y5-"
      }
    },
    {
      "cell_type": "code",
      "source": [
        "import lectura_de_datos                                   # lee ficheros de datos meteorológicos y de contaminación de Madrid\n",
        "import matplotlib.pyplot as plt                           # dibujo de gráficos\n",
        "from matplotlib.dates import MonthLocator, DateFormatter  # formato de fechas \n",
        "from scipy import stats                                   # cálculo estadístico\n",
        "import numpy as np                                        # matrices\n",
        "import pandas as pd\n",
        "from sklearn.linear_model import LinearRegression\n",
        "from sklearn.preprocessing import PolynomialFeatures"
      ],
      "metadata": {
        "id": "DnsOSQsG9RX9"
      },
      "execution_count": null,
      "outputs": []
    },
    {
      "cell_type": "markdown",
      "source": [
        "###2. Inventario de datos\n",
        "---"
      ],
      "metadata": {
        "id": "TdfNMqrBzzrP"
      }
    },
    {
      "cell_type": "markdown",
      "source": [
        "####Estaciones de medida\n",
        "**Código | Municipio | Nombre**\n",
        "\n",
        "---\n",
        "*       28005002   :    (  5,  'ALCALÁ DE HENARES'), \n",
        "*       28006004   :    (  6,  'ALCOBENDAS'), \n",
        "*       28007004   :    (  7,  'ALCORCÓN'), \n",
        "*       28009001   :\t(  9,  'ALGETE'), \n",
        "*       28013002   :\t( 13,  'ARANJUEZ'), \n",
        "*       28014002   :\t( 14,  'ARGANDA DEL REY'),\n",
        "*       28016001   :\t( 16,  'EL ATAZAR'),\n",
        "*       28045002   :\t( 45,  'COLMENAR VIEJO'), \n",
        "*       28047002   :\t( 47,  'COLLADO VILLALBA'), \n",
        "*       28049003   :\t( 49,  'COSLADA'), \n",
        "*       28058004   :\t( 58,  'FUENLABRADA'), \n",
        "*       28065014   :\t( 65,  'GETAFE'), \n",
        "*       28067001   :\t( 67,  'GUADALIX DE LA SIERRA'), \n",
        "*       28074007   :\t( 74,  'LEGANÉS'), \n",
        "*       28080003   :\t( 80,  'MAJADAHONDA'), \n",
        "*       28092005   :\t( 92,  'MÓSTOLES'), \n",
        "*       28102001   :\t(102,  'ORUSCO DE TAJUÑA'), \n",
        "*       28120001   : \t(120,  'PUERTO DE COTOS'), \n",
        "*       28123002   :\t(123,  'RIVAS-VACIAMADRID'), \n",
        "*       28133002   :\t(133,  'SAN MARTÍN DE VALDEIGLESIAS'), \n",
        "*       28148004   :\t(148,  'TORREJÓN DE ARDOZ'), \n",
        "*       28161001   :\t(161,  'VALDEMORO'), \n",
        "*       28171001   :\t(171,  'VILLA DEL PRADO'), \n",
        "*       28180001   :\t(180,  'VILLAREJO DE SALVANÉS')\n"
      ],
      "metadata": {
        "id": "-EgX5hzMEg63"
      }
    },
    {
      "cell_type": "markdown",
      "source": [
        "####Contaminantes\n",
        "**Código  |  Magnitud  | Unidades**\n",
        "\n",
        "  \n",
        "---\n",
        "*      1 \t:  ('Dióxido de azufre', 'μg/m³'),\n",
        "*      6 \t:  ('Monóxido de carbono', 'mg/m³'),\n",
        "*      7 \t:  ('Monóxido de nitrógeno', 'μg/m³'),\n",
        "*      8 \t:  ('Dióxido de nitrógeno', 'μg/m³'),\n",
        "*      9 \t:  ('Partículas en suspensión < PM2.5', 'μg/m³'),\n",
        "*     10 \t:  ('Partículas en suspensión < PM10',  'μg/m³'),\n",
        "*     12 \t:  ('Óxidos de nitrógeno', 'μg/m³'),\n",
        "*     14 \t:  ('Ozono', 'μg/m³'),\n",
        "*     20 \t:  ('Tolueno', 'μg/m³'),\n",
        "*     22 \t:  ('Black Carbon', 'μg/m³'),\n",
        "*     30 \t:  ('Benceno', 'μg/m³'),\n",
        "*     42 \t:  ('Hidrocarburos totales', 'mg/m³'),\n",
        "*     44 \t:  ('Hidrocarburos no metánicos', 'mg/m³'),\n",
        "*    431  :  ('MetaParaXileno', 'μg/m³')\n",
        "    }"
      ],
      "metadata": {
        "id": "oCkRdKRMoCuG"
      }
    },
    {
      "cell_type": "markdown",
      "source": [
        "####Meteorología\n",
        "**Código | Magnitud | Unidades**\n",
        "\n",
        "---\n",
        "*   81 :\t('Velocidad del viento',     'm/s'), \n",
        "*   82 :\t('Dirección del viento',     'º'), \n",
        "*   83 :\t('Temperatura',              'ºC'), \n",
        "*   86 :\t('Humedad relativa',         '%'), \n",
        "*   87 :\t('Presión atmosférica',      'hPa'), \n",
        "*   88 :\t('Radiación solar',          'W/m2'), \n",
        "*   89 :\t('Precipitación',            'mm')"
      ],
      "metadata": {
        "id": "TCfvaJr8F0BF"
      }
    },
    {
      "cell_type": "markdown",
      "source": [
        "###3. Carga de datos\n",
        "---"
      ],
      "metadata": {
        "id": "lB9I3Y-e0gd7"
      }
    },
    {
      "cell_type": "markdown",
      "source": [
        "Vamos a cargar datos de dos magnitudes para estudiar posibles relaciones\n"
      ],
      "metadata": {
        "id": "DUpWHT5G0stW"
      }
    },
    {
      "cell_type": "markdown",
      "source": [
        "Esta versión de la funcion lectura_de_datos devuelve, además del dataframe con los datos, el nombre de la estación, la magnitud medida y sus unidades. Eso facilita la automatización de los gráficos:"
      ],
      "metadata": {
        "id": "Dt1xSZrR9CjW"
      }
    },
    {
      "cell_type": "code",
      "source": [
        "\"\"\"\n",
        "anio = 2022\n",
        "col1 = 'temperatura'\n",
        "col2 = 'humedad'\n",
        "df1, magnitud1, unidades1,estacion1 = lectura_de_datos.meteo(\n",
        "                                    'datos/meteo/%s.csv' % anio,\n",
        "                                     codigo_magnitud = 83,         # Temperatura\n",
        "                                     codigo_estacion = 28092005   # Guadalix de la Sierra  \n",
        "                                     ) \n",
        "df2, magnitud2, unidades2,estacion2 = lectura_de_datos.meteo(\n",
        "                                    'datos/meteo/%s.csv' % anio,\n",
        "                                     codigo_magnitud = 86 ,         # Humedad relativa\n",
        "                                     codigo_estacion = 28092005    # Guadalix de la Sierra  \n",
        "                                     ) \n",
        "\"\"\"\n",
        "\n",
        "anio = 2021\n",
        "col1 = 'pm2.5'\n",
        "col2 = 'pm10'\n",
        "df1, magnitud1, unidades1,estacion1 = lectura_de_datos.comunidad(\n",
        "                                    'datos/comunidad/%s.csv' % anio,\n",
        "                                     codigo_magnitud = 9,          # PM2.5\n",
        "                                     codigo_estacion = 28065014    # Getafe\n",
        "                                     ) \n",
        "df2, magnitud2, unidades2,estacion2 = lectura_de_datos.comunidad(\n",
        "                                    'datos/comunidad/%s.csv' % anio,\n",
        "                                     codigo_magnitud = 10 ,        # PM10\n",
        "                                     codigo_estacion = 28065014    # Getafe\n",
        "                                     ) \n",
        "\n",
        "df1.rename(columns={'valor':col1}, inplace=True)\n",
        "df2.rename(columns={'valor':col2}, inplace=True)\n",
        "\n",
        "# Fusionamos ambas series de datos\n",
        "# ---------------------------------\n",
        "df = pd.merge(df1, df2, left_index=True, right_index=True)\n",
        "print(df.describe())"
      ],
      "metadata": {
        "id": "325Q-Kqw1pIf"
      },
      "execution_count": null,
      "outputs": []
    },
    {
      "cell_type": "markdown",
      "source": [
        "Representamos ambas series temporales:"
      ],
      "metadata": {
        "id": "sfhHXsgvH0u2"
      }
    },
    {
      "cell_type": "code",
      "source": [
        "df.plot(\n",
        "        marker='o',                                           # Símbolo\n",
        "        ms=1,                                                 # Tamaño del símbolo\n",
        "        lw=0,                                                 # Grosor de líneas de conexión\n",
        "        grid=True,                                            # Rejilla\n",
        "        figsize=(12,8),                                       # Tamaño del gráfico\n",
        "        legend=True,                                          # Leyenda\n",
        "        title='%s VS %s   -    %s  -  %s' % (magnitud2,magnitud1,estacion1,anio),                 # Titulo        \n",
        "        xlabel= '%s %s' % (magnitud1,unidades1),              # Etiqueta X   \n",
        "        ylabel= '%s %s' % (magnitud2,unidades2)               # Etiqueta Y   \n",
        "        )\n",
        "\n",
        "\"\"\"\n",
        "fig, ax = plt.subplots(nrows=2,ncols=1,figsize=(12,8))\n",
        "ax[0].plot(df[col1])\n",
        "ax[1].plot(df[col2])\n",
        "for a in ax :\n",
        "  a.grid(True)\n",
        "  a.set_ylim(0,200)\n",
        "\"\"\"  "
      ],
      "metadata": {
        "id": "P9nMegxcHtrX"
      },
      "execution_count": null,
      "outputs": []
    },
    {
      "cell_type": "markdown",
      "source": [
        "Representamos una serie de datos respecto a la otra"
      ],
      "metadata": {
        "id": "WK9TM-oDtYET"
      }
    },
    {
      "cell_type": "code",
      "source": [
        "ax = df.plot(x=col1, y=col2,\n",
        "        marker='o',                                           # Símbolo\n",
        "        ms=2,                                                 # Tamaño del símbolo\n",
        "        lw=0,                                                 # Grosor de líneas de conexión\n",
        "        color='blue',                                         # Color\n",
        "        grid=True,                                            # Rejilla\n",
        "        figsize=(12,8),                                       # Tamaño del gráfico\n",
        "        legend=False,                                         # Leyenda\n",
        "        title='%s VS %s   -    %s  -  %s' % (magnitud2,magnitud1,estacion1,anio),                 # Titulo        \n",
        "        xlabel= '%s %s' % (magnitud1,unidades1),              # Etiqueta X   \n",
        "        ylabel= '%s %s' % (magnitud2,unidades2)               # Etiqueta Y   \n",
        "        )"
      ],
      "metadata": {
        "id": "y55I_Rt7teGU"
      },
      "execution_count": null,
      "outputs": []
    },
    {
      "cell_type": "markdown",
      "source": [
        "Creamos un modelo lineal para ajustar los datos"
      ],
      "metadata": {
        "id": "ngvmmTB68F7-"
      }
    },
    {
      "cell_type": "code",
      "source": [
        "x = np.array(df[col1]).reshape(-1,1)\n",
        "y = np.array(df[col2])"
      ],
      "metadata": {
        "id": "2z4NCuI_EQhp"
      },
      "execution_count": null,
      "outputs": []
    },
    {
      "cell_type": "code",
      "source": [
        " model     = LinearRegression().fit(x,y)\n",
        " ajuste    = model.predict(x)"
      ],
      "metadata": {
        "id": "BvBnQvAc8Nxx"
      },
      "execution_count": null,
      "outputs": []
    },
    {
      "cell_type": "code",
      "source": [
        "fig, ax = plt.subplots(figsize=(12,8))\n",
        "ax.plot(x,y,\n",
        "        marker = 'o',\n",
        "        ms     = 2,\n",
        "        lw     = 0,\n",
        "        )\n",
        "ax.plot(x,ajuste, ls='--', color='red')\n",
        "ax.grid(True)\n",
        "ax.set_title('%s VS %s   -    %s  -  %s' % (magnitud2,magnitud1,estacion1,anio)) # Titulo        \n",
        "ax.set_xlabel('%s %s' % (magnitud1,unidades1))                                   # Etiqueta X   \n",
        "ax.set_ylabel('%s %s' % (magnitud2,unidades2))                                   # Etiqueta Y   "
      ],
      "metadata": {
        "id": "MvsL7iw9JaOj"
      },
      "execution_count": null,
      "outputs": []
    },
    {
      "cell_type": "markdown",
      "source": [
        "El coeficiente de determinación $R^{2}$ toma valores entre cero y uno y mide la calidad del ajuste:"
      ],
      "metadata": {
        "id": "ZdkuoQucQflp"
      }
    },
    {
      "cell_type": "code",
      "source": [
        "r2 = model.score(x,y)\n",
        "print('R\\u00b2 = %f' % r2)"
      ],
      "metadata": {
        "id": "jGC2MD0VRsg4"
      },
      "execution_count": null,
      "outputs": []
    },
    {
      "cell_type": "markdown",
      "source": [
        "Podemos obtener el valor en el que la recta de ajuste intersecta el eje y:"
      ],
      "metadata": {
        "id": "SInZK2bBSRvX"
      }
    },
    {
      "cell_type": "code",
      "source": [
        "b = model.intercept_\n",
        "print('b = %f' % b)"
      ],
      "metadata": {
        "id": "aZoWCXowSL88"
      },
      "execution_count": null,
      "outputs": []
    },
    {
      "cell_type": "markdown",
      "source": [
        "Y también la pendiente de la recta:"
      ],
      "metadata": {
        "id": "FXXg8IqxShT_"
      }
    },
    {
      "cell_type": "code",
      "source": [
        "a = model.coef_\n",
        "print('a = %f' % a[0])"
      ],
      "metadata": {
        "id": "0Vnq6LcQSsgn"
      },
      "execution_count": null,
      "outputs": []
    },
    {
      "cell_type": "markdown",
      "source": [
        "De manera que nuestra recta de ajuste viene dada por:\n",
        "\n",
        "<center>$humedad  = a * temperatura + b$</center>"
      ],
      "metadata": {
        "id": "uMhjHCFxTbx5"
      }
    },
    {
      "cell_type": "code",
      "source": [
        "fig, ax = plt.subplots(figsize=(12,8))\n",
        "ax.plot(x,y,\n",
        "        marker = 'o',\n",
        "        ms     = 2,\n",
        "        lw     = 0,\n",
        "        )\n",
        "recta = 'Y = %.3f * X + %.3f\\n\\nR$^{2}=%.3f$' % (a,b,r2)\n",
        "ax.plot(x,ajuste, marker='o', ms=3, lw=0, color='red')\n",
        "ax.grid(True)\n",
        "ax.set_title('%s VS %s   -    %s  -  %s\\n%s' % (magnitud2,magnitud1,estacion1,anio,recta)) # Titulo        \n",
        "ax.set_xlabel('%s %s' % (magnitud1,unidades1))                                   # Etiqueta X   \n",
        "ax.set_ylabel('%s %s' % (magnitud2,unidades2))                                   # Etiqueta Y   "
      ],
      "metadata": {
        "id": "HHjXaEpATn-0"
      },
      "execution_count": null,
      "outputs": []
    },
    {
      "cell_type": "code",
      "source": [
        "\n",
        "x = np.array(df[col1])\n",
        "y = np.array(df[col2])\n",
        "\n",
        "poly = PolynomialFeatures(degree=3, include_bias=False)\n",
        "poly_features = poly.fit_transform(x.reshape(-1, 1))\n",
        "model = LinearRegression()\n",
        "model.fit(poly_features,y)\n",
        "\n",
        "ajuste = model.predict(poly_features)\n",
        "print(model.intercept_, model.coef_)"
      ],
      "metadata": {
        "id": "1xdfIZPEmI-O"
      },
      "execution_count": null,
      "outputs": []
    },
    {
      "cell_type": "code",
      "source": [
        "a, b, c   = model.coef_\n",
        "d         = model.intercept_\n",
        "polinomio = a * x**3 + b * x**2 + c * x + d"
      ],
      "metadata": {
        "id": "ap2kY1lpAM1X"
      },
      "execution_count": null,
      "outputs": []
    },
    {
      "cell_type": "code",
      "source": [
        "fig, ax = plt.subplots(figsize=(12,8))\n",
        "ax.plot(x,y,\n",
        "        marker = 'o',\n",
        "        ms     = 2,\n",
        "        lw     = 0,\n",
        "        )\n",
        "ax.plot(x,ajuste, marker='o', ms=1, lw=0, color='red')\n",
        "ax.grid(True)\n",
        "poli = 'Y = (%.2f) * x$^{3}$ + (%.2f) * x$^{2}$ + (%.2f) * X + (%.2f)' % (a,b,c,d)\n",
        "ax.set_title('%s VS %s   -    %s  -  %s\\n%s' % (magnitud2,magnitud1,estacion1,anio,poli)) # Titulo        \n",
        "ax.set_xlabel('%s %s' % (magnitud1,unidades1))                                   # Etiqueta X   \n",
        "ax.set_ylabel('%s %s' % (magnitud2,unidades2))                                   # Etiqueta Y  "
      ],
      "metadata": {
        "id": "S9-YspBunnuO"
      },
      "execution_count": null,
      "outputs": []
    },
    {
      "cell_type": "markdown",
      "source": [
        "Repetimos en un rango dinámico más pequeño (0-50 ug/m3)"
      ],
      "metadata": {
        "id": "M2uszYTKKqLn"
      }
    },
    {
      "cell_type": "code",
      "source": [
        "print(df)\n",
        "(df[col1] < 50) & (df[col2] < 50)\n",
        "df = df[(df[col1] < 50) & (df[col2] < 50)]\n",
        "df.describe()"
      ],
      "metadata": {
        "id": "0tWQUaewKhmh"
      },
      "execution_count": null,
      "outputs": []
    }
  ]
}
