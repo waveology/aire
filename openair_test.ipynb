{
  "nbformat": 4,
  "nbformat_minor": 0,
  "metadata": {
    "colab": {
      "provenance": [],
      "authorship_tag": "ABX9TyP3dDSgBvldb2j/aQ7K/LlW",
      "include_colab_link": true
    },
    "kernelspec": {
      "name": "ir",
      "display_name": "R"
    },
    "language_info": {
      "name": "R"
    },
    "gpuClass": "standard"
  },
  "cells": [
    {
      "cell_type": "markdown",
      "metadata": {
        "id": "view-in-github",
        "colab_type": "text"
      },
      "source": [
        "<a href=\"https://colab.research.google.com/github/waveology/aire/blob/main/openair_test.ipynb\" target=\"_parent\"><img src=\"https://colab.research.google.com/assets/colab-badge.svg\" alt=\"Open In Colab\"/></a>"
      ]
    },
    {
      "cell_type": "markdown",
      "source": [
        "# Prueba simple de instalación y ejecución del paquete Openair de R\n"
      ],
      "metadata": {
        "id": "ghK260n6bgo8"
      }
    },
    {
      "cell_type": "code",
      "execution_count": null,
      "metadata": {
        "id": "cqwdtZKpW2Pu"
      },
      "outputs": [],
      "source": [
        "# Instalación\n",
        "# ------------\n",
        "install.packages(\"openair\")"
      ]
    },
    {
      "cell_type": "code",
      "source": [
        "# Carga\n",
        "# --------\n",
        "library(openair)"
      ],
      "metadata": {
        "id": "IR5V9i7vZLQV"
      },
      "execution_count": null,
      "outputs": []
    },
    {
      "cell_type": "code",
      "source": [
        "# Ejemplo de importación de datos\n",
        "# --------------------------------\n",
        "kc1 <- importAURN(site = \"kc1\", year = 2020)"
      ],
      "metadata": {
        "id": "bvkzEzQwZStN"
      },
      "execution_count": null,
      "outputs": []
    },
    {
      "cell_type": "code",
      "source": [
        "# Mostrar datos\n",
        "# -------------\n",
        "kc1"
      ],
      "metadata": {
        "id": "qKEUquR9ZYe0"
      },
      "execution_count": null,
      "outputs": []
    },
    {
      "cell_type": "code",
      "source": [
        "# Selección de datos\n",
        "# -------------------\n",
        "sub <- selectByDate(kc1,\n",
        "  day = \"weekday\",\n",
        "  year = 2020,\n",
        "  month = 6:9,\n",
        "  hour = 7:19\n",
        ")\n",
        "sub"
      ],
      "metadata": {
        "id": "a4qFmR29Zfhl"
      },
      "execution_count": null,
      "outputs": []
    },
    {
      "cell_type": "code",
      "source": [
        "# Promedios temporales\n",
        "# ---------------------\n",
        "sub2 <- timeAverage(kc1, avg.time = \"2 week\")"
      ],
      "metadata": {
        "id": "Un6KGEq1ZpfI"
      },
      "execution_count": null,
      "outputs": []
    },
    {
      "cell_type": "code",
      "source": [
        "# Rosa de vientos\n",
        "# -----------------\n",
        "windRose(mydata)"
      ],
      "metadata": {
        "id": "BtGayOdiZuGh"
      },
      "execution_count": null,
      "outputs": []
    },
    {
      "cell_type": "code",
      "source": [
        "# Muchas rosas de viento\n",
        "# -----------------------\n",
        "windRose(mydata,\n",
        "  type = \"year\",\n",
        "  layout = c(4, 2)\n",
        ")"
      ],
      "metadata": {
        "id": "3eYmSDMicN19"
      },
      "execution_count": null,
      "outputs": []
    }
  ]
}