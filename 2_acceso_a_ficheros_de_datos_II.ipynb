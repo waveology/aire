{
  "nbformat": 4,
  "nbformat_minor": 0,
  "metadata": {
    "colab": {
      "provenance": [],
      "toc_visible": true,
      "authorship_tag": "ABX9TyPHWXKbJQJMHZiQAU3ZAVRB",
      "include_colab_link": true
    },
    "kernelspec": {
      "name": "python3",
      "display_name": "Python 3"
    },
    "language_info": {
      "name": "python"
    }
  },
  "cells": [
    {
      "cell_type": "markdown",
      "metadata": {
        "id": "view-in-github",
        "colab_type": "text"
      },
      "source": [
        "<a href=\"https://colab.research.google.com/github/waveology/aire/blob/main/2_acceso_a_ficheros_de_datos_II.ipynb\" target=\"_parent\"><img src=\"https://colab.research.google.com/assets/colab-badge.svg\" alt=\"Open In Colab\"/></a>"
      ]
    },
    {
      "cell_type": "markdown",
      "source": [
        "# El acceso a datos almacenados en ficheros II"
      ],
      "metadata": {
        "id": "Ne1ehplL3XWb"
      }
    },
    {
      "cell_type": "markdown",
      "source": [
        "En este notebook vamos a empaquetar las instrucciones de preproceso de datos de fichero en una función para darle un uso más versátil."
      ],
      "metadata": {
        "id": "-GGtsV8bWb3a"
      }
    },
    {
      "cell_type": "markdown",
      "source": [
        "###1. Definición de la función \n",
        "---"
      ],
      "metadata": {
        "id": "CEE2M99S3oO-"
      }
    },
    {
      "cell_type": "code",
      "execution_count": null,
      "metadata": {
        "id": "yUHr0xjHWP0B"
      },
      "outputs": [],
      "source": [
        "def obtener_datos(anio=2023, magnitud=8, estacion=14, municipio=65) :\n",
        "\n",
        "   import pandas as pd\n",
        "\n",
        "   # Datos de contaminación de la Comunidad de Madrid\n",
        "   # -------------------------------------------------\n",
        "   url = \"https://raw.githubusercontent.com/waveology/aire/main/datos/comunidad\"\n",
        "\n",
        "   # Descarga los datos si no se han descargado previamente\n",
        "   # ------------------------------------------------------------\n",
        "   ![ ! -f {anio}.csv ] && wget {url}/{anio}.csv -O {anio}.csv\n",
        "\n",
        "   # Lee el fichero de datos\n",
        "   # -----------------------\n",
        "   fichero = '%s.csv' % anio\n",
        "   df = pd.read_csv(fichero,  \n",
        "                 sep=';', \n",
        "                 decimal=',')\n",
        "   # Filtramos por magnitud, estación y municipio\n",
        "   # --------------------------------------------      \n",
        "   df = df[ (df['magnitud']  ==  magnitud) \n",
        "       &    (df['estacion']  == estacion) \n",
        "       &    (df['municipio'] == municipio)]\n",
        "\n",
        "   # Eliminamos columnas no necesarias\n",
        "   # -----------------------------------\n",
        "   df = df.drop(columns=['provincia','municipio','estacion','punto_muestreo','magnitud'])\n",
        "\n",
        "   # Pasamos la hora que está en columnas a datos en filas\n",
        "   # ---------------------------------------------------------\n",
        "   df1 = df.melt(id_vars=['ano','mes','dia'],\n",
        "                 value_vars = [ 'h%02d' % i for i in range(1,25)],\n",
        "                 var_name='hora',\n",
        "                 value_name='valor'\n",
        "                 )\n",
        "\n",
        "   # Convertimos la cadena de texto con el dato horario a valor numérico\n",
        "   # --------------------------------------------------------------------\n",
        "   df1['hora'] = df1['hora'].apply(lambda x : int(x[1:]))\n",
        "\n",
        "   # Pasamos la validez que está en columnas a datos en filas\n",
        "   # ---------------------------------------------------------\n",
        "   df2 = df.melt(id_vars=['ano','mes','dia'],\n",
        "                 value_vars = [ 'v%02d' % i for i in range(1,25)],\n",
        "                 var_name='hora',\n",
        "                 value_name='flag'\n",
        "                 )\n",
        "\n",
        "   # Convertimos la cadena de texto con la validez del dato a valor numérico\n",
        "   # ------------------------------------------------------------------------   \n",
        "   df2['hora'] = df2['hora'].apply(lambda x : int(x[1:]))\n",
        "\n",
        "   # Fusionamos ambos dataframes\n",
        "   # ----------------------------\n",
        "   df = df1.merge(df2)\n",
        "\n",
        "   # Eliminamos los datos no válidos y eliminamos la columna de validez\n",
        "   # -------------------------------------------------------------------\n",
        "   df = df[df['flag'] == 'V'].drop(columns='flag')\n",
        "\n",
        "   # Creamos una columna para el tiempo\n",
        "   # -----------------------------------\n",
        "   df['fecha'] = pd.to_datetime({'year':df.ano,'month':df.mes,'day':df.dia,'hour':df.hora})\n",
        "\n",
        "   # Elimninamos columnas no necesarias\n",
        "   # -------------------------------------\n",
        "   df = df.drop(columns=['ano','mes','dia','hora'])\n",
        "\n",
        "   # Reordenamos las columnas (no es necesario)\n",
        "   df = df[['fecha','valor']]\n",
        "\n",
        "   # Establecemos el tiempo como índice\n",
        "   # ------------------------------------\n",
        "   df.set_index(['fecha'],inplace=True)\n",
        "\n",
        "   # Ordenamos los datos por tiempo creciente\n",
        "   df.sort_index(inplace=True)\n",
        "   \n",
        "   #Info\n",
        "   print('Leídos %d datos' % len(df))\n",
        "   \n",
        "   return df"
      ]
    },
    {
      "cell_type": "markdown",
      "source": [
        "###2. Invocando la función\n",
        "---"
      ],
      "metadata": {
        "id": "NbR-kPj36AXy"
      }
    },
    {
      "cell_type": "code",
      "source": [
        "anio = 2022\n",
        "no2_getafe   = obtener_datos(anio=anio, magnitud=8, estacion=14, municipio=65)\n",
        "no2_guadalix = obtener_datos(anio=anio, magnitud=8, estacion=1,  municipio=67)"
      ],
      "metadata": {
        "id": "LEhXebNSE5_K"
      },
      "execution_count": null,
      "outputs": []
    },
    {
      "cell_type": "code",
      "source": [
        "print(no2_getafe)\n",
        "print(no2_guadalix)"
      ],
      "metadata": {
        "id": "vJcn994pHmnj"
      },
      "execution_count": null,
      "outputs": []
    },
    {
      "cell_type": "markdown",
      "source": [
        "Generamos graficos para ambos registros"
      ],
      "metadata": {
        "id": "G38yuFgHsWL7"
      }
    },
    {
      "cell_type": "code",
      "source": [
        "no2_getafe.plot(\n",
        "        fontsize=12,\n",
        "        figsize=(15,10),\n",
        "        marker='o',\n",
        "        ms=5,\n",
        "        lw=1,\n",
        "        grid=True,\n",
        "        legend=False,\n",
        "        title = 'Concentración de NO$_{2}$ ($\\mu$g/m$^{3}$) medida en la estación de Getafe'\n",
        "        )\n",
        "\n",
        "no2_guadalix.plot(\n",
        "        fontsize=12,\n",
        "        figsize=(15,10),\n",
        "        marker='o',\n",
        "        ms=5,\n",
        "        lw=1,\n",
        "        grid=True,\n",
        "        legend=False,\n",
        "        title = 'Concentración de NO$_{2}$ ($\\mu$g/m$^{3}$) medida en la estación de Guadalix de la Sierra'\n",
        "        )\n"
      ],
      "metadata": {
        "id": "aMRxAlGwvMDW"
      },
      "execution_count": null,
      "outputs": []
    },
    {
      "cell_type": "code",
      "source": [
        "import matplotlib.pyplot as plt\n",
        "\n",
        "fig,ax = plt.subplots(figsize=(15,10))\n",
        "\n",
        "ax.plot(no2_getafe.index, no2_getafe.valor, marker='o', ms=5, lw=1, color='blue',label='Getafe')\n",
        "ax.plot(no2_guadalix.index, no2_guadalix.valor, marker='o', ms=5, lw=1, color='red',label='Guadalix')\n",
        "ax.grid()\n",
        "ax.legend()\n"
      ],
      "metadata": {
        "id": "YbAc3gEVIMaY"
      },
      "execution_count": null,
      "outputs": []
    },
    {
      "cell_type": "code",
      "source": [
        "fig,ax = plt.subplots(2,1,figsize=(15,8))\n",
        "\n",
        "ax[0].plot(no2_getafe.index, no2_getafe.valor, marker='o', ms=5, lw=1, color='blue')\n",
        "ax[0].set_title('Getafe',size=18)\n",
        "ax[1].plot(no2_guadalix.index, no2_guadalix.valor, marker='o', ms=5, lw=1, color='red')\n",
        "ax[1].set_title('Guadalix',size=18)\n",
        "plt.suptitle('Concentración de NO$_{2}$ ($\\mu$g/m$^{3}$)  Año %s' % (anio),size=20)\n",
        "for a in ax :\n",
        "  a.grid(True)"
      ],
      "metadata": {
        "id": "n_GGjPbGPwwt"
      },
      "execution_count": null,
      "outputs": []
    },
    {
      "cell_type": "code",
      "source": [
        "no2_getafe_2019   = obtener_datos(anio=2019, magnitud=8, estacion=14,  municipio=65)\n",
        "no2_getafe_2020   = obtener_datos(anio=2020, magnitud=8, estacion=14,  municipio=65)\n",
        "\n"
      ],
      "metadata": {
        "id": "o0_TB9-WSHNB"
      },
      "execution_count": null,
      "outputs": []
    },
    {
      "cell_type": "code",
      "source": [
        "fig,ax = plt.subplots(figsize=(15,10))\n",
        "\n",
        "ax.plot(no2_getafe_2019.index, no2_getafe_2019.valor, marker='o', ms=5, lw=1, color='blue',label='2019')\n",
        "ax.plot(no2_getafe_2020.index, no2_getafe_2020.valor, marker='o', ms=5, lw=1, color='red',label='2020')\n",
        "ax.set_title('Concentración de NO$_{2}$ ($\\mu$g/m$^{3}$) en Getafe')\n",
        "ax.grid()\n",
        "ax.legend()"
      ],
      "metadata": {
        "id": "c5SiL1gmToeV"
      },
      "execution_count": null,
      "outputs": []
    },
    {
      "cell_type": "code",
      "source": [
        "no2_mostoles_2019   = obtener_datos(anio=2019, magnitud=8, estacion=5,  municipio=92)\n",
        "no2_mostoles_2020   = obtener_datos(anio=2020, magnitud=8, estacion=5,  municipio=92)"
      ],
      "metadata": {
        "id": "W7IGyEG5XRAl"
      },
      "execution_count": null,
      "outputs": []
    },
    {
      "cell_type": "code",
      "source": [
        "fig,ax = plt.subplots(figsize=(15,10))\n",
        "\n",
        "ax.plot(no2_mostoles_2019.index, no2_mostoles_2019.valor, marker='o', ms=5, lw=1, color='blue',label='2019')\n",
        "ax.plot(no2_mostoles_2020.index, no2_mostoles_2020.valor, marker='o', ms=5, lw=1, color='red',label='2020')\n",
        "ax.set_title('Concentración de NO$_{2}$ ($\\mu$g/m$^{3}$) en Móstoles')\n",
        "ax.grid()\n",
        "ax.legend()"
      ],
      "metadata": {
        "id": "N7eubAsrXhEP"
      },
      "execution_count": null,
      "outputs": []
    }
  ]
}