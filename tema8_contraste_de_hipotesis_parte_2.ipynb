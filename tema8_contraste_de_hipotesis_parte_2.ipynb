{
  "nbformat": 4,
  "nbformat_minor": 0,
  "metadata": {
    "colab": {
      "provenance": [],
      "toc_visible": true,
      "authorship_tag": "ABX9TyOg1qah/JArsP0or7boiTTf",
      "include_colab_link": true
    },
    "kernelspec": {
      "name": "python3",
      "display_name": "Python 3"
    },
    "language_info": {
      "name": "python"
    }
  },
  "cells": [
    {
      "cell_type": "markdown",
      "metadata": {
        "id": "view-in-github",
        "colab_type": "text"
      },
      "source": [
        "<a href=\"https://colab.research.google.com/github/waveology/aire/blob/main/tema8_contraste_de_hipotesis_parte_2.ipynb\" target=\"_parent\"><img src=\"https://colab.research.google.com/assets/colab-badge.svg\" alt=\"Open In Colab\"/></a>"
      ]
    },
    {
      "cell_type": "markdown",
      "source": [
        "# Contraste de hipótesis II"
      ],
      "metadata": {
        "id": "crfGnGpVlF9C"
      }
    },
    {
      "cell_type": "markdown",
      "source": [
        "* Vamos a aplicar el contraste de hipótesis al análisis de datos de calidad del aire. \n",
        "\n",
        "* Usaremos, como hasta ahora datos, de libre acceso: \n",
        "  * [meteorológicos de AEMET](https://https://datos.comunidad.madrid/catalogo/dataset/calidad_aire_datos_meteo_historico) \n",
        "  * [de contaminación de la Comunidad de Madrid](https://https://datos.comunidad.madrid/catalogo/dataset/calidad_aire_datos_historico)."
      ],
      "metadata": {
        "id": "y3nJxRpslS5R"
      }
    },
    {
      "cell_type": "markdown",
      "source": [
        "###1. Copia del repositorio de datos\n",
        "---"
      ],
      "metadata": {
        "id": "YQsi3b0Lq4-H"
      }
    },
    {
      "cell_type": "markdown",
      "source": [
        "* Descargamos el repositorio de código y datos para trabajar más cómodamente:"
      ],
      "metadata": {
        "id": "-o3G-_7Wyerw"
      }
    },
    {
      "cell_type": "code",
      "source": [
        "# Directorio de trabajo en Colab \n",
        "# ------------------------------------------------------------\n",
        "%cd /content\n",
        "\n",
        "# Si existe una copia previa del repositorio, la borramos:\n",
        "# ----------------------------------------------------------------------------\n",
        "!  rm -rf aire\n",
        "\n",
        "# Creamos una copia del repositorio SOLO si no existe previamente\n",
        "# ----------------------------------------------------------------------------\n",
        "! [ ! -d aire ] && git clone https://github.com/waveology/aire.git\n",
        "\n",
        "# Entramos en el repositorio que acabamos de copiar\n",
        "# --------------------------------------------------\n",
        "%cd aire"
      ],
      "metadata": {
        "id": "cyNmTWPgCFMY"
      },
      "execution_count": null,
      "outputs": []
    },
    {
      "cell_type": "markdown",
      "source": [
        "* Importamos las extensiones que vamos a necesitar. \n",
        "\n",
        "* Para simplificar la tarea hemos empaquetado las funciones de lectura de datos en un fichero independiente (lectura_de_datos.py) "
      ],
      "metadata": {
        "id": "jnTZ1fEu_Y5-"
      }
    },
    {
      "cell_type": "code",
      "source": [
        "import lectura_de_datos           # lee ficheros de datos meteorológicos y de contaminación de Madrid\n",
        "import matplotlib.pyplot as plt\n",
        "from scipy import stats\n",
        "import numpy as np"
      ],
      "metadata": {
        "id": "DnsOSQsG9RX9"
      },
      "execution_count": null,
      "outputs": []
    },
    {
      "cell_type": "markdown",
      "source": [
        "###2. Inventario de magnitudes\n",
        "---"
      ],
      "metadata": {
        "id": "TdfNMqrBzzrP"
      }
    },
    {
      "cell_type": "markdown",
      "source": [
        "* Por conveniencia, hemos introducido en \"lectura_de_datos.py\" el inventario de estaciones de medida de la contaminación.\n",
        "* Listamos los campos: **código | municipio | nombre**"
      ],
      "metadata": {
        "id": "-EgX5hzMEg63"
      }
    },
    {
      "cell_type": "code",
      "source": [
        "# Simplemente escribimos el nombre de la variable para visualizar su contenido\n",
        "# -----------------------------------------------------------------------------\n",
        "lectura_de_datos.estalist_com"
      ],
      "metadata": {
        "id": "TqWXt-NLM5lI"
      },
      "execution_count": null,
      "outputs": []
    },
    {
      "cell_type": "markdown",
      "source": [
        "* Listamos los contaminantes registrados.\n",
        "* **código | magnitud | unidades**"
      ],
      "metadata": {
        "id": "oCkRdKRMoCuG"
      }
    },
    {
      "cell_type": "code",
      "source": [
        "# Simplemente escribimos el nombre de la variable para visualizar su contenido\n",
        "# -----------------------------------------------------------------------------\n",
        "lectura_de_datos.maglist_com"
      ],
      "metadata": {
        "id": "R7OTlgz9NI5j"
      },
      "execution_count": null,
      "outputs": []
    },
    {
      "cell_type": "markdown",
      "source": [
        "* Y por último, la magnitudes meteorológicas\n",
        "* **código | magnitud | unidades**"
      ],
      "metadata": {
        "id": "TCfvaJr8F0BF"
      }
    },
    {
      "cell_type": "code",
      "source": [
        "# Simplemente escribimos el nombre de la variable para visualizar su contenido\n",
        "# -----------------------------------------------------------------------------\n",
        "lectura_de_datos.maglist_meteo"
      ],
      "metadata": {
        "id": "wz38nhQWNg-t"
      },
      "execution_count": null,
      "outputs": []
    },
    {
      "cell_type": "markdown",
      "source": [
        "###3. Carga de datos\n",
        "---"
      ],
      "metadata": {
        "id": "lB9I3Y-e0gd7"
      }
    },
    {
      "cell_type": "markdown",
      "source": [
        "* Vamos a cargar datos correspondientes a dos años distintos\n"
      ],
      "metadata": {
        "id": "DUpWHT5G0stW"
      }
    },
    {
      "cell_type": "code",
      "source": [
        "\n",
        "\n",
        "# Ejemplo con datos de contaminación\n",
        "# ----------------------------------\n",
        "anio1 = '2019'\n",
        "anio2 = '2020'\n",
        "estacion = 28092005  # Móstoles\n",
        "\n",
        "# Contaminantes\n",
        "# ----------------------\n",
        "\n",
        "# Primer ejemplo\n",
        "# --------------\n",
        "magnitud = 10   # PM10\n",
        "\n",
        "# Segundo ejemplo\n",
        "# --------------\n",
        "#magnitud =  8   # NO2\n",
        "\n",
        "df1, magnitud1, unidades1,estacion1 = lectura_de_datos.contaminacion(\n",
        "                                    'datos/contaminacion/%s.csv' % anio1,\n",
        "                                     codigo_magnitud = magnitud,\n",
        "                                     codigo_estacion = estacion\n",
        "                                     ) \n",
        "\n",
        "df2, magnitud2, unidades2,estacion2 = lectura_de_datos.contaminacion(\n",
        "                                    'datos/contaminacion/%s.csv' % anio2,\n",
        "                                     codigo_magnitud = magnitud,\n",
        "                                     codigo_estacion = estacion\n",
        "                                     ) \n",
        "\n",
        "df1.rename(columns={'valor':anio1}, inplace=True)\n",
        "df2.rename(columns={'valor':anio2}, inplace=True)\n",
        "\n",
        "print(df1.describe())\n",
        "print(df2.describe())"
      ],
      "metadata": {
        "id": "325Q-Kqw1pIf"
      },
      "execution_count": null,
      "outputs": []
    },
    {
      "cell_type": "markdown",
      "source": [
        "* ¿Hay diferencias entre los valores medios de ambas series?\n",
        "* ¿Son esas diferencias ***significativas*** o mero producto del azar?\n",
        "* Recordemos que lo que observamos es una *realización* de entre múltiples posibilidades similares pero no idénticas."
      ],
      "metadata": {
        "id": "udL6jsCpTXDs"
      }
    },
    {
      "cell_type": "code",
      "source": [
        "# Diferencia en la media\n",
        "# -------------------------------------\n",
        "diff = 100*(1-df2[anio2].mean()/df1[anio1].mean())\n",
        "\n",
        "print('En %s, la media del año %s se redujo en un %.1f%%' % (anio2,anio1,diff))"
      ],
      "metadata": {
        "id": "VskjkA8ugnq9"
      },
      "execution_count": null,
      "outputs": []
    },
    {
      "cell_type": "markdown",
      "source": [
        "###4. Inspección visual\n",
        "---"
      ],
      "metadata": {
        "id": "8fhJiZOzrOhA"
      }
    },
    {
      "cell_type": "markdown",
      "source": [
        "* Echamos un vistazo a ambas series temporales para estimar visualmente si hay cambios apreciables"
      ],
      "metadata": {
        "id": "sfhHXsgvH0u2"
      }
    },
    {
      "cell_type": "code",
      "source": [
        "# Cada serie en un gráfico independiente\n",
        "# ---------------------------------------\n",
        "fig, ax = plt.subplots(nrows=2,ncols=2,figsize=(12,8))\n",
        "\n",
        "# Serie temporal año 1\n",
        "# -----------------------------------\n",
        "ax[0,0].plot(df1[anio1],label=anio1)\n",
        "ax[0,0].set_ylim(0,180)\n",
        "\n",
        "# Histograma año 1\n",
        "# ------------------------------------\n",
        "ax[0,1].hist(df1[anio1],label=anio1,bins=30)\n",
        "ax[0,1].set_xlim(0,100)\n",
        "ax[0,1].set_ylim(0,2600)\n",
        "ax[0,1].set_title('mediana=%.2f   media=%.2f' %(df1[anio1].median(),df1[anio1].mean()))\n",
        "ax[0,1].axvline(df1[anio1].mean(),color='red',lw=2,ls='--')\n",
        "ax[0,1].axvline(df2[anio2].median(),color='black',lw=2,ls='--')\n",
        "\n",
        "# Serie temporal año 2\n",
        "# -----------------------------------\n",
        "ax[1,0].plot(df2[anio2],label=anio2)\n",
        "ax[1,0].set_ylim(0,180)\n",
        "\n",
        "# Histograma año 2\n",
        "# -------------------------------------\n",
        "ax[1,1].hist(df2[anio2],label=anio2,bins=30)\n",
        "ax[1,1].set_xlim(0,100)\n",
        "ax[1,1].set_ylim(0,2600)\n",
        "ax[1,1].set_title('mediana=%.2f   media=%.2f' %(df2[anio2].median(),df2[anio2].mean()))\n",
        "ax[1,1].axvline(df2[anio2].mean(),color='red',lw=2,ls='--')\n",
        "ax[1,1].axvline(df2[anio2].median(),color='black',lw=2,ls='--')\n",
        "\n",
        "for a in ax.flatten() :\n",
        "   a.grid(True)\n",
        "   a.legend()\n",
        "\n",
        "plt.suptitle('%s %s %s' % (estacion1,magnitud1,unidades1))   \n",
        "plt.show()"
      ],
      "metadata": {
        "id": "P9nMegxcHtrX"
      },
      "execution_count": null,
      "outputs": []
    },
    {
      "cell_type": "markdown",
      "source": [
        "###5. ¿Es la misma distribución?\n",
        "---"
      ],
      "metadata": {
        "id": "lhXQIRsHfi3u"
      }
    },
    {
      "cell_type": "markdown",
      "source": [
        "* Hay muchos tests estadísticos de uso común en contraste de hipótesis\n",
        "* Unos son más robustos que otros.\n",
        "* Unos funcionan mejor con muestras de determinado tamaño.\n",
        "* El Test **U de Mann-Withney** se usa para comparar distribuciones"
      ],
      "metadata": {
        "id": "H4WpPAsekGNi"
      }
    },
    {
      "cell_type": "code",
      "source": [
        "# Ejemplo de comparación de dos \n",
        "# muestras de una misma población\n",
        "# ---------------------------------------\n",
        "A = np.random.normal(size=1000,loc=0,scale=1)\n",
        "B = np.random.normal(size=1000,loc=0,scale=1)\n",
        "fig,ax = plt.subplots(1,2)\n",
        "ax[0].hist(A,bins=50)\n",
        "ax[1].hist(B,bins=50)\n",
        "for a in ax:\n",
        "  a.grid(True)\n",
        "  a.set_ylim(0,70)\n",
        "  a.set_xlim(-3,3)\n",
        "plt.show()\n",
        "\n",
        "st,p_valor = stats.mannwhitneyu(A,B)\n",
        "print('p_valor=%.4f' % p_valor)"
      ],
      "metadata": {
        "id": "etnpy5ZolIvX"
      },
      "execution_count": null,
      "outputs": []
    },
    {
      "cell_type": "markdown",
      "source": [
        "###6. Hipótesis\n",
        "---"
      ],
      "metadata": {
        "id": "KP_shG40qdTs"
      }
    },
    {
      "cell_type": "markdown",
      "source": [
        "* Vamos a suponer que se trata de la misma distribución y que las diferencias observadas en los estadísticos son debidas al azar\n",
        "* Esa será la hipótesis de partida\n",
        "* Usaremos el test U de Mann Whitney para determinar la probabilidad de que ambas series correspondan a la misma población\n",
        "* Compararemos el p-valor resultante con el nivel de significación que atribuimos al test, por ejemplo 5%\n",
        "* Decidiremos si aceptamos o rechazamos la hipótesis nula"
      ],
      "metadata": {
        "id": "5SoGBaQUidwR"
      }
    },
    {
      "cell_type": "code",
      "source": [
        "# Aplicamos el test U de Mann-Whitney a nuestras series\n",
        "# ------------------------------------------------------\n",
        "st,p_valor = stats.mannwhitneyu(df1[anio1],df2[anio2])\n",
        "print('p_valor=%e' % p_valor)"
      ],
      "metadata": {
        "id": "eif7AXL_ibQv"
      },
      "execution_count": null,
      "outputs": []
    },
    {
      "cell_type": "code",
      "source": [
        "# Nivel de significación\n",
        "# ----------------------\n",
        "alfa = 0.05\n",
        "\n",
        "# Resultado\n",
        "# ----------\n",
        "if p_valor < alfa :\n",
        "    print('Rechazamos la hipótesis de partida (hay suficiente evidencia en contra)')\n",
        "else :\n",
        "    print('Nos quedamos con la hipótesis de partida (no hay suficiente evidencia en contra)')\n"
      ],
      "metadata": {
        "id": "w08KC88msEiX"
      },
      "execution_count": null,
      "outputs": []
    },
    {
      "cell_type": "markdown",
      "source": [
        "###7. Resumen\n",
        "---"
      ],
      "metadata": {
        "id": "4Y8ZxYyzqCZL"
      }
    },
    {
      "cell_type": "markdown",
      "source": [
        "* En este notebook hemos visto un caso práctico de aplicación del contraste de hipótesis para la toma de decisiones.\n",
        "\n",
        " * Hemos comparado dos series temporales anuales de manera enteramente subjetiva (visualmente)\n",
        " * Hemos comprobado que las medidas de tendencia central presentan diferencias\n",
        " * Nos preguntamos si las diferencias son **significativas** desde un punto de vista estadístico\n",
        " * Recurrimos a un test U de Mann-Whitney para estimar si ambas series son muestras de una misma población\n",
        " * Comparando el p-valor del test con el nivel de significación decidimos tomamos una decisión."
      ],
      "metadata": {
        "id": "BvZDQXVzqPCv"
      }
    }
  ]
}